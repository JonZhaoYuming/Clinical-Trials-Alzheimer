{
 "cells": [
  {
   "cell_type": "code",
   "execution_count": 1770,
   "metadata": {},
   "outputs": [
    {
     "name": "stdout",
     "output_type": "stream",
     "text": [
      "['host=aact-db.ctti-clinicaltrials.org', 'dbname=aact', 'user=csyuming', 'password=19911030']\n"
     ]
    }
   ],
   "source": [
    "import psycopg2\n",
    "import pandas as pd\n",
    "pd.set_option('display.max_columns', 500)\n",
    "pd.set_option('display.max_rows', 100)\n",
    "import re\n",
    "\n",
    "host = 'aact-db.ctti-clinicaltrials.org'\n",
    "port = '5432'\n",
    "user = ''\n",
    "password = ''\n",
    "database = 'aact'\n",
    "\n",
    "conn_str = \"host={} dbname={} user={} password={}\".format(host, database, user, password)\n",
    "conn = psycopg2.connect(conn_str)\n",
    "print(conn_str.split())"
   ]
  },
  {
   "cell_type": "markdown",
   "metadata": {},
   "source": [
    "### Extract Data from SQL"
   ]
  },
  {
   "cell_type": "code",
   "execution_count": 948,
   "metadata": {},
   "outputs": [],
   "source": [
    "# Alzheimer related clinical trials\n",
    "sql = \"\"\"SELECT stud.*, a.name AS sponsor_name, a.agency_class, i.name AS drug_name , i.intervention_type\n",
    "            FROM studies stud \n",
    "            INNER JOIN (SELECT * FROM sponsors WHERE lead_or_collaborator = 'lead') a ON a.nct_id = stud.nct_id \n",
    "            INNER JOIN (SELECT DISTINCT name, nct_id, intervention_type FROM interventions) i ON i.nct_id = stud.nct_id \n",
    "            WHERE stud.nct_id IN (SELECT nct_id FROM browse_conditions WHERE downcase_mesh_term LIKE '%alzheimer%')\n",
    "            AND stud.study_type = 'Interventional'\n",
    "            AND (intervention_type = 'Drug')\n",
    "            AND stud.nct_id IN (SELECT nct_id FROM designs WHERE primary_purpose = 'Treatment')\n",
    "            \"\"\"\n",
    "df=pd.read_sql(sql, con=conn)"
   ]
  },
  {
   "cell_type": "code",
   "execution_count": 949,
   "metadata": {},
   "outputs": [],
   "source": [
    "# save to local drive\n",
    "df.to_csv('Alzheimer_Clinical_Trails.csv', index=False)"
   ]
  },
  {
   "cell_type": "code",
   "execution_count": 950,
   "metadata": {},
   "outputs": [
    {
     "data": {
      "text/plain": [
       "Drug    1378\n",
       "Name: intervention_type, dtype: int64"
      ]
     },
     "execution_count": 950,
     "metadata": {},
     "output_type": "execute_result"
    }
   ],
   "source": [
    "df = pd.read_csv('./Alzheimer_Clinical_Trails.csv')\n",
    "df.intervention_type.value_counts()"
   ]
  },
  {
   "cell_type": "code",
   "execution_count": 951,
   "metadata": {},
   "outputs": [],
   "source": [
    "df1 = df.copy()"
   ]
  },
  {
   "cell_type": "markdown",
   "metadata": {},
   "source": [
    "### Explorary Data Analysis"
   ]
  },
  {
   "cell_type": "markdown",
   "metadata": {},
   "source": [
    "Causes of duplicate ***nct_id*** in joined table\n",
    "- nct_id is primary key, it is unique in ***studies***\n",
    "- only one ***lead*** sponsor associate on nct_id\n",
    "- duplicate nct_id in the joined table is caused by ***one-to-many*** relationship between ***studies*** and ***interventions***  \n",
    "\n",
    "We are going to try to clean the format of drug name next. Many contain dosage in the name."
   ]
  },
  {
   "cell_type": "code",
   "execution_count": 952,
   "metadata": {},
   "outputs": [
    {
     "data": {
      "text/plain": [
       "NCT01677754    6\n",
       "NCT00766363    6\n",
       "NCT03030105    6\n",
       "NCT00874939    5\n",
       "NCT02788513    5\n",
       "              ..\n",
       "NCT00566501    2\n",
       "NCT00744978    2\n",
       "NCT02547818    2\n",
       "NCT02840279    2\n",
       "NCT00440050    2\n",
       "Name: nct_id, Length: 446, dtype: int64"
      ]
     },
     "execution_count": 952,
     "metadata": {},
     "output_type": "execute_result"
    }
   ],
   "source": [
    "# duplicate nut_id\n",
    "df1['nct_id'].value_counts()[df1['nct_id'].value_counts()>1]"
   ]
  },
  {
   "cell_type": "markdown",
   "metadata": {},
   "source": [
    "#### Clean Drug Names Contain ***'mg/'*** ####"
   ]
  },
  {
   "cell_type": "code",
   "execution_count": 953,
   "metadata": {},
   "outputs": [],
   "source": [
    "# clean drug name contains 'mg/day'\n",
    "ix = df1[df1['drug_name'].str.contains('mg/')].index\n",
    "loc = [i.find(' ') for i in df1[df1['drug_name'].str.contains('mg/')]['drug_name']]\n",
    "\n",
    "for i,l in zip(ix,loc):\n",
    "    df1.loc[i, 'drug_name'] = df1.loc[i, 'drug_name'][:l]"
   ]
  },
  {
   "cell_type": "code",
   "execution_count": 954,
   "metadata": {},
   "outputs": [
    {
     "data": {
      "text/html": [
       "<div>\n",
       "<style scoped>\n",
       "    .dataframe tbody tr th:only-of-type {\n",
       "        vertical-align: middle;\n",
       "    }\n",
       "\n",
       "    .dataframe tbody tr th {\n",
       "        vertical-align: top;\n",
       "    }\n",
       "\n",
       "    .dataframe thead th {\n",
       "        text-align: right;\n",
       "    }\n",
       "</style>\n",
       "<table border=\"1\" class=\"dataframe\">\n",
       "  <thead>\n",
       "    <tr style=\"text-align: right;\">\n",
       "      <th></th>\n",
       "      <th>nct_id</th>\n",
       "      <th>nlm_download_date_description</th>\n",
       "      <th>study_first_submitted_date</th>\n",
       "      <th>results_first_submitted_date</th>\n",
       "      <th>disposition_first_submitted_date</th>\n",
       "      <th>last_update_submitted_date</th>\n",
       "      <th>study_first_submitted_qc_date</th>\n",
       "      <th>study_first_posted_date</th>\n",
       "      <th>study_first_posted_date_type</th>\n",
       "      <th>results_first_submitted_qc_date</th>\n",
       "      <th>results_first_posted_date</th>\n",
       "      <th>results_first_posted_date_type</th>\n",
       "      <th>disposition_first_submitted_qc_date</th>\n",
       "      <th>disposition_first_posted_date</th>\n",
       "      <th>disposition_first_posted_date_type</th>\n",
       "      <th>last_update_submitted_qc_date</th>\n",
       "      <th>last_update_posted_date</th>\n",
       "      <th>last_update_posted_date_type</th>\n",
       "      <th>start_month_year</th>\n",
       "      <th>start_date_type</th>\n",
       "      <th>start_date</th>\n",
       "      <th>verification_month_year</th>\n",
       "      <th>verification_date</th>\n",
       "      <th>completion_month_year</th>\n",
       "      <th>completion_date_type</th>\n",
       "      <th>completion_date</th>\n",
       "      <th>primary_completion_month_year</th>\n",
       "      <th>primary_completion_date_type</th>\n",
       "      <th>primary_completion_date</th>\n",
       "      <th>target_duration</th>\n",
       "      <th>study_type</th>\n",
       "      <th>acronym</th>\n",
       "      <th>baseline_population</th>\n",
       "      <th>brief_title</th>\n",
       "      <th>official_title</th>\n",
       "      <th>overall_status</th>\n",
       "      <th>last_known_status</th>\n",
       "      <th>phase</th>\n",
       "      <th>enrollment</th>\n",
       "      <th>enrollment_type</th>\n",
       "      <th>source</th>\n",
       "      <th>limitations_and_caveats</th>\n",
       "      <th>number_of_arms</th>\n",
       "      <th>number_of_groups</th>\n",
       "      <th>why_stopped</th>\n",
       "      <th>has_expanded_access</th>\n",
       "      <th>expanded_access_type_individual</th>\n",
       "      <th>expanded_access_type_intermediate</th>\n",
       "      <th>expanded_access_type_treatment</th>\n",
       "      <th>has_dmc</th>\n",
       "      <th>is_fda_regulated_drug</th>\n",
       "      <th>is_fda_regulated_device</th>\n",
       "      <th>is_unapproved_device</th>\n",
       "      <th>is_ppsd</th>\n",
       "      <th>is_us_export</th>\n",
       "      <th>biospec_retention</th>\n",
       "      <th>biospec_description</th>\n",
       "      <th>ipd_time_frame</th>\n",
       "      <th>ipd_access_criteria</th>\n",
       "      <th>ipd_url</th>\n",
       "      <th>plan_to_share_ipd</th>\n",
       "      <th>plan_to_share_ipd_description</th>\n",
       "      <th>created_at</th>\n",
       "      <th>updated_at</th>\n",
       "      <th>sponsor_name</th>\n",
       "      <th>agency_class</th>\n",
       "      <th>drug_name</th>\n",
       "      <th>intervention_type</th>\n",
       "    </tr>\n",
       "  </thead>\n",
       "  <tbody>\n",
       "  </tbody>\n",
       "</table>\n",
       "</div>"
      ],
      "text/plain": [
       "Empty DataFrame\n",
       "Columns: [nct_id, nlm_download_date_description, study_first_submitted_date, results_first_submitted_date, disposition_first_submitted_date, last_update_submitted_date, study_first_submitted_qc_date, study_first_posted_date, study_first_posted_date_type, results_first_submitted_qc_date, results_first_posted_date, results_first_posted_date_type, disposition_first_submitted_qc_date, disposition_first_posted_date, disposition_first_posted_date_type, last_update_submitted_qc_date, last_update_posted_date, last_update_posted_date_type, start_month_year, start_date_type, start_date, verification_month_year, verification_date, completion_month_year, completion_date_type, completion_date, primary_completion_month_year, primary_completion_date_type, primary_completion_date, target_duration, study_type, acronym, baseline_population, brief_title, official_title, overall_status, last_known_status, phase, enrollment, enrollment_type, source, limitations_and_caveats, number_of_arms, number_of_groups, why_stopped, has_expanded_access, expanded_access_type_individual, expanded_access_type_intermediate, expanded_access_type_treatment, has_dmc, is_fda_regulated_drug, is_fda_regulated_device, is_unapproved_device, is_ppsd, is_us_export, biospec_retention, biospec_description, ipd_time_frame, ipd_access_criteria, ipd_url, plan_to_share_ipd, plan_to_share_ipd_description, created_at, updated_at, sponsor_name, agency_class, drug_name, intervention_type]\n",
       "Index: []"
      ]
     },
     "execution_count": 954,
     "metadata": {},
     "output_type": "execute_result"
    }
   ],
   "source": [
    "# double check \n",
    "df1[df1['drug_name'].str.contains('mg/')]"
   ]
  },
  {
   "cell_type": "markdown",
   "metadata": {},
   "source": [
    "Now, after modified drug names there should be some duplicates. We are going to drop thoes duplicates"
   ]
  },
  {
   "cell_type": "code",
   "execution_count": 955,
   "metadata": {},
   "outputs": [
    {
     "data": {
      "text/plain": [
       "13"
      ]
     },
     "execution_count": 955,
     "metadata": {},
     "output_type": "execute_result"
    }
   ],
   "source": [
    "len(df1) - len(df1.drop_duplicates())"
   ]
  },
  {
   "cell_type": "markdown",
   "metadata": {},
   "source": [
    "We are going to drop 15 rows have the same drug name"
   ]
  },
  {
   "cell_type": "code",
   "execution_count": 956,
   "metadata": {},
   "outputs": [],
   "source": [
    "df1.drop_duplicates(inplace=True)"
   ]
  },
  {
   "cell_type": "markdown",
   "metadata": {},
   "source": [
    "#### Clean Drug Names Contain mg"
   ]
  },
  {
   "cell_type": "markdown",
   "metadata": {},
   "source": [
    "- Start with drug_name has 2 letters\n",
    "- locate ' '(blanck space), if a space after mg the drug name would later words; if no space after mg then drug name would be first word"
   ]
  },
  {
   "cell_type": "markdown",
   "metadata": {},
   "source": [
    "Find rows have ***one space*** after 'mg' in drug name, example: 15mg T3D-959"
   ]
  },
  {
   "cell_type": "code",
   "execution_count": 957,
   "metadata": {
    "scrolled": false
   },
   "outputs": [
    {
     "data": {
      "text/plain": [
       "4           15mg T3D-959\n",
       "9       250mg rilapladib\n",
       "14    400mg LM11A-31-BHS\n",
       "17    800mg LM11A-31-BHS\n",
       "Name: drug_name, dtype: object"
      ]
     },
     "execution_count": 957,
     "metadata": {},
     "output_type": "execute_result"
    }
   ],
   "source": [
    "# rows has two words in drug name and contain 'mg'\n",
    "mg_one_space = df1[(df1['drug_name'].str.count(' ') == 1) & (df1['drug_name'].str.contains('mg'))]\n",
    "\n",
    "# find rows have a space after mg\n",
    "mg_one_space_after = mg_one_space[mg_one_space['drug_name'].str.contains('mg ')]\n",
    "mg_one_space_after['drug_name']"
   ]
  },
  {
   "cell_type": "code",
   "execution_count": 958,
   "metadata": {},
   "outputs": [
    {
     "name": "stderr",
     "output_type": "stream",
     "text": [
      "/Users/jonzhao/anaconda3/lib/python3.6/site-packages/pandas/core/indexing.py:494: SettingWithCopyWarning: \n",
      "A value is trying to be set on a copy of a slice from a DataFrame.\n",
      "Try using .loc[row_indexer,col_indexer] = value instead\n",
      "\n",
      "See the caveats in the documentation: http://pandas.pydata.org/pandas-docs/stable/user_guide/indexing.html#returning-a-view-versus-a-copy\n",
      "  self.obj[item] = s\n"
     ]
    }
   ],
   "source": [
    "# for loop to change the name one by one\n",
    "for ix in mg_one_space_after.index:\n",
    "    old_name = mg_one_space_after.loc[ix, 'drug_name']\n",
    "    space_location = old_name.find(' ')\n",
    "    # plus 1 to add space location\n",
    "    new_name = old_name[space_location + 1:]\n",
    "    #assign new name\n",
    "    mg_one_space.loc[ix, 'drug_name'] = new_name\n",
    "    mg_one_space_after.loc[ix, 'drug_name'] = new_name\n",
    "    df1.loc[ix, 'drug_name'] = new_name"
   ]
  },
  {
   "cell_type": "code",
   "execution_count": 959,
   "metadata": {},
   "outputs": [
    {
     "data": {
      "text/plain": [
       "4          T3D-959\n",
       "9       rilapladib\n",
       "14    LM11A-31-BHS\n",
       "17    LM11A-31-BHS\n",
       "Name: drug_name, dtype: object"
      ]
     },
     "execution_count": 959,
     "metadata": {},
     "output_type": "execute_result"
    }
   ],
   "source": [
    "# double check\n",
    "mg_one_space_after['drug_name']"
   ]
  },
  {
   "cell_type": "markdown",
   "metadata": {},
   "source": [
    "Find rows have a space before 'mg', example :'Azeliragon 5mg'"
   ]
  },
  {
   "cell_type": "code",
   "execution_count": 960,
   "metadata": {},
   "outputs": [
    {
     "data": {
      "text/plain": [
       "123       Azeliragon 5mg\n",
       "218          CNP520 15mg\n",
       "219          CNP520 50mg\n",
       "338     donepezil 5-10mg\n",
       "340        Donepezil 5mg\n",
       "1236         S47445 15mg\n",
       "1237         S47445 50mg\n",
       "1238          S47445 5mg\n",
       "1265      SB-742457 15mg\n",
       "1266      SB-742457 35mg\n",
       "Name: drug_name, dtype: object"
      ]
     },
     "execution_count": 960,
     "metadata": {},
     "output_type": "execute_result"
    }
   ],
   "source": [
    "# since we already clean the drug name has dosage after, the reset have dosage before space\n",
    "mg_one_space_before = df1[(df1['drug_name'].str.count(' ') == 1) & (df1['drug_name'].str.contains('mg'))]\n",
    "mg_one_space_before['drug_name']"
   ]
  },
  {
   "cell_type": "code",
   "execution_count": 961,
   "metadata": {
    "scrolled": true
   },
   "outputs": [],
   "source": [
    "# for loop to change the name one by one\n",
    "for ix in mg_one_space_before.index:\n",
    "    old_name = mg_one_space_before.loc[ix, 'drug_name']\n",
    "    space_location = old_name.find(' ')\n",
    "    # plus 1 to add space location\n",
    "    new_name = old_name[:space_location]\n",
    "    #assign new name\n",
    "    mg_one_space.loc[ix, 'drug_name'] = new_name\n",
    "    mg_one_space_before.loc[ix, 'drug_name'] = new_name\n",
    "    df1.loc[ix, 'drug_name'] = new_name"
   ]
  },
  {
   "cell_type": "code",
   "execution_count": 962,
   "metadata": {},
   "outputs": [
    {
     "data": {
      "text/plain": [
       "123     Azeliragon\n",
       "218         CNP520\n",
       "219         CNP520\n",
       "338      donepezil\n",
       "340      Donepezil\n",
       "1236        S47445\n",
       "1237        S47445\n",
       "1238        S47445\n",
       "1265     SB-742457\n",
       "1266     SB-742457\n",
       "Name: drug_name, dtype: object"
      ]
     },
     "execution_count": 962,
     "metadata": {},
     "output_type": "execute_result"
    }
   ],
   "source": [
    "mg_one_space_before['drug_name']"
   ]
  },
  {
   "cell_type": "markdown",
   "metadata": {},
   "source": [
    "Clean drug names have ***two spaces*** and have dosage in it\n",
    "- ***1st case***: 'mg' is in between example: 30 mg T3D-959\n",
    "- ***2nd case***: 'mg' at the end example: Atabecestat, 25 mg\n",
    "- ***3rd case***: there is no space between dosage amount and unit 'mg' example: AD-35 90mg group"
   ]
  },
  {
   "cell_type": "code",
   "execution_count": 963,
   "metadata": {},
   "outputs": [
    {
     "data": {
      "text/plain": [
       "11       30 mg T3D-959\n",
       "15       45 mg T3D-959\n",
       "55         AD-35 60 mg\n",
       "56    AD-35 60mg group\n",
       "57    AD-35 90mg group\n",
       "Name: drug_name, dtype: object"
      ]
     },
     "execution_count": 963,
     "metadata": {},
     "output_type": "execute_result"
    }
   ],
   "source": [
    "# rows has three words in drug name and contain 'mg'\n",
    "mg_two_space = df1[(df1['drug_name'].str.count(' ') == 2) & (df1['drug_name'].str.contains('mg'))]\n",
    "# number of rows\n",
    "mg_two_space['drug_name'].head()"
   ]
  },
  {
   "cell_type": "code",
   "execution_count": 964,
   "metadata": {},
   "outputs": [],
   "source": [
    "# function to split dosage for the first case\n",
    "def split_dosage(drug_name):\n",
    "    # space before and after 'mg' identify the first case\n",
    "    try:\n",
    "        return re.split(r\" mg \", drug_name)[1]\n",
    "    except:\n",
    "        return drug_name"
   ]
  },
  {
   "cell_type": "code",
   "execution_count": 965,
   "metadata": {},
   "outputs": [
    {
     "name": "stderr",
     "output_type": "stream",
     "text": [
      "/Users/jonzhao/anaconda3/lib/python3.6/site-packages/ipykernel_launcher.py:2: SettingWithCopyWarning: \n",
      "A value is trying to be set on a copy of a slice from a DataFrame.\n",
      "Try using .loc[row_indexer,col_indexer] = value instead\n",
      "\n",
      "See the caveats in the documentation: http://pandas.pydata.org/pandas-docs/stable/user_guide/indexing.html#returning-a-view-versus-a-copy\n",
      "  \n"
     ]
    }
   ],
   "source": [
    "# apply the function to drug_name column\n",
    "mg_two_space['drug_name'] = mg_two_space['drug_name'].apply(split_dosage)"
   ]
  },
  {
   "cell_type": "code",
   "execution_count": 967,
   "metadata": {
    "scrolled": true
   },
   "outputs": [
    {
     "name": "stdout",
     "output_type": "stream",
     "text": [
      "Orginal name: AD-35 60 mg\n",
      "New name after Regex split: AD-35\n"
     ]
    }
   ],
   "source": [
    "print('Orginal name: ' + mg_two_space.loc[55, 'drug_name']+\n",
    "      '\\nNew name after Regex split: '+re.split(r\"\\s\\d+\\.?\\d*\\smg$\", mg_two_space.loc[55, 'drug_name'])[0])"
   ]
  },
  {
   "cell_type": "code",
   "execution_count": 968,
   "metadata": {},
   "outputs": [],
   "source": [
    "# function to split dosage for the second case\n",
    "def split_dosage(drug_name):\n",
    "    # space before and after 'mg' identify the sencond case\n",
    "    try:\n",
    "        return re.split(r\"\\s\\d+\\.?\\d*\\smg$\", drug_name)[0]\n",
    "    except:\n",
    "        return drug_name"
   ]
  },
  {
   "cell_type": "code",
   "execution_count": 969,
   "metadata": {
    "scrolled": true
   },
   "outputs": [
    {
     "name": "stderr",
     "output_type": "stream",
     "text": [
      "/Users/jonzhao/anaconda3/lib/python3.6/site-packages/ipykernel_launcher.py:2: SettingWithCopyWarning: \n",
      "A value is trying to be set on a copy of a slice from a DataFrame.\n",
      "Try using .loc[row_indexer,col_indexer] = value instead\n",
      "\n",
      "See the caveats in the documentation: http://pandas.pydata.org/pandas-docs/stable/user_guide/indexing.html#returning-a-view-versus-a-copy\n",
      "  \n"
     ]
    }
   ],
   "source": [
    "# apply the function to drug_name column\n",
    "mg_two_space['drug_name'] = mg_two_space['drug_name'].apply(split_dosage)"
   ]
  },
  {
   "cell_type": "code",
   "execution_count": 970,
   "metadata": {
    "scrolled": false
   },
   "outputs": [
    {
     "data": {
      "text/plain": [
       "11                             T3D-959\n",
       "15                             T3D-959\n",
       "55                               AD-35\n",
       "56                    AD-35 60mg group\n",
       "57                    AD-35 90mg group\n",
       "101                       Atabecestat,\n",
       "102                       Atabecestat,\n",
       "115                AZD0530 100mg daily\n",
       "116                AZD0530 125mg daily\n",
       "337                          Donepezil\n",
       "488                             GV1001\n",
       "489                             GV1001\n",
       "515                       Idalopirdine\n",
       "537                       JNJ-54861911\n",
       "538                      JNJ-54861911,\n",
       "539                      JNJ-54861911,\n",
       "541                      JNJ-54861911,\n",
       "542                       JNJ-54861911\n",
       "543                      JNJ-54861911,\n",
       "544                      JNJ-54861911,\n",
       "545                      JNJ-54861911,\n",
       "561                        Lemborexant\n",
       "562                        Lemborexant\n",
       "563                        Lemborexant\n",
       "564                        Lemborexant\n",
       "662                            MK-0249\n",
       "663                            MK-0249\n",
       "731                        PF-01913539\n",
       "741                       Pimavanserin\n",
       "742                       Pimavanserin\n",
       "1157                        Rilapladib\n",
       "1158                        Rilapladib\n",
       "1234                           RVT-101\n",
       "1254                           SAM-531\n",
       "1255                           SAM-531\n",
       "1256                           SAM-531\n",
       "1282    Sodium oligo-mannurarate 600mg\n",
       "1283    Sodium oligo-mannurarate 900mg\n",
       "1284    Sodium oligo-mannurarate 900mg\n",
       "1315                      Talsaclidine\n",
       "1316                      Talsaclidine\n",
       "1317                      Talsaclidine\n",
       "1318                      Talsaclidine\n",
       "Name: drug_name, dtype: object"
      ]
     },
     "execution_count": 970,
     "metadata": {},
     "output_type": "execute_result"
    }
   ],
   "source": [
    "mg_two_space['drug_name']"
   ]
  },
  {
   "cell_type": "markdown",
   "metadata": {},
   "source": [
    "Looks like it works with majority drug names except few don't have space between dosage amount and unit example: ***AD-35 60mg group***. Simple Regex split would work for these"
   ]
  },
  {
   "cell_type": "code",
   "execution_count": 971,
   "metadata": {},
   "outputs": [
    {
     "name": "stdout",
     "output_type": "stream",
     "text": [
      "Orginal name: Sodium oligo-mannurarate 600mg\n",
      "New name after Regex split: Sodium oligo-mannurarate\n"
     ]
    }
   ],
   "source": [
    "print('Orginal name: ' + mg_two_space.loc[1282, 'drug_name']+\n",
    "      '\\nNew name after Regex split: '+re.split(r\"\\s\\d+mg\", mg_two_space.loc[1282, 'drug_name'])[0])"
   ]
  },
  {
   "cell_type": "code",
   "execution_count": 972,
   "metadata": {},
   "outputs": [
    {
     "name": "stderr",
     "output_type": "stream",
     "text": [
      "/Users/jonzhao/anaconda3/lib/python3.6/site-packages/ipykernel_launcher.py:9: SettingWithCopyWarning: \n",
      "A value is trying to be set on a copy of a slice from a DataFrame.\n",
      "Try using .loc[row_indexer,col_indexer] = value instead\n",
      "\n",
      "See the caveats in the documentation: http://pandas.pydata.org/pandas-docs/stable/user_guide/indexing.html#returning-a-view-versus-a-copy\n",
      "  if __name__ == '__main__':\n"
     ]
    }
   ],
   "source": [
    "# function to split dosage for the second case\n",
    "def split_dosage(drug_name):\n",
    "    # space before and after 'mg' identify the sencond case\n",
    "    try:\n",
    "        return re.split(r\"\\s\\d+mg\", drug_name)[0]\n",
    "    except:\n",
    "        return drug_name\n",
    "# apply the function to drug_name column\n",
    "mg_two_space['drug_name'] = mg_two_space['drug_name'].apply(split_dosage)"
   ]
  },
  {
   "cell_type": "code",
   "execution_count": 973,
   "metadata": {},
   "outputs": [
    {
     "data": {
      "text/plain": [
       "11                       T3D-959\n",
       "15                       T3D-959\n",
       "55                         AD-35\n",
       "56                         AD-35\n",
       "57                         AD-35\n",
       "101                 Atabecestat,\n",
       "102                 Atabecestat,\n",
       "115                      AZD0530\n",
       "116                      AZD0530\n",
       "337                    Donepezil\n",
       "488                       GV1001\n",
       "489                       GV1001\n",
       "515                 Idalopirdine\n",
       "537                 JNJ-54861911\n",
       "538                JNJ-54861911,\n",
       "539                JNJ-54861911,\n",
       "541                JNJ-54861911,\n",
       "542                 JNJ-54861911\n",
       "543                JNJ-54861911,\n",
       "544                JNJ-54861911,\n",
       "545                JNJ-54861911,\n",
       "561                  Lemborexant\n",
       "562                  Lemborexant\n",
       "563                  Lemborexant\n",
       "564                  Lemborexant\n",
       "662                      MK-0249\n",
       "663                      MK-0249\n",
       "731                  PF-01913539\n",
       "741                 Pimavanserin\n",
       "742                 Pimavanserin\n",
       "1157                  Rilapladib\n",
       "1158                  Rilapladib\n",
       "1234                     RVT-101\n",
       "1254                     SAM-531\n",
       "1255                     SAM-531\n",
       "1256                     SAM-531\n",
       "1282    Sodium oligo-mannurarate\n",
       "1283    Sodium oligo-mannurarate\n",
       "1284    Sodium oligo-mannurarate\n",
       "1315                Talsaclidine\n",
       "1316                Talsaclidine\n",
       "1317                Talsaclidine\n",
       "1318                Talsaclidine\n",
       "Name: drug_name, dtype: object"
      ]
     },
     "execution_count": 973,
     "metadata": {},
     "output_type": "execute_result"
    }
   ],
   "source": [
    "mg_two_space['drug_name']"
   ]
  },
  {
   "cell_type": "code",
   "execution_count": 974,
   "metadata": {},
   "outputs": [],
   "source": [
    "# replace the new name into our df1 dataframe\n",
    "df1.loc[mg_two_space.index, 'drug_name'] = mg_two_space['drug_name']"
   ]
  },
  {
   "cell_type": "markdown",
   "metadata": {},
   "source": [
    "Next we are going to look up drug names contain ***three spaces***. The names are geting more compalicated with more spaces involved"
   ]
  },
  {
   "cell_type": "code",
   "execution_count": 975,
   "metadata": {},
   "outputs": [
    {
     "data": {
      "text/plain": [
       "64                    AGB101 220 mg tablet\n",
       "215     CKD-355A (D797/Memantine HCl 20mg)\n",
       "216     CKD-355B (D797/Memantine HCl 20mg)\n",
       "224            Comparator: Placebo 5-10 mg\n",
       "249              D324 (Memantine HCl 10mg)\n",
       "540        JNJ-54861911, 10 milligram (mg)\n",
       "590                   LUPRON DEPOT 22.5 mg\n",
       "1134               PTI-125, 100 mg tablets\n",
       "1135                  PTI-125 50 mg tablet\n",
       "1218    Rosiglitazone Extended Release 2mg\n",
       "1219    Rosiglitazone Extended Release 2mg\n",
       "1220    Rosiglitazone Extended Release 8mg\n",
       "1221    Rosiglitazone Extended Release 8mg\n",
       "1235                 RVT-101 35 mg tablets\n",
       "Name: drug_name, dtype: object"
      ]
     },
     "execution_count": 975,
     "metadata": {},
     "output_type": "execute_result"
    }
   ],
   "source": [
    "# rows has three words in drug name and contain 'mg'\n",
    "mg_three_space = df1[(df1['drug_name'].str.count(' ') == 3) & (df1['drug_name'].str.contains('mg'))]\n",
    "# number of rows\n",
    "mg_three_space['drug_name']"
   ]
  },
  {
   "cell_type": "code",
   "execution_count": 977,
   "metadata": {},
   "outputs": [
    {
     "name": "stdout",
     "output_type": "stream",
     "text": [
      "Old name: Rosiglitazone Extended Release 2mg\n",
      "New name: Rosiglitazone Extended Release\n"
     ]
    }
   ],
   "source": [
    "print('Old name: '+mg_three_space.loc[1218, 'drug_name'] +\n",
    "      '\\nNew name: ' + re.split(r'\\s\\d+\\.?\\-?\\d*\\s*mg', mg_three_space.loc[1218, 'drug_name'])[0])"
   ]
  },
  {
   "cell_type": "code",
   "execution_count": 978,
   "metadata": {},
   "outputs": [
    {
     "name": "stderr",
     "output_type": "stream",
     "text": [
      "/Users/jonzhao/anaconda3/lib/python3.6/site-packages/ipykernel_launcher.py:8: SettingWithCopyWarning: \n",
      "A value is trying to be set on a copy of a slice from a DataFrame.\n",
      "Try using .loc[row_indexer,col_indexer] = value instead\n",
      "\n",
      "See the caveats in the documentation: http://pandas.pydata.org/pandas-docs/stable/user_guide/indexing.html#returning-a-view-versus-a-copy\n",
      "  \n"
     ]
    }
   ],
   "source": [
    "# function to split dosage for the second case\n",
    "def split_dosage(drug_name):\n",
    "    # space before and after 'mg' identify the sencond case\n",
    "    try:\n",
    "        return re.split(r'\\s\\d+\\.?\\-?\\d*\\s*mg', drug_name)[0]\n",
    "    except:\n",
    "        return drug_name\n",
    "mg_three_space['drug_name'] = mg_three_space['drug_name'].apply(split_dosage)"
   ]
  },
  {
   "cell_type": "code",
   "execution_count": 979,
   "metadata": {
    "scrolled": true
   },
   "outputs": [
    {
     "data": {
      "text/plain": [
       "64                               AGB101\n",
       "215        CKD-355A (D797/Memantine HCl\n",
       "216        CKD-355B (D797/Memantine HCl\n",
       "224                 Comparator: Placebo\n",
       "249                 D324 (Memantine HCl\n",
       "540     JNJ-54861911, 10 milligram (mg)\n",
       "590                        LUPRON DEPOT\n",
       "1134                           PTI-125,\n",
       "1135                            PTI-125\n",
       "1218     Rosiglitazone Extended Release\n",
       "1219     Rosiglitazone Extended Release\n",
       "1220     Rosiglitazone Extended Release\n",
       "1221     Rosiglitazone Extended Release\n",
       "1235                            RVT-101\n",
       "Name: drug_name, dtype: object"
      ]
     },
     "execution_count": 979,
     "metadata": {},
     "output_type": "execute_result"
    }
   ],
   "source": [
    "mg_three_space.drug_name"
   ]
  },
  {
   "cell_type": "markdown",
   "metadata": {},
   "source": [
    "We have one more need to correct, it use ***milligram*** instead of ***mg***"
   ]
  },
  {
   "cell_type": "code",
   "execution_count": 980,
   "metadata": {},
   "outputs": [
    {
     "name": "stderr",
     "output_type": "stream",
     "text": [
      "/Users/jonzhao/anaconda3/lib/python3.6/site-packages/ipykernel_launcher.py:8: SettingWithCopyWarning: \n",
      "A value is trying to be set on a copy of a slice from a DataFrame.\n",
      "Try using .loc[row_indexer,col_indexer] = value instead\n",
      "\n",
      "See the caveats in the documentation: http://pandas.pydata.org/pandas-docs/stable/user_guide/indexing.html#returning-a-view-versus-a-copy\n",
      "  \n"
     ]
    }
   ],
   "source": [
    "# function to split dosage for the second case\n",
    "def split_dosage(drug_name):\n",
    "    # space before and after 'mg' identify the sencond case\n",
    "    try:\n",
    "        return re.split(r'\\s\\d+\\.?\\d*\\smilligram\\s', drug_name)[0]\n",
    "    except:\n",
    "        return drug_name\n",
    "mg_three_space['drug_name'] = mg_three_space['drug_name'].apply(split_dosage)"
   ]
  },
  {
   "cell_type": "code",
   "execution_count": 981,
   "metadata": {},
   "outputs": [
    {
     "data": {
      "text/plain": [
       "64                              AGB101\n",
       "215       CKD-355A (D797/Memantine HCl\n",
       "216       CKD-355B (D797/Memantine HCl\n",
       "224                Comparator: Placebo\n",
       "249                D324 (Memantine HCl\n",
       "540                      JNJ-54861911,\n",
       "590                       LUPRON DEPOT\n",
       "1134                          PTI-125,\n",
       "1135                           PTI-125\n",
       "1218    Rosiglitazone Extended Release\n",
       "1219    Rosiglitazone Extended Release\n",
       "1220    Rosiglitazone Extended Release\n",
       "1221    Rosiglitazone Extended Release\n",
       "1235                           RVT-101\n",
       "Name: drug_name, dtype: object"
      ]
     },
     "execution_count": 981,
     "metadata": {},
     "output_type": "execute_result"
    }
   ],
   "source": [
    "mg_three_space.drug_name"
   ]
  },
  {
   "cell_type": "code",
   "execution_count": 982,
   "metadata": {},
   "outputs": [],
   "source": [
    "# replace the drug name to main dataframe\n",
    "df1.loc[mg_three_space.index, 'drug_name'] = mg_three_space['drug_name']"
   ]
  },
  {
   "cell_type": "markdown",
   "metadata": {},
   "source": [
    "All look good now, next we are going to work with drug names have more than three spaces"
   ]
  },
  {
   "cell_type": "code",
   "execution_count": 983,
   "metadata": {},
   "outputs": [
    {
     "data": {
      "text/plain": [
       "0                                   10 mg IR in Study 326\n",
       "8                                   23 mg SR in Study 326\n",
       "45      acetaminophen 650 mg qid and placebo qid PRN. ...\n",
       "52                        Active Treatment- CT1812 100 mg\n",
       "53                        Active Treatment- CT1812 300 mg\n",
       "54                   AD-35 30 mg + Placebo of AD-35 30 mg\n",
       "90                           Aricept (donepezil IR 10 mg)\n",
       "91                           Aricept (donepezil SR 23 mg)\n",
       "225                      Comparator: Placebo 5mg (run in)\n",
       "261             Deferiprone 600mg delayed release tablets\n",
       "280                                  Dimebon 20 mg po TID\n",
       "339                                   Donepezil 5 - 10 mg\n",
       "516                       Idalopirdine (Lu AE58054) 60 mg\n",
       "1061                      Placebo + Donepezil 5mg or 10mg\n",
       "1079                    Placebo of AD-35 60mg /AD-35 30mg\n",
       "1080                    Placebo of AD-35 60mg /AD-35 60mg\n",
       "1133                           PTI-125 100 mg oral tablet\n",
       "1350                   Verubecestat 12 mg (Parts 1 and 2)\n",
       "1351                   Verubecestat 40 mg (Parts 1 and 2)\n",
       "1376      Zydena (Udenafil) 100mg + Donepezil 5mg or 10mg\n",
       "1377       Zydena (Udenafil) 50mg + Donepezil 5mg or 10mg\n",
       "Name: drug_name, dtype: object"
      ]
     },
     "execution_count": 983,
     "metadata": {},
     "output_type": "execute_result"
    }
   ],
   "source": [
    "# rows has three words in drug name and contain 'mg'\n",
    "mg_three_space_more = df1[(df1['drug_name'].str.count(' ') > 3) & (df1['drug_name'].str.contains('mg'))]\n",
    "# number of rows\n",
    "mg_three_space_more['drug_name']"
   ]
  },
  {
   "cell_type": "code",
   "execution_count": 984,
   "metadata": {},
   "outputs": [
    {
     "name": "stderr",
     "output_type": "stream",
     "text": [
      "/Users/jonzhao/anaconda3/lib/python3.6/site-packages/ipykernel_launcher.py:8: SettingWithCopyWarning: \n",
      "A value is trying to be set on a copy of a slice from a DataFrame.\n",
      "Try using .loc[row_indexer,col_indexer] = value instead\n",
      "\n",
      "See the caveats in the documentation: http://pandas.pydata.org/pandas-docs/stable/user_guide/indexing.html#returning-a-view-versus-a-copy\n",
      "  \n"
     ]
    }
   ],
   "source": [
    "# function to split dosage for the second case\n",
    "def split_dosage(drug_name):\n",
    "    # space before and after 'mg' identify the sencond case\n",
    "    try:\n",
    "        return re.split(r'\\s\\d+\\.?\\-?\\d*\\s*mg', drug_name)[0]\n",
    "    except:\n",
    "        return drug_name\n",
    "mg_three_space_more['drug_name'] = mg_three_space_more['drug_name'].apply(split_dosage)"
   ]
  },
  {
   "cell_type": "code",
   "execution_count": 985,
   "metadata": {},
   "outputs": [
    {
     "name": "stderr",
     "output_type": "stream",
     "text": [
      "/Users/jonzhao/anaconda3/lib/python3.6/site-packages/ipykernel_launcher.py:9: SettingWithCopyWarning: \n",
      "A value is trying to be set on a copy of a slice from a DataFrame.\n",
      "Try using .loc[row_indexer,col_indexer] = value instead\n",
      "\n",
      "See the caveats in the documentation: http://pandas.pydata.org/pandas-docs/stable/user_guide/indexing.html#returning-a-view-versus-a-copy\n",
      "  if __name__ == '__main__':\n"
     ]
    }
   ],
   "source": [
    "# function to split dosage for the second case\n",
    "def split_dosage(drug_name):\n",
    "    # space before and after 'mg' identify the sencond case\n",
    "    try:\n",
    "        return re.split(r\"\\s\\d+mg\", drug_name)[0]\n",
    "    except:\n",
    "        return drug_name\n",
    "# apply the function to drug_name column\n",
    "mg_three_space_more['drug_name'] = mg_three_space_more['drug_name'].apply(split_dosage)"
   ]
  },
  {
   "cell_type": "code",
   "execution_count": 986,
   "metadata": {},
   "outputs": [],
   "source": [
    "# replace the drug name to main dataframe\n",
    "df1.loc[mg_three_space_more.index, 'drug_name'] = mg_three_space_more['drug_name']"
   ]
  },
  {
   "cell_type": "markdown",
   "metadata": {},
   "source": [
    "Since We have cleaned many drug names, now we may expect to see some duplicate rows, we are going to remove those rows"
   ]
  },
  {
   "cell_type": "code",
   "execution_count": 987,
   "metadata": {},
   "outputs": [],
   "source": [
    "df1.drop_duplicates(inplace=True,)\n",
    "df1.reset_index(drop=True, inplace=True)"
   ]
  },
  {
   "cell_type": "markdown",
   "metadata": {},
   "source": [
    "We cleaned drug names have dosage related issue, next we'll remove clinical trails whice are designed for blined test"
   ]
  },
  {
   "cell_type": "markdown",
   "metadata": {},
   "source": [
    "#### Clean Drug Names Contain Placebo ####\n",
    "\n",
    "***placebo*** is a drug for blind test, one of test group will recieve ***placebo*** which has no active ingredients referred as control group. Another group will receive the treatmet to be evaluated.  * \n",
    "\n",
    "There are common Alzheimer drugs are used in the trails as standard of care, Some related trails are testing various investigational drugs as add-on therapy to donepezil. Some are testing efficacy, safety or tolerability of marketed drugs under certain conditions** \n",
    " - donepezil\n",
    " - rivastigmine\n",
    " - galantamine\n",
    " - memantine  \n",
    "*source: design_group of NCT01677754  \n",
    "**source: https://www.alzforum.org/therapeutics/donepezil;  \n",
    "https://www.alz.org/alzheimers-dementia/treatments/medications-for-memory"
   ]
  },
  {
   "cell_type": "code",
   "execution_count": 991,
   "metadata": {},
   "outputs": [
    {
     "data": {
      "text/plain": [
       "'Study of STA-1 as an Add-on Treatment to Donepezil'"
      ]
     },
     "execution_count": 991,
     "metadata": {},
     "output_type": "execute_result"
    }
   ],
   "source": [
    "# example of add-on trails related to donepezil\n",
    "df1[df1['nct_id'] == 'NCT01255046'].loc[322, 'brief_title']"
   ]
  },
  {
   "cell_type": "code",
   "execution_count": 992,
   "metadata": {},
   "outputs": [
    {
     "data": {
      "text/plain": [
       "NCT01677754    6\n",
       "NCT03030105    6\n",
       "NCT02788513    5\n",
       "NCT02051335    5\n",
       "NCT00506415    5\n",
       "              ..\n",
       "NCT00904683    2\n",
       "NCT02127476    2\n",
       "NCT03116126    2\n",
       "NCT00684710    2\n",
       "NCT00440050    2\n",
       "Name: nct_id, Length: 440, dtype: int64"
      ]
     },
     "execution_count": 992,
     "metadata": {},
     "output_type": "execute_result"
    }
   ],
   "source": [
    "df1['nct_id'].value_counts()[df1['nct_id'].value_counts()>1]"
   ]
  },
  {
   "cell_type": "markdown",
   "metadata": {},
   "source": [
    "We still have 500+ duplicate nct_id"
   ]
  },
  {
   "cell_type": "code",
   "execution_count": 993,
   "metadata": {},
   "outputs": [],
   "source": [
    "# lowercase drug name and find 'placebo'\n",
    "ix = df1[df1['drug_name'].str.lower().str.contains('placebo')].index\n",
    "df1.drop(ix, inplace=True)\n",
    "df1.reset_index(inplace=True, drop=True)"
   ]
  },
  {
   "cell_type": "code",
   "execution_count": 994,
   "metadata": {},
   "outputs": [],
   "source": [
    "# lowercase drug name and find 'placebo'\n",
    "ix = df1[df1['drug_name'].str.lower().str.contains('donepezil')].index\n",
    "df1.drop(ix, inplace=True)\n",
    "df1.reset_index(inplace=True, drop=True)"
   ]
  },
  {
   "cell_type": "code",
   "execution_count": 995,
   "metadata": {},
   "outputs": [],
   "source": [
    "# lowercase drug name and find 'placebo'\n",
    "ix = df1[df1['drug_name'].str.lower().str.contains('rivastigmine')].index\n",
    "df1.drop(ix, inplace=True)\n",
    "df1.reset_index(inplace=True, drop=True)"
   ]
  },
  {
   "cell_type": "code",
   "execution_count": 996,
   "metadata": {},
   "outputs": [],
   "source": [
    "# lowercase drug name and find 'placebo'\n",
    "ix = df1[df1['drug_name'].str.lower().str.contains('memantine')].index\n",
    "df1.drop(ix, inplace=True)\n",
    "df1.reset_index(inplace=True, drop=True)"
   ]
  },
  {
   "cell_type": "code",
   "execution_count": 997,
   "metadata": {},
   "outputs": [],
   "source": [
    "# lowercase drug name and find 'placebo'\n",
    "ix = df1[df1['drug_name'].str.lower().str.contains('galantamine')].index\n",
    "df1.drop(ix, inplace=True)\n",
    "df1.reset_index(inplace=True, drop=True)"
   ]
  },
  {
   "cell_type": "code",
   "execution_count": 998,
   "metadata": {},
   "outputs": [],
   "source": [
    "# lowercase drug name and find 'placebo'\n",
    "ix = df1[df1['drug_name'].str.lower().str.contains('dimebon')].index\n",
    "df1.drop(ix, inplace=True)\n",
    "df1.reset_index(inplace=True, drop=True)"
   ]
  },
  {
   "cell_type": "code",
   "execution_count": 1026,
   "metadata": {},
   "outputs": [],
   "source": [
    "# lowercase drug name and find 'placebo'\n",
    "ix = df1[df1['drug_name'].str.lower().str.contains('aricept')].index\n",
    "df1.drop(ix, inplace=True)\n",
    "df1.reset_index(inplace=True, drop=True)"
   ]
  },
  {
   "cell_type": "code",
   "execution_count": 1027,
   "metadata": {},
   "outputs": [
    {
     "data": {
      "text/plain": [
       "NCT00208819    4\n",
       "NCT02388152    4\n",
       "NCT02788513    4\n",
       "NCT00015548    4\n",
       "NCT03752463    3\n",
       "              ..\n",
       "NCT03030105    2\n",
       "NCT00000179    2\n",
       "NCT01436045    2\n",
       "NCT00884533    2\n",
       "NCT01258452    2\n",
       "Name: nct_id, Length: 78, dtype: int64"
      ]
     },
     "execution_count": 1027,
     "metadata": {},
     "output_type": "execute_result"
    }
   ],
   "source": [
    "df1['nct_id'].value_counts()[df1['nct_id'].value_counts()>1]"
   ]
  },
  {
   "cell_type": "markdown",
   "metadata": {},
   "source": [
    "After removing rows contain 'placebo', we have 100+ duplicate nct_id"
   ]
  },
  {
   "cell_type": "markdown",
   "metadata": {},
   "source": [
    "#### Remove Vitamin Related Trials"
   ]
  },
  {
   "cell_type": "code",
   "execution_count": 1028,
   "metadata": {
    "scrolled": true
   },
   "outputs": [],
   "source": [
    "# drop these vitamin related trials\n",
    "ix = df1[df1['drug_name'].str.lower().str.contains('vitamin', na=False)].index\n",
    "df1.drop(ix, inplace=True)\n",
    "df1.reset_index(inplace=True, drop=True)"
   ]
  },
  {
   "cell_type": "code",
   "execution_count": 1029,
   "metadata": {
    "scrolled": false
   },
   "outputs": [
    {
     "data": {
      "text/plain": [
       "NCT00208819    4\n",
       "NCT02388152    4\n",
       "NCT02788513    4\n",
       "NCT00015548    4\n",
       "NCT03752463    3\n",
       "              ..\n",
       "NCT03030105    2\n",
       "NCT00000179    2\n",
       "NCT01436045    2\n",
       "NCT00884533    2\n",
       "NCT01258452    2\n",
       "Name: nct_id, Length: 78, dtype: int64"
      ]
     },
     "execution_count": 1029,
     "metadata": {},
     "output_type": "execute_result"
    }
   ],
   "source": [
    "df1['nct_id'].value_counts()[df1['nct_id'].value_counts()>1]"
   ]
  },
  {
   "cell_type": "markdown",
   "metadata": {},
   "source": [
    "#### Clean Minor Differences With One Space"
   ]
  },
  {
   "cell_type": "markdown",
   "metadata": {},
   "source": [
    "There are many minor adjustments we need to do for the drug names, we are going to scale the list down to ***industry(agency_class)*** only."
   ]
  },
  {
   "cell_type": "code",
   "execution_count": 1030,
   "metadata": {},
   "outputs": [],
   "source": [
    "# agency_class industry only\n",
    "df1_industry = df1[df1['agency_class']=='Industry']"
   ]
  },
  {
   "cell_type": "code",
   "execution_count": 1031,
   "metadata": {},
   "outputs": [
    {
     "name": "stdout",
     "output_type": "stream",
     "text": [
      "The number of compnies in the list: 146\n"
     ]
    }
   ],
   "source": [
    "# there are about \n",
    "print('The number of compnies in the list: {}'.format(len(df1_industry['sponsor_name'].unique())))"
   ]
  },
  {
   "cell_type": "markdown",
   "metadata": {},
   "source": [
    "Clean the rows with one space in drug name"
   ]
  },
  {
   "cell_type": "markdown",
   "metadata": {},
   "source": [
    "If rows has the same nct_id, split the drug name into two parts and use the most common part as the drug name"
   ]
  },
  {
   "cell_type": "code",
   "execution_count": 1032,
   "metadata": {},
   "outputs": [
    {
     "data": {
      "text/plain": [
       "NCT01203384    3\n",
       "NCT01258452    2\n",
       "NCT02667496    2\n",
       "NCT02244541    2\n",
       "NCT01211782    2\n",
       "Name: nct_id, dtype: int64"
      ]
     },
     "execution_count": 1032,
     "metadata": {},
     "output_type": "execute_result"
    }
   ],
   "source": [
    "# get index for drug names have one space\n",
    "nct_id_count = df1_industry[df1_industry['drug_name'].str.count(' ') == 1]['nct_id'].value_counts()\n",
    "nct_id_count[nct_id_count>1]"
   ]
  },
  {
   "cell_type": "code",
   "execution_count": 1033,
   "metadata": {},
   "outputs": [],
   "source": [
    "trial_id = nct_id_count[nct_id_count>1].index"
   ]
  },
  {
   "cell_type": "code",
   "execution_count": 1034,
   "metadata": {},
   "outputs": [
    {
     "name": "stdout",
     "output_type": "stream",
     "text": [
      "NCT01203384 ['CHF5074 1x' 'CHF5074 2x' 'CHF5074 3x']\n",
      "NCT01258452 ['CHF 5074' 'CHF 5974']\n",
      "NCT02667496 ['Florbetapir F18' 'Sargramostim GZ402664']\n",
      "NCT02244541 ['ANAVEX2-73 Intravenous' 'ANAVEX2-73 Oral']\n",
      "NCT01211782 ['caprylic triglyceride' 'long-chain triglyceride']\n"
     ]
    },
    {
     "data": {
      "text/plain": [
       "[None, None, None, None, None]"
      ]
     },
     "execution_count": 1034,
     "metadata": {},
     "output_type": "execute_result"
    }
   ],
   "source": [
    "[print(i, df1_industry[df1_industry['nct_id'] == i]['drug_name'].values) for i in trial_id]"
   ]
  },
  {
   "cell_type": "code",
   "execution_count": 1035,
   "metadata": {},
   "outputs": [
    {
     "name": "stderr",
     "output_type": "stream",
     "text": [
      "/Users/jonzhao/anaconda3/lib/python3.6/site-packages/pandas/core/indexing.py:494: SettingWithCopyWarning: \n",
      "A value is trying to be set on a copy of a slice from a DataFrame.\n",
      "Try using .loc[row_indexer,col_indexer] = value instead\n",
      "\n",
      "See the caveats in the documentation: http://pandas.pydata.org/pandas-docs/stable/user_guide/indexing.html#returning-a-view-versus-a-copy\n",
      "  self.obj[item] = s\n"
     ]
    }
   ],
   "source": [
    "# manually correct some\n",
    "df1_industry.loc[df1_industry['nct_id'] == 'NCT01203384', 'drug_name'] = 'CHF5074'\n",
    "df1_industry.loc[df1_industry['nct_id'] == 'NCT01258452', 'drug_name'] = 'CHF5074'\n",
    "df1_industry.loc[df1_industry['nct_id'] == 'NCT02667496', 'drug_name'] = 'sargramostim'\n",
    "df1_industry.loc[df1_industry['nct_id'] == 'NCT01211782', 'drug_name'] = 'triglyceride'\n",
    "df1_industry.loc[df1_industry['nct_id'] == 'NCT02244541', 'drug_name'] = 'ANAVEX2-73'\n"
   ]
  },
  {
   "cell_type": "code",
   "execution_count": 1036,
   "metadata": {},
   "outputs": [
    {
     "data": {
      "text/plain": [
       "NCT02788513    4\n",
       "NCT02388152    4\n",
       "NCT01602393    3\n",
       "NCT01421056    3\n",
       "NCT01303744    3\n",
       "NCT02353598    3\n",
       "NCT01230853    2\n",
       "NCT03867253    2\n",
       "NCT03790709    2\n",
       "NCT01513967    2\n",
       "NCT00566501    2\n",
       "NCT04052737    2\n",
       "NCT02710188    2\n",
       "NCT01739348    2\n",
       "NCT01766336    2\n",
       "NCT01569516    2\n",
       "NCT00141661    2\n",
       "Name: nct_id, dtype: int64"
      ]
     },
     "execution_count": 1036,
     "metadata": {},
     "output_type": "execute_result"
    }
   ],
   "source": [
    "# get index for drug names have more spaces\n",
    "nct_id_count = df1_industry[df1_industry['drug_name'].str.count(' ') > 1]['nct_id'].value_counts()\n",
    "nct_id_count[nct_id_count>1]"
   ]
  },
  {
   "cell_type": "code",
   "execution_count": 1037,
   "metadata": {
    "scrolled": true
   },
   "outputs": [
    {
     "name": "stdout",
     "output_type": "stream",
     "text": [
      "NCT02788513 ['BI 425809 dose 1' 'BI 425809 dose 2' 'BI 425809 dose 3'\n",
      " 'BI 425809 dose 4']\n",
      "NCT02388152 ['Lu AF20513, double high dose' 'Lu AF20513, high dose'\n",
      " 'Lu AF20513, low dose' 'Lu AF20513, medium dose']\n",
      "NCT01602393 ['CHF 5074 1x' 'CHF 5074 2x' 'CHF 5074 3x']\n",
      "NCT01421056 ['CHF 5074 1x' 'CHF 5074 2x' 'CHF 5074 3x']\n",
      "NCT01303744 ['CHF 5074 1x' 'CHF 5074 2x' 'CHF 5074 3x']\n",
      "NCT02353598 ['Crenezumab dose level 1' 'Crenezumab dose level 2'\n",
      " 'Crenezumb dose level 3']\n",
      "NCT01230853 ['Active Comparator: A' 'Active Comparator B']\n",
      "NCT03867253 ['ORY-2001 High dose' 'ORY-2001 Low dose']\n",
      "NCT03790709 ['High dose ANAVEX2-73' 'Mid dose ANAVEX2-73']\n",
      "NCT01513967 ['RPh201, botanical drug product' 'RPh201, botanical extract product']\n",
      "NCT00566501 ['10 mg IR in Study 326' '23 mg SR in Study 326']\n",
      "NCT04052737 ['Normal Saline along with standard treatment'\n",
      " 'PMZ-1620 (sovateltide) along with standard treatment']\n",
      "NCT02710188 ['HTL0009936 immediate release' 'HTL0009936 modified release']\n",
      "NCT01739348 ['Verubecestat (Part I and Part II)' 'Verubecestat (Part II)']\n",
      "NCT01766336 ['Group 1 ELND005' 'Group 2 ELND005']\n",
      "NCT01569516 ['Octohydroaminoacridine succinate Tablets'\n",
      " 'Octohydroaminoacridine Succinate Tablets']\n",
      "NCT00141661 ['PF-04494700 - High Dose Arm' 'PF-04494700 - Low Dose Arm']\n"
     ]
    },
    {
     "data": {
      "text/plain": [
       "[None,\n",
       " None,\n",
       " None,\n",
       " None,\n",
       " None,\n",
       " None,\n",
       " None,\n",
       " None,\n",
       " None,\n",
       " None,\n",
       " None,\n",
       " None,\n",
       " None,\n",
       " None,\n",
       " None,\n",
       " None,\n",
       " None]"
      ]
     },
     "execution_count": 1037,
     "metadata": {},
     "output_type": "execute_result"
    }
   ],
   "source": [
    "trial_id = nct_id_count[nct_id_count>1].index\n",
    "[print(i, df1_industry[df1_industry['nct_id'] == i]['drug_name'].values) for i in trial_id]"
   ]
  },
  {
   "cell_type": "code",
   "execution_count": 1038,
   "metadata": {},
   "outputs": [],
   "source": [
    "# manually modify the name\n",
    "df1_industry.loc[df1_industry['nct_id'] == 'NCT02788513', 'drug_name'] = 'BI 425809'\n",
    "df1_industry.loc[df1_industry['nct_id'] == 'NCT02388152', 'drug_name'] = 'Lu AF20513'\n",
    "df1_industry.loc[df1_industry['nct_id'] == 'NCT01602393', 'drug_name'] = 'CHF5074'\n",
    "df1_industry.loc[df1_industry['nct_id'] == 'NCT01421056', 'drug_name'] = 'CHF5074'\n",
    "\n",
    "df1_industry.loc[df1_industry['nct_id'] == 'NCT01303744', 'drug_name'] = 'CHF5074'\n",
    "df1_industry.loc[df1_industry['nct_id'] == 'NCT02353598', 'drug_name'] = 'Crenezumab'\n",
    "df1_industry.loc[df1_industry['nct_id'] == 'NCT01513967', 'drug_name'] = 'RPh201'\n",
    "df1_industry.loc[df1_industry['nct_id'] == 'NCT00860275', 'drug_name'] = 'BMS-708163'\n",
    "df1_industry.loc[df1_industry['nct_id'] == 'NCT01723670', 'drug_name'] = 'CHF5074'\n",
    "df1_industry.loc[df1_industry['nct_id'] == 'NCT02710188', 'drug_name'] = 'HTL0009936'\n",
    "df1_industry.loc[df1_industry['nct_id'] == 'NCT01766336', 'drug_name'] = 'ELND005'\n",
    "df1_industry.loc[df1_industry['nct_id'] == 'NCT03867253', 'drug_name'] = 'ORY-2001'\n",
    "df1_industry.loc[df1_industry['nct_id'] == 'NCT01739348', 'drug_name'] = 'Verubecestat'\n",
    "df1_industry.loc[df1_industry['nct_id'] == 'NCT00566501', 'drug_name'] = 'IR' # will be removed\n",
    "df1_industry.loc[df1_industry['nct_id'] == 'NCT01230853', 'drug_name'] = 'Active Comparator: A' # will be removed\n",
    "df1_industry.loc[df1_industry['nct_id'] == 'NCT04052737', 'drug_name'] = 'PMZ-1620'\n",
    "df1_industry.loc[df1_industry['nct_id'] == 'NCT02562989', 'drug_name'] = '[18F]MK-6240'\n",
    "df1_industry.loc[df1_industry['nct_id'] == 'NCT03019536', 'drug_name'] = 'LY3303560'\n",
    "df1_industry.loc[df1_industry['nct_id'] == 'NCT01569516', 'drug_name'] = 'Octohydroaminoacridine'\n",
    "df1_industry.loc[df1_industry['nct_id'] == 'NCT00141661', 'drug_name'] = 'PF-04494700'\n",
    "df1_industry.loc[df1_industry['nct_id'] == 'NCT03790709', 'drug_name'] = 'ANAVEX2-73'\n"
   ]
  },
  {
   "cell_type": "markdown",
   "metadata": {},
   "source": [
    "After correcting the name, there should be some duplicates, we are going drop those"
   ]
  },
  {
   "cell_type": "code",
   "execution_count": 1039,
   "metadata": {},
   "outputs": [
    {
     "name": "stdout",
     "output_type": "stream",
     "text": [
      "We are going to drop 31 rows\n"
     ]
    }
   ],
   "source": [
    "print('We are going to drop {} rows'.format(len(df1_industry) - len(df1_industry.drop_duplicates())))"
   ]
  },
  {
   "cell_type": "code",
   "execution_count": 1040,
   "metadata": {},
   "outputs": [
    {
     "name": "stderr",
     "output_type": "stream",
     "text": [
      "/Users/jonzhao/anaconda3/lib/python3.6/site-packages/ipykernel_launcher.py:1: SettingWithCopyWarning: \n",
      "A value is trying to be set on a copy of a slice from a DataFrame\n",
      "\n",
      "See the caveats in the documentation: http://pandas.pydata.org/pandas-docs/stable/user_guide/indexing.html#returning-a-view-versus-a-copy\n",
      "  \"\"\"Entry point for launching an IPython kernel.\n"
     ]
    }
   ],
   "source": [
    "df1_industry.drop_duplicates(inplace=True)\n",
    "df1_industry.reset_index(inplace=True, drop=True)"
   ]
  },
  {
   "cell_type": "markdown",
   "metadata": {},
   "source": [
    "Finally, we want all the drug names have the same format, we are going downcase the name"
   ]
  },
  {
   "cell_type": "code",
   "execution_count": 1041,
   "metadata": {},
   "outputs": [
    {
     "name": "stderr",
     "output_type": "stream",
     "text": [
      "/Users/jonzhao/anaconda3/lib/python3.6/site-packages/ipykernel_launcher.py:1: SettingWithCopyWarning: \n",
      "A value is trying to be set on a copy of a slice from a DataFrame.\n",
      "Try using .loc[row_indexer,col_indexer] = value instead\n",
      "\n",
      "See the caveats in the documentation: http://pandas.pydata.org/pandas-docs/stable/user_guide/indexing.html#returning-a-view-versus-a-copy\n",
      "  \"\"\"Entry point for launching an IPython kernel.\n"
     ]
    }
   ],
   "source": [
    "df1_industry['drug_name'] = df1_industry['drug_name'].str.lower()"
   ]
  },
  {
   "cell_type": "markdown",
   "metadata": {},
   "source": [
    "### Look Into Drugs by Each Company"
   ]
  },
  {
   "cell_type": "code",
   "execution_count": 1042,
   "metadata": {},
   "outputs": [
    {
     "name": "stdout",
     "output_type": "stream",
     "text": [
      "There are 146 drug companies have clinical trials related Alzheimer\n"
     ]
    }
   ],
   "source": [
    "print('There are {} drug companies have clinical trials related Alzheimer'.format(len(df1_industry['sponsor_name'].unique())))"
   ]
  },
  {
   "cell_type": "code",
   "execution_count": 1116,
   "metadata": {},
   "outputs": [
    {
     "data": {
      "text/html": [
       "<div>\n",
       "<style scoped>\n",
       "    .dataframe tbody tr th:only-of-type {\n",
       "        vertical-align: middle;\n",
       "    }\n",
       "\n",
       "    .dataframe tbody tr th {\n",
       "        vertical-align: top;\n",
       "    }\n",
       "\n",
       "    .dataframe thead th {\n",
       "        text-align: right;\n",
       "    }\n",
       "</style>\n",
       "<table border=\"1\" class=\"dataframe\">\n",
       "  <thead>\n",
       "    <tr style=\"text-align: right;\">\n",
       "      <th></th>\n",
       "      <th>drug_name</th>\n",
       "    </tr>\n",
       "    <tr>\n",
       "      <th>sponsor_name</th>\n",
       "      <th></th>\n",
       "    </tr>\n",
       "  </thead>\n",
       "  <tbody>\n",
       "    <tr>\n",
       "      <th>Pfizer</th>\n",
       "      <td>14</td>\n",
       "    </tr>\n",
       "    <tr>\n",
       "      <th>GlaxoSmithKline</th>\n",
       "      <td>13</td>\n",
       "    </tr>\n",
       "    <tr>\n",
       "      <th>Wyeth is now a wholly owned subsidiary of Pfizer</th>\n",
       "      <td>12</td>\n",
       "    </tr>\n",
       "    <tr>\n",
       "      <th>Merck Sharp &amp; Dohme Corp.</th>\n",
       "      <td>12</td>\n",
       "    </tr>\n",
       "    <tr>\n",
       "      <th>Eli Lilly and Company</th>\n",
       "      <td>11</td>\n",
       "    </tr>\n",
       "    <tr>\n",
       "      <th>Eisai Inc.</th>\n",
       "      <td>10</td>\n",
       "    </tr>\n",
       "    <tr>\n",
       "      <th>AstraZeneca</th>\n",
       "      <td>7</td>\n",
       "    </tr>\n",
       "    <tr>\n",
       "      <th>Sanofi</th>\n",
       "      <td>7</td>\n",
       "    </tr>\n",
       "    <tr>\n",
       "      <th>Hoffmann-La Roche</th>\n",
       "      <td>6</td>\n",
       "    </tr>\n",
       "    <tr>\n",
       "      <th>Genentech, Inc.</th>\n",
       "      <td>6</td>\n",
       "    </tr>\n",
       "    <tr>\n",
       "      <th>H. Lundbeck A/S</th>\n",
       "      <td>5</td>\n",
       "    </tr>\n",
       "    <tr>\n",
       "      <th>Janssen Research &amp; Development, LLC</th>\n",
       "      <td>4</td>\n",
       "    </tr>\n",
       "    <tr>\n",
       "      <th>Novartis Pharmaceuticals</th>\n",
       "      <td>4</td>\n",
       "    </tr>\n",
       "    <tr>\n",
       "      <th>Otsuka Pharmaceutical Co., Ltd.</th>\n",
       "      <td>4</td>\n",
       "    </tr>\n",
       "    <tr>\n",
       "      <th>Boehringer Ingelheim</th>\n",
       "      <td>4</td>\n",
       "    </tr>\n",
       "    <tr>\n",
       "      <th>Biogen</th>\n",
       "      <td>4</td>\n",
       "    </tr>\n",
       "    <tr>\n",
       "      <th>FORUM Pharmaceuticals Inc</th>\n",
       "      <td>3</td>\n",
       "    </tr>\n",
       "    <tr>\n",
       "      <th>FUJIFILM Toyama Chemical Co., Ltd.</th>\n",
       "      <td>3</td>\n",
       "    </tr>\n",
       "    <tr>\n",
       "      <th>AbbVie (prior sponsor, Abbott)</th>\n",
       "      <td>3</td>\n",
       "    </tr>\n",
       "    <tr>\n",
       "      <th>Eisai Co., Ltd.</th>\n",
       "      <td>3</td>\n",
       "    </tr>\n",
       "    <tr>\n",
       "      <th>Cerecin</th>\n",
       "      <td>3</td>\n",
       "    </tr>\n",
       "    <tr>\n",
       "      <th>Bristol-Myers Squibb</th>\n",
       "      <td>3</td>\n",
       "    </tr>\n",
       "    <tr>\n",
       "      <th>Otsuka Pharmaceutical Development &amp; Commercialization, Inc.</th>\n",
       "      <td>3</td>\n",
       "    </tr>\n",
       "    <tr>\n",
       "      <th>Takeda</th>\n",
       "      <td>3</td>\n",
       "    </tr>\n",
       "    <tr>\n",
       "      <th>AbbVie</th>\n",
       "      <td>3</td>\n",
       "    </tr>\n",
       "  </tbody>\n",
       "</table>\n",
       "</div>"
      ],
      "text/plain": [
       "                                                    drug_name\n",
       "sponsor_name                                                 \n",
       "Pfizer                                                     14\n",
       "GlaxoSmithKline                                            13\n",
       "Wyeth is now a wholly owned subsidiary of Pfizer           12\n",
       "Merck Sharp & Dohme Corp.                                  12\n",
       "Eli Lilly and Company                                      11\n",
       "Eisai Inc.                                                 10\n",
       "AstraZeneca                                                 7\n",
       "Sanofi                                                      7\n",
       "Hoffmann-La Roche                                           6\n",
       "Genentech, Inc.                                             6\n",
       "H. Lundbeck A/S                                             5\n",
       "Janssen Research & Development, LLC                         4\n",
       "Novartis Pharmaceuticals                                    4\n",
       "Otsuka Pharmaceutical Co., Ltd.                             4\n",
       "Boehringer Ingelheim                                        4\n",
       "Biogen                                                      4\n",
       "FORUM Pharmaceuticals Inc                                   3\n",
       "FUJIFILM Toyama Chemical Co., Ltd.                          3\n",
       "AbbVie (prior sponsor, Abbott)                              3\n",
       "Eisai Co., Ltd.                                             3\n",
       "Cerecin                                                     3\n",
       "Bristol-Myers Squibb                                        3\n",
       "Otsuka Pharmaceutical Development & Commerciali...          3\n",
       "Takeda                                                      3\n",
       "AbbVie                                                      3"
      ]
     },
     "execution_count": 1116,
     "metadata": {},
     "output_type": "execute_result"
    }
   ],
   "source": [
    "# companies have more than one clinical trials related Alzheimer\n",
    "trials_more_than_one = df1_industry.groupby(['sponsor_name'])[['drug_name']].nunique()[df1_industry.groupby('sponsor_name')['drug_name'].nunique()>2]\n",
    "trials_more_than_one.sort_values('drug_name',ascending=False)"
   ]
  },
  {
   "cell_type": "markdown",
   "metadata": {},
   "source": [
    "The process to correct name:\n",
    " - It looks like removing contents after space could be a way to correct name\n",
    " - Remove signs except '-' such as '+', ','\n",
    " - Double check the name only has letters\n",
    " - Pure numbers\n",
    " - length less than 3\n",
    " - words like drug, experimental, normal, active"
   ]
  },
  {
   "cell_type": "code",
   "execution_count": 1058,
   "metadata": {},
   "outputs": [],
   "source": [
    "# right a function to extract drug name\n",
    "def name_split(drug_name):\n",
    "    try:\n",
    "        return re.split(r'\\s', drug_name)[0]\n",
    "    except:\n",
    "        return drug_name"
   ]
  },
  {
   "cell_type": "code",
   "execution_count": 1113,
   "metadata": {},
   "outputs": [
    {
     "name": "stderr",
     "output_type": "stream",
     "text": [
      "/Users/jonzhao/anaconda3/lib/python3.6/site-packages/pandas/core/indexing.py:494: SettingWithCopyWarning: \n",
      "A value is trying to be set on a copy of a slice from a DataFrame.\n",
      "Try using .loc[row_indexer,col_indexer] = value instead\n",
      "\n",
      "See the caveats in the documentation: http://pandas.pydata.org/pandas-docs/stable/user_guide/indexing.html#returning-a-view-versus-a-copy\n",
      "  self.obj[item] = s\n"
     ]
    }
   ],
   "source": [
    "# fix name one by one\n",
    "df1_industry.loc[(df1_industry['sponsor_name']=='GlaxoSmithKline'), 'drug_name'] = df1_industry[(df1_industry['sponsor_name']=='GlaxoSmithKline')]['drug_name'].apply(name_split)\n",
    "df1_industry.loc[(df1_industry['sponsor_name']=='Pfizer'), 'drug_name'] = df1_industry[(df1_industry['sponsor_name']=='Pfizer')]['drug_name'].apply(name_split)\n",
    "df1_industry.loc[(df1_industry['sponsor_name']=='Wyeth is now a wholly owned subsidiary of Pfizer'), 'drug_name'] = df1_industry[(df1_industry['sponsor_name']=='Wyeth is now a wholly owned subsidiary of Pfizer')]['drug_name'].apply(name_split)\n",
    "df1_industry.loc[(df1_industry['sponsor_name']=='Merck Sharp & Dohme Corp.'), 'drug_name'] = df1_industry[(df1_industry['sponsor_name']=='Merck Sharp & Dohme Corp.')]['drug_name'].apply(name_split)\n",
    "df1_industry.loc[(df1_industry['sponsor_name']=='Eli Lilly and Company'), 'drug_name'] = df1_industry[(df1_industry['sponsor_name']=='Eli Lilly and Company')]['drug_name'].apply(name_split)\n",
    "df1_industry.loc[(df1_industry['sponsor_name']=='Eisai Inc.'), 'drug_name'] = df1_industry[(df1_industry['sponsor_name']=='Eisai Inc.')]['drug_name'].apply(name_split)\n",
    "df1_industry.loc[(df1_industry['sponsor_name']=='Sanofi'), 'drug_name'] = df1_industry[(df1_industry['sponsor_name']=='Sanofi')]['drug_name'].apply(name_split)\n",
    "df1_industry.loc[(df1_industry['sponsor_name']=='Hoffmann-La Roche'), 'drug_name'] = df1_industry[(df1_industry['sponsor_name']=='Hoffmann-La Roche')]['drug_name'].apply(name_split)\n",
    "df1_industry.loc[(df1_industry['sponsor_name']=='AstraZeneca'), 'drug_name'] = df1_industry[(df1_industry['sponsor_name']=='AstraZeneca')]['drug_name'].apply(name_split)\n",
    "df1_industry.loc[(df1_industry['sponsor_name']=='Biogen'), 'drug_name'] = df1_industry[(df1_industry['sponsor_name']=='Biogen')]['drug_name'].apply(name_split)\n",
    "df1_industry.loc[(df1_industry['sponsor_name']=='Otsuka Pharmaceutical Co., Ltd.'), 'drug_name'] = df1_industry[(df1_industry['sponsor_name']=='Otsuka Pharmaceutical Co., Ltd.')]['drug_name'].apply(name_split)\n",
    "df1_industry.loc[(df1_industry['sponsor_name']=='Novartis Pharmaceuticals'), 'drug_name'] = df1_industry[(df1_industry['sponsor_name']=='Novartis Pharmaceuticals')]['drug_name'].apply(name_split)\n",
    "df1_industry.loc[(df1_industry['sponsor_name']=='Otsuka Pharmaceutical Development & Commercialization, Inc.'), 'drug_name'] = df1_industry[(df1_industry['sponsor_name']=='Otsuka Pharmaceutical Development & Commercialization, Inc.')]['drug_name'].apply(name_split)\n",
    "df1_industry.loc[(df1_industry['sponsor_name']=='Bristol-Myers Squibb'), 'drug_name'] = df1_industry[(df1_industry['sponsor_name']=='Bristol-Myers Squibb')]['drug_name'].apply(name_split)\n",
    "df1_industry.loc[(df1_industry['sponsor_name']=='Cerecin'), 'drug_name'] = df1_industry[(df1_industry['sponsor_name']=='Cerecin')]['drug_name'].apply(name_split)\n",
    "df1_industry.loc[(df1_industry['sponsor_name']=='JANSSEN Alzheimer Immunotherapy Research & Development, LLC'), 'drug_name'] = df1_industry[(df1_industry['sponsor_name']=='JANSSEN Alzheimer Immunotherapy Research & Development, LLC')]['drug_name'].apply(name_split)\n",
    "df1_industry.loc[(df1_industry['sponsor_name']=='Avanir Pharmaceuticals'), 'drug_name'] = df1_industry[(df1_industry['sponsor_name']=='Avanir Pharmaceuticals')]['drug_name'].apply(name_split)\n",
    "df1_industry.loc[(df1_industry['sponsor_name']=='GemVax & Kael'), 'drug_name'] = df1_industry[(df1_industry['sponsor_name']=='GemVax & Kael')]['drug_name'].apply(name_split)\n",
    "df1_industry.loc[(df1_industry['sponsor_name']=='Eisai Co., Ltd.'), 'drug_name'] = df1_industry[(df1_industry['sponsor_name']=='Eisai Co., Ltd.')]['drug_name'].apply(name_split)\n"
   ]
  },
  {
   "cell_type": "markdown",
   "metadata": {},
   "source": [
    "### Further Clean Base On Similarity"
   ]
  },
  {
   "cell_type": "markdown",
   "metadata": {},
   "source": [
    "For this step, we are going to group the drug name by company and drop the duplicates\n",
    "- There two rows have na, we are going to fillna as blank space\n",
    "- Create a column as index helper to facilitate the function that compare the similarity of each drug name\n",
    "- We'll take deeper dive into the drug name has a strong similarity\n",
    "- Drop duplicated drug name based on similarity comparison\n",
    "- Clean the companies name, some have their name in the datasets in different format"
   ]
  },
  {
   "cell_type": "code",
   "execution_count": 1460,
   "metadata": {},
   "outputs": [],
   "source": [
    "# import text similarity tool\n",
    "import difflib\n",
    "import jellyfish"
   ]
  },
  {
   "cell_type": "code",
   "execution_count": 1461,
   "metadata": {},
   "outputs": [
    {
     "data": {
      "text/html": [
       "<div>\n",
       "<style scoped>\n",
       "    .dataframe tbody tr th:only-of-type {\n",
       "        vertical-align: middle;\n",
       "    }\n",
       "\n",
       "    .dataframe tbody tr th {\n",
       "        vertical-align: top;\n",
       "    }\n",
       "\n",
       "    .dataframe thead th {\n",
       "        text-align: right;\n",
       "    }\n",
       "</style>\n",
       "<table border=\"1\" class=\"dataframe\">\n",
       "  <thead>\n",
       "    <tr style=\"text-align: right;\">\n",
       "      <th></th>\n",
       "      <th>sponsor_name</th>\n",
       "      <th>drug_name</th>\n",
       "    </tr>\n",
       "  </thead>\n",
       "  <tbody>\n",
       "    <tr>\n",
       "      <th>0</th>\n",
       "      <td>Eisai Inc.</td>\n",
       "      <td>ir</td>\n",
       "    </tr>\n",
       "    <tr>\n",
       "      <th>1</th>\n",
       "      <td>Hoffmann-La Roche</td>\n",
       "      <td>11c-l-deprenyl-d2</td>\n",
       "    </tr>\n",
       "    <tr>\n",
       "      <th>2</th>\n",
       "      <td>T3D Therapeutics, Inc.</td>\n",
       "      <td>t3d-959</td>\n",
       "    </tr>\n",
       "    <tr>\n",
       "      <th>3</th>\n",
       "      <td>GlaxoSmithKline</td>\n",
       "      <td>[18f]gsk2647544</td>\n",
       "    </tr>\n",
       "    <tr>\n",
       "      <th>4</th>\n",
       "      <td>Genentech, Inc.</td>\n",
       "      <td>[18f]gtp1</td>\n",
       "    </tr>\n",
       "    <tr>\n",
       "      <th>...</th>\n",
       "      <td>...</td>\n",
       "      <td>...</td>\n",
       "    </tr>\n",
       "    <tr>\n",
       "      <th>465</th>\n",
       "      <td>Pfizer</td>\n",
       "      <td>warfarin</td>\n",
       "    </tr>\n",
       "    <tr>\n",
       "      <th>466</th>\n",
       "      <td>Sanofi</td>\n",
       "      <td>xaliproden</td>\n",
       "    </tr>\n",
       "    <tr>\n",
       "      <th>468</th>\n",
       "      <td>Actinogen Medical</td>\n",
       "      <td>xanamem™</td>\n",
       "    </tr>\n",
       "    <tr>\n",
       "      <th>469</th>\n",
       "      <td>Inmune Bio, Inc.</td>\n",
       "      <td>xpro1595</td>\n",
       "    </tr>\n",
       "    <tr>\n",
       "      <th>470</th>\n",
       "      <td>Debiopharm International SA</td>\n",
       "      <td>zt-1</td>\n",
       "    </tr>\n",
       "  </tbody>\n",
       "</table>\n",
       "<p>302 rows × 2 columns</p>\n",
       "</div>"
      ],
      "text/plain": [
       "                    sponsor_name          drug_name\n",
       "0                     Eisai Inc.                 ir\n",
       "1              Hoffmann-La Roche  11c-l-deprenyl-d2\n",
       "2         T3D Therapeutics, Inc.            t3d-959\n",
       "3                GlaxoSmithKline    [18f]gsk2647544\n",
       "4                Genentech, Inc.          [18f]gtp1\n",
       "..                           ...                ...\n",
       "465                       Pfizer           warfarin\n",
       "466                       Sanofi         xaliproden\n",
       "468            Actinogen Medical           xanamem™\n",
       "469             Inmune Bio, Inc.           xpro1595\n",
       "470  Debiopharm International SA               zt-1\n",
       "\n",
       "[302 rows x 2 columns]"
      ]
     },
     "execution_count": 1461,
     "metadata": {},
     "output_type": "execute_result"
    }
   ],
   "source": [
    "# group drug names by company level\n",
    "co_phase_drug = df1_industry[['sponsor_name','drug_name']].drop_duplicates()\n",
    "co_phase_drug"
   ]
  },
  {
   "cell_type": "markdown",
   "metadata": {},
   "source": [
    "Before we do. anything, we are going to drop rows where length of the name only has 3 or less than 3 letters"
   ]
  },
  {
   "cell_type": "code",
   "execution_count": 1462,
   "metadata": {},
   "outputs": [
    {
     "data": {
      "text/html": [
       "<div>\n",
       "<style scoped>\n",
       "    .dataframe tbody tr th:only-of-type {\n",
       "        vertical-align: middle;\n",
       "    }\n",
       "\n",
       "    .dataframe tbody tr th {\n",
       "        vertical-align: top;\n",
       "    }\n",
       "\n",
       "    .dataframe thead th {\n",
       "        text-align: right;\n",
       "    }\n",
       "</style>\n",
       "<table border=\"1\" class=\"dataframe\">\n",
       "  <thead>\n",
       "    <tr style=\"text-align: right;\">\n",
       "      <th></th>\n",
       "      <th>sponsor_name</th>\n",
       "      <th>drug_name</th>\n",
       "    </tr>\n",
       "  </thead>\n",
       "  <tbody>\n",
       "    <tr>\n",
       "      <th>0</th>\n",
       "      <td>Eisai Inc.</td>\n",
       "      <td>ir</td>\n",
       "    </tr>\n",
       "    <tr>\n",
       "      <th>7</th>\n",
       "      <td>Otsuka Pharmaceutical Co., Ltd.</td>\n",
       "      <td>2</td>\n",
       "    </tr>\n",
       "    <tr>\n",
       "      <th>9</th>\n",
       "      <td>Otsuka Pharmaceutical Co., Ltd.</td>\n",
       "      <td>3</td>\n",
       "    </tr>\n",
       "    <tr>\n",
       "      <th>11</th>\n",
       "      <td>Otsuka Pharmaceutical Co., Ltd.</td>\n",
       "      <td>6</td>\n",
       "    </tr>\n",
       "    <tr>\n",
       "      <th>88</th>\n",
       "      <td>Charsire Biotechnology Corp.</td>\n",
       "      <td>bac</td>\n",
       "    </tr>\n",
       "    <tr>\n",
       "      <th>211</th>\n",
       "      <td>Wyeth is now a wholly owned subsidiary of Pfizer</td>\n",
       "      <td>gsi</td>\n",
       "    </tr>\n",
       "    <tr>\n",
       "      <th>387</th>\n",
       "      <td>GlaxoSmithKline</td>\n",
       "      <td>rsg</td>\n",
       "    </tr>\n",
       "    <tr>\n",
       "      <th>444</th>\n",
       "      <td>Immungenetics AG</td>\n",
       "      <td>tep</td>\n",
       "    </tr>\n",
       "  </tbody>\n",
       "</table>\n",
       "</div>"
      ],
      "text/plain": [
       "                                         sponsor_name drug_name\n",
       "0                                          Eisai Inc.        ir\n",
       "7                     Otsuka Pharmaceutical Co., Ltd.         2\n",
       "9                     Otsuka Pharmaceutical Co., Ltd.         3\n",
       "11                    Otsuka Pharmaceutical Co., Ltd.         6\n",
       "88                       Charsire Biotechnology Corp.       bac\n",
       "211  Wyeth is now a wholly owned subsidiary of Pfizer       gsi\n",
       "387                                   GlaxoSmithKline       rsg\n",
       "444                                  Immungenetics AG       tep"
      ]
     },
     "execution_count": 1462,
     "metadata": {},
     "output_type": "execute_result"
    }
   ],
   "source": [
    "co_phase_drug[co_phase_drug['drug_name'].str.len()<=3]"
   ]
  },
  {
   "cell_type": "code",
   "execution_count": 1463,
   "metadata": {},
   "outputs": [],
   "source": [
    "co_phase_drug.drop(co_phase_drug[co_phase_drug['drug_name'].str.len()<=3].index, inplace=True)"
   ]
  },
  {
   "cell_type": "code",
   "execution_count": 1464,
   "metadata": {},
   "outputs": [],
   "source": [
    "# create index helper to facilate lookup function\n",
    "co_phase_drug['ix_helper'] = co_phase_drug['sponsor_name'] + co_phase_drug['drug_name']"
   ]
  },
  {
   "cell_type": "code",
   "execution_count": 1475,
   "metadata": {},
   "outputs": [],
   "source": [
    "# create function to find similar name\n",
    "def count_similar_name(ix_helper):\n",
    "    try:\n",
    "    #     print(ix_helper)\n",
    "        company_name = co_phase_drug[co_phase_drug['ix_helper'] == ix_helper]['sponsor_name'].values[0]\n",
    "        # create drug list by company name to compare with each name within the company's trials\n",
    "        drug_list = list(co_phase_drug[co_phase_drug['sponsor_name'] == company_name]['drug_name'])\n",
    "        # the drug we are going to compare the list\n",
    "        drug = co_phase_drug[co_phase_drug['ix_helper'] == ix_helper]['drug_name'].values[0]\n",
    "        # remove the drug name we are going to compare with\n",
    "        drug_list.remove(drug)\n",
    "        return int(len(difflib.get_close_matches(drug, drug_list, cutoff=0.7)))\n",
    "    except IndexError:\n",
    "        return ''"
   ]
  },
  {
   "cell_type": "code",
   "execution_count": 1476,
   "metadata": {},
   "outputs": [],
   "source": [
    "# create function to find similar name\n",
    "def similar_name(ix_helper):\n",
    "    try:\n",
    "    #     print(ix_helper)\n",
    "        company_name = co_phase_drug[co_phase_drug['ix_helper'] == ix_helper]['sponsor_name'].values[0]\n",
    "        # create drug list by company name to compare with each name within the company's trials\n",
    "        drug_list = list(co_phase_drug[co_phase_drug['sponsor_name'] == company_name]['drug_name'])\n",
    "        # the drug we are going to compare the list\n",
    "        drug = co_phase_drug[co_phase_drug['ix_helper'] == ix_helper]['drug_name'].values[0]\n",
    "        # remove the drug name we are going to compare with\n",
    "        drug_list.remove(drug)\n",
    "        return difflib.get_close_matches(drug, drug_list, cutoff=0.7)\n",
    "    except IndexError:\n",
    "        return ''"
   ]
  },
  {
   "cell_type": "code",
   "execution_count": 1477,
   "metadata": {},
   "outputs": [],
   "source": [
    "# apply the function to df\n",
    "co_phase_drug['count_similar_name'] = co_phase_drug['ix_helper'].apply(count_similar_name)\n",
    "co_phase_drug['similar_name'] = co_phase_drug['ix_helper'].apply(similar_name)"
   ]
  },
  {
   "cell_type": "markdown",
   "metadata": {},
   "source": [
    "We'll start to look into these rows have ***1 similar drug name***. It looks like they would either   \n",
    "- include a sign in the name, example: masitinib (ab1010)  \n",
    "- or it has sort of description, example: [cor388 capsule]  \n",
    "So, our solution is to keep the one has the shorter name. For example, we'll keep 'bryostatin' instead of 'bryostatin 1'  \n",
    "If they are same length, we'll keep those because majority of those are different drugs"
   ]
  },
  {
   "cell_type": "code",
   "execution_count": 1478,
   "metadata": {},
   "outputs": [],
   "source": [
    "# df for rows have one similar name\n",
    "similar_name_one = co_phase_drug[co_phase_drug['count_similar_name']==1]"
   ]
  },
  {
   "cell_type": "code",
   "execution_count": 1479,
   "metadata": {},
   "outputs": [
    {
     "data": {
      "text/html": [
       "<div>\n",
       "<style scoped>\n",
       "    .dataframe tbody tr th:only-of-type {\n",
       "        vertical-align: middle;\n",
       "    }\n",
       "\n",
       "    .dataframe tbody tr th {\n",
       "        vertical-align: top;\n",
       "    }\n",
       "\n",
       "    .dataframe thead th {\n",
       "        text-align: right;\n",
       "    }\n",
       "</style>\n",
       "<table border=\"1\" class=\"dataframe\">\n",
       "  <thead>\n",
       "    <tr style=\"text-align: right;\">\n",
       "      <th></th>\n",
       "      <th>sponsor_name</th>\n",
       "      <th>drug_name</th>\n",
       "      <th>ix_helper</th>\n",
       "      <th>count_similar_name</th>\n",
       "      <th>similar_name</th>\n",
       "    </tr>\n",
       "  </thead>\n",
       "  <tbody>\n",
       "    <tr>\n",
       "      <th>3</th>\n",
       "      <td>GlaxoSmithKline</td>\n",
       "      <td>[18f]gsk2647544</td>\n",
       "      <td>GlaxoSmithKline[18f]gsk2647544</td>\n",
       "      <td>1</td>\n",
       "      <td>[gsk2647544]</td>\n",
       "    </tr>\n",
       "    <tr>\n",
       "      <th>36</th>\n",
       "      <td>Pfizer</td>\n",
       "      <td>acc-001+</td>\n",
       "      <td>Pfizeracc-001+</td>\n",
       "      <td>1</td>\n",
       "      <td>[acc-001]</td>\n",
       "    </tr>\n",
       "    <tr>\n",
       "      <th>131</th>\n",
       "      <td>Neurotrope Bioscience, Inc.</td>\n",
       "      <td>bryostatin 1</td>\n",
       "      <td>Neurotrope Bioscience, Inc.bryostatin 1</td>\n",
       "      <td>1</td>\n",
       "      <td>[bryostatin]</td>\n",
       "    </tr>\n",
       "    <tr>\n",
       "      <th>169</th>\n",
       "      <td>FORUM Pharmaceuticals Inc</td>\n",
       "      <td>drug: evp-6124</td>\n",
       "      <td>FORUM Pharmaceuticals Incdrug: evp-6124</td>\n",
       "      <td>1</td>\n",
       "      <td>[evp-6124]</td>\n",
       "    </tr>\n",
       "    <tr>\n",
       "      <th>249</th>\n",
       "      <td>Janssen Research &amp; Development, LLC</td>\n",
       "      <td>jnj-54861911,</td>\n",
       "      <td>Janssen Research &amp; Development, LLCjnj-54861911,</td>\n",
       "      <td>1</td>\n",
       "      <td>[jnj-54861911]</td>\n",
       "    </tr>\n",
       "    <tr>\n",
       "      <th>294</th>\n",
       "      <td>Merck Sharp &amp; Dohme Corp.</td>\n",
       "      <td>mk-0249</td>\n",
       "      <td>Merck Sharp &amp; Dohme Corp.mk-0249</td>\n",
       "      <td>1</td>\n",
       "      <td>[mk0249]</td>\n",
       "    </tr>\n",
       "    <tr>\n",
       "      <th>341</th>\n",
       "      <td>ACADIA Pharmaceuticals Inc.</td>\n",
       "      <td>pimavanserin tartrate</td>\n",
       "      <td>ACADIA Pharmaceuticals Inc.pimavanserin tartrate</td>\n",
       "      <td>1</td>\n",
       "      <td>[pimavanserin]</td>\n",
       "    </tr>\n",
       "  </tbody>\n",
       "</table>\n",
       "</div>"
      ],
      "text/plain": [
       "                            sponsor_name              drug_name  \\\n",
       "3                        GlaxoSmithKline        [18f]gsk2647544   \n",
       "36                                Pfizer               acc-001+   \n",
       "131          Neurotrope Bioscience, Inc.           bryostatin 1   \n",
       "169            FORUM Pharmaceuticals Inc         drug: evp-6124   \n",
       "249  Janssen Research & Development, LLC          jnj-54861911,   \n",
       "294            Merck Sharp & Dohme Corp.                mk-0249   \n",
       "341          ACADIA Pharmaceuticals Inc.  pimavanserin tartrate   \n",
       "\n",
       "                                            ix_helper  count_similar_name  \\\n",
       "3                      GlaxoSmithKline[18f]gsk2647544                   1   \n",
       "36                                     Pfizeracc-001+                   1   \n",
       "131           Neurotrope Bioscience, Inc.bryostatin 1                   1   \n",
       "169           FORUM Pharmaceuticals Incdrug: evp-6124                   1   \n",
       "249  Janssen Research & Development, LLCjnj-54861911,                   1   \n",
       "294                  Merck Sharp & Dohme Corp.mk-0249                   1   \n",
       "341  ACADIA Pharmaceuticals Inc.pimavanserin tartrate                   1   \n",
       "\n",
       "       similar_name  \n",
       "3      [gsk2647544]  \n",
       "36        [acc-001]  \n",
       "131    [bryostatin]  \n",
       "169      [evp-6124]  \n",
       "249  [jnj-54861911]  \n",
       "294        [mk0249]  \n",
       "341  [pimavanserin]  "
      ]
     },
     "execution_count": 1479,
     "metadata": {},
     "output_type": "execute_result"
    }
   ],
   "source": [
    "# finding the length difference betwenn comparable name and drug name\n",
    "diff_len = (similar_name_one['similar_name'].apply(lambda x: len(x[0])) \n",
    "            - similar_name_one['drug_name'].apply(lambda x: len(x)) )\n",
    "# the one has the longer name\n",
    "similar_name_one[diff_len<0]"
   ]
  },
  {
   "cell_type": "markdown",
   "metadata": {},
   "source": [
    "Looks like we can drop all of them, because those are duplicates, they just inputed differently"
   ]
  },
  {
   "cell_type": "code",
   "execution_count": 1480,
   "metadata": {},
   "outputs": [],
   "source": [
    "# drop those rows\n",
    "co_phase_drug.drop(similar_name_one[diff_len<0].index, inplace=True)"
   ]
  },
  {
   "cell_type": "code",
   "execution_count": 1481,
   "metadata": {},
   "outputs": [
    {
     "data": {
      "text/html": [
       "<div>\n",
       "<style scoped>\n",
       "    .dataframe tbody tr th:only-of-type {\n",
       "        vertical-align: middle;\n",
       "    }\n",
       "\n",
       "    .dataframe tbody tr th {\n",
       "        vertical-align: top;\n",
       "    }\n",
       "\n",
       "    .dataframe thead th {\n",
       "        text-align: right;\n",
       "    }\n",
       "</style>\n",
       "<table border=\"1\" class=\"dataframe\">\n",
       "  <thead>\n",
       "    <tr style=\"text-align: right;\">\n",
       "      <th></th>\n",
       "      <th>sponsor_name</th>\n",
       "      <th>drug_name</th>\n",
       "      <th>ix_helper</th>\n",
       "      <th>count_similar_name</th>\n",
       "      <th>similar_name</th>\n",
       "    </tr>\n",
       "  </thead>\n",
       "  <tbody>\n",
       "    <tr>\n",
       "      <th>27</th>\n",
       "      <td>AbbVie (prior sponsor, Abbott)</td>\n",
       "      <td>abt-288</td>\n",
       "      <td>AbbVie (prior sponsor, Abbott)abt-288</td>\n",
       "      <td>2</td>\n",
       "      <td>[abt-384, abt-126]</td>\n",
       "    </tr>\n",
       "    <tr>\n",
       "      <th>63</th>\n",
       "      <td>Otsuka Pharmaceutical Development &amp; Commercial...</td>\n",
       "      <td>aripiprazole</td>\n",
       "      <td>Otsuka Pharmaceutical Development &amp; Commercial...</td>\n",
       "      <td>2</td>\n",
       "      <td>[brexpiprazole, brexpiprazole,]</td>\n",
       "    </tr>\n",
       "    <tr>\n",
       "      <th>112</th>\n",
       "      <td>Biogen</td>\n",
       "      <td>biib037</td>\n",
       "      <td>Biogenbiib037</td>\n",
       "      <td>2</td>\n",
       "      <td>[biib076, biib092]</td>\n",
       "    </tr>\n",
       "    <tr>\n",
       "      <th>113</th>\n",
       "      <td>Biogen</td>\n",
       "      <td>biib076</td>\n",
       "      <td>Biogenbiib076</td>\n",
       "      <td>2</td>\n",
       "      <td>[biib037, biib092]</td>\n",
       "    </tr>\n",
       "    <tr>\n",
       "      <th>114</th>\n",
       "      <td>Biogen</td>\n",
       "      <td>biib092</td>\n",
       "      <td>Biogenbiib092</td>\n",
       "      <td>2</td>\n",
       "      <td>[biib076, biib037]</td>\n",
       "    </tr>\n",
       "    <tr>\n",
       "      <th>124</th>\n",
       "      <td>Otsuka Pharmaceutical Development &amp; Commercial...</td>\n",
       "      <td>brexpiprazole</td>\n",
       "      <td>Otsuka Pharmaceutical Development &amp; Commercial...</td>\n",
       "      <td>2</td>\n",
       "      <td>[brexpiprazole,, aripiprazole]</td>\n",
       "    </tr>\n",
       "    <tr>\n",
       "      <th>128</th>\n",
       "      <td>Otsuka Pharmaceutical Development &amp; Commercial...</td>\n",
       "      <td>brexpiprazole,</td>\n",
       "      <td>Otsuka Pharmaceutical Development &amp; Commercial...</td>\n",
       "      <td>2</td>\n",
       "      <td>[brexpiprazole, aripiprazole]</td>\n",
       "    </tr>\n",
       "    <tr>\n",
       "      <th>193</th>\n",
       "      <td>FORUM Pharmaceuticals Inc</td>\n",
       "      <td>evp-6124</td>\n",
       "      <td>FORUM Pharmaceuticals Incevp-6124</td>\n",
       "      <td>2</td>\n",
       "      <td>[evp-0962, drug: evp-6124]</td>\n",
       "    </tr>\n",
       "    <tr>\n",
       "      <th>436</th>\n",
       "      <td>FUJIFILM Toyama Chemical Co., Ltd.</td>\n",
       "      <td>t-817ma</td>\n",
       "      <td>FUJIFILM Toyama Chemical Co., Ltd.t-817ma</td>\n",
       "      <td>2</td>\n",
       "      <td>[t-817ma-l, t-817ma-h]</td>\n",
       "    </tr>\n",
       "    <tr>\n",
       "      <th>438</th>\n",
       "      <td>FUJIFILM Toyama Chemical Co., Ltd.</td>\n",
       "      <td>t-817ma-h</td>\n",
       "      <td>FUJIFILM Toyama Chemical Co., Ltd.t-817ma-h</td>\n",
       "      <td>2</td>\n",
       "      <td>[t-817ma-l, t-817ma]</td>\n",
       "    </tr>\n",
       "    <tr>\n",
       "      <th>439</th>\n",
       "      <td>FUJIFILM Toyama Chemical Co., Ltd.</td>\n",
       "      <td>t-817ma-l</td>\n",
       "      <td>FUJIFILM Toyama Chemical Co., Ltd.t-817ma-l</td>\n",
       "      <td>2</td>\n",
       "      <td>[t-817ma-h, t-817ma]</td>\n",
       "    </tr>\n",
       "  </tbody>\n",
       "</table>\n",
       "</div>"
      ],
      "text/plain": [
       "                                          sponsor_name       drug_name  \\\n",
       "27                      AbbVie (prior sponsor, Abbott)         abt-288   \n",
       "63   Otsuka Pharmaceutical Development & Commercial...    aripiprazole   \n",
       "112                                             Biogen         biib037   \n",
       "113                                             Biogen         biib076   \n",
       "114                                             Biogen         biib092   \n",
       "124  Otsuka Pharmaceutical Development & Commercial...   brexpiprazole   \n",
       "128  Otsuka Pharmaceutical Development & Commercial...  brexpiprazole,   \n",
       "193                          FORUM Pharmaceuticals Inc        evp-6124   \n",
       "436                 FUJIFILM Toyama Chemical Co., Ltd.         t-817ma   \n",
       "438                 FUJIFILM Toyama Chemical Co., Ltd.       t-817ma-h   \n",
       "439                 FUJIFILM Toyama Chemical Co., Ltd.       t-817ma-l   \n",
       "\n",
       "                                             ix_helper  count_similar_name  \\\n",
       "27               AbbVie (prior sponsor, Abbott)abt-288                   2   \n",
       "63   Otsuka Pharmaceutical Development & Commercial...                   2   \n",
       "112                                      Biogenbiib037                   2   \n",
       "113                                      Biogenbiib076                   2   \n",
       "114                                      Biogenbiib092                   2   \n",
       "124  Otsuka Pharmaceutical Development & Commercial...                   2   \n",
       "128  Otsuka Pharmaceutical Development & Commercial...                   2   \n",
       "193                  FORUM Pharmaceuticals Incevp-6124                   2   \n",
       "436          FUJIFILM Toyama Chemical Co., Ltd.t-817ma                   2   \n",
       "438        FUJIFILM Toyama Chemical Co., Ltd.t-817ma-h                   2   \n",
       "439        FUJIFILM Toyama Chemical Co., Ltd.t-817ma-l                   2   \n",
       "\n",
       "                        similar_name  \n",
       "27                [abt-384, abt-126]  \n",
       "63   [brexpiprazole, brexpiprazole,]  \n",
       "112               [biib076, biib092]  \n",
       "113               [biib037, biib092]  \n",
       "114               [biib076, biib037]  \n",
       "124   [brexpiprazole,, aripiprazole]  \n",
       "128    [brexpiprazole, aripiprazole]  \n",
       "193       [evp-0962, drug: evp-6124]  \n",
       "436           [t-817ma-l, t-817ma-h]  \n",
       "438             [t-817ma-l, t-817ma]  \n",
       "439             [t-817ma-h, t-817ma]  "
      ]
     },
     "execution_count": 1481,
     "metadata": {},
     "output_type": "execute_result"
    }
   ],
   "source": [
    "co_phase_drug[co_phase_drug['count_similar_name'] == 2]"
   ]
  },
  {
   "cell_type": "markdown",
   "metadata": {},
   "source": [
    "We'll manually drop these rows because not all of them are duplicates, we tried to play with cutoff parameter but we couldn't find the best one"
   ]
  },
  {
   "cell_type": "code",
   "execution_count": 1489,
   "metadata": {},
   "outputs": [],
   "source": [
    "co_phase_drug.drop(co_phase_drug[co_phase_drug['drug_name']=='brexpiprazole,'].index, inplace = True)\n",
    "co_phase_drug.drßop(co_phase_drug[co_phase_drug['drug_name']=='t-817ma-h'].index, inplace = True)\n",
    "co_phase_drug.drop(co_phase_drug[co_phase_drug['drug_name']=='t-817ma-l'].index, inplace = True)"
   ]
  },
  {
   "cell_type": "markdown",
   "metadata": {},
   "source": [
    "We fixed many drug names, we'll clean the dataframe first, we'll only keep sponsor names and drug names and drop duplicates"
   ]
  },
  {
   "cell_type": "code",
   "execution_count": 1673,
   "metadata": {},
   "outputs": [],
   "source": [
    "co_phase_drug = co_phase_drug[['sponsor_name', 'drug_name']]"
   ]
  },
  {
   "cell_type": "markdown",
   "metadata": {},
   "source": [
    "We'll start to cosolidate entities into one because some have their name differently multiple times, see the example below"
   ]
  },
  {
   "cell_type": "code",
   "execution_count": 1493,
   "metadata": {},
   "outputs": [
    {
     "data": {
      "text/plain": [
       "Janssen Research & Development, LLC    3\n",
       "Janssen Pharmaceutical K.K.            2\n",
       "Janssen Pharmaceutica N.V., Belgium    2\n",
       "Janssen, LP                            1\n",
       "Janssen-Cilag Pty Ltd                  1\n",
       "Name: sponsor_name, dtype: int64"
      ]
     },
     "execution_count": 1493,
     "metadata": {},
     "output_type": "execute_result"
    }
   ],
   "source": [
    "co_phase_drug[co_phase_drug['sponsor_name'].str.contains('Janssen')]['sponsor_name'].value_counts()"
   ]
  },
  {
   "cell_type": "markdown",
   "metadata": {},
   "source": [
    "We are going to only look at the first word of the sponsor name. We'll use the first word to find out other names companies used. it works for the majority of cases"
   ]
  },
  {
   "cell_type": "code",
   "execution_count": 1637,
   "metadata": {
    "scrolled": false
   },
   "outputs": [],
   "source": [
    "# split name\n",
    "sponsor_name_df = co_phase_drug[['sponsor_name']].drop_duplicates()\n",
    "sponsor_name_df['short_name'] = [re.split(r'\\s', name)[0] for name in sponsor_name_df['sponsor_name']]"
   ]
  },
  {
   "cell_type": "code",
   "execution_count": 1639,
   "metadata": {},
   "outputs": [],
   "source": [
    "# create a df to save all other names used for each short name\n",
    "short_sponsor_name = sponsor_name_df[['short_name']].drop_duplicates()\n",
    "short_sponsor_name['names_used'] = [list(sponsor_name_df[sponsor_name_df['sponsor_name'].str.contains(shor_name)]['sponsor_name'].values) \n",
    " for shor_name in short_sponsor_name['short_name']]"
   ]
  },
  {
   "cell_type": "code",
   "execution_count": 1642,
   "metadata": {},
   "outputs": [],
   "source": [
    "short_sponsor_name['number_of_names'] = short_sponsor_name['names_used'].apply(lambda x: len(x))"
   ]
  },
  {
   "cell_type": "markdown",
   "metadata": {},
   "source": [
    "As we can seee below, there are few cases we need adjust the name manually. \n",
    "- Abbvie is split from Abbott, so all trials should be under Abbview\n",
    "- There are two Mercks, there are not the same one\n",
    "- Chase should be under Allergan based on its description\n",
    "- There two companies have 'High' in its name\n",
    "- Short name 'H' doesn't really make sense, we need to look into it\n",
    "\n"
   ]
  },
  {
   "cell_type": "code",
   "execution_count": 1656,
   "metadata": {},
   "outputs": [
    {
     "data": {
      "text/html": [
       "<div>\n",
       "<style scoped>\n",
       "    .dataframe tbody tr th:only-of-type {\n",
       "        vertical-align: middle;\n",
       "    }\n",
       "\n",
       "    .dataframe tbody tr th {\n",
       "        vertical-align: top;\n",
       "    }\n",
       "\n",
       "    .dataframe thead th {\n",
       "        text-align: right;\n",
       "    }\n",
       "</style>\n",
       "<table border=\"1\" class=\"dataframe\">\n",
       "  <thead>\n",
       "    <tr style=\"text-align: right;\">\n",
       "      <th></th>\n",
       "      <th>short_name</th>\n",
       "      <th>names_used</th>\n",
       "      <th>number_of_names</th>\n",
       "    </tr>\n",
       "  </thead>\n",
       "  <tbody>\n",
       "    <tr>\n",
       "      <th>12</th>\n",
       "      <td>Pfizer</td>\n",
       "      <td>[Pfizer, Wyeth is now a wholly owned subsidiar...</td>\n",
       "      <td>2</td>\n",
       "    </tr>\n",
       "    <tr>\n",
       "      <th>16</th>\n",
       "      <td>AbbVie</td>\n",
       "      <td>[AbbVie, AbbVie (prior sponsor, Abbott)]</td>\n",
       "      <td>2</td>\n",
       "    </tr>\n",
       "    <tr>\n",
       "      <th>40</th>\n",
       "      <td>Eisai</td>\n",
       "      <td>[Eisai Inc., Eisai Co., Ltd., Eisai Limited]</td>\n",
       "      <td>3</td>\n",
       "    </tr>\n",
       "    <tr>\n",
       "      <th>51</th>\n",
       "      <td>Allergan</td>\n",
       "      <td>[Allergan, Chase Pharmaceuticals Corporation, ...</td>\n",
       "      <td>2</td>\n",
       "    </tr>\n",
       "    <tr>\n",
       "      <th>63</th>\n",
       "      <td>Otsuka</td>\n",
       "      <td>[Otsuka Pharmaceutical Development &amp; Commercia...</td>\n",
       "      <td>2</td>\n",
       "    </tr>\n",
       "    <tr>\n",
       "      <th>69</th>\n",
       "      <td>Janssen</td>\n",
       "      <td>[Janssen Research &amp; Development, LLC, Janssen ...</td>\n",
       "      <td>5</td>\n",
       "    </tr>\n",
       "    <tr>\n",
       "      <th>253</th>\n",
       "      <td>Kyowa</td>\n",
       "      <td>[Kyowa Hakko Kirin Pharma, Inc., Kyowa Kirin C...</td>\n",
       "      <td>2</td>\n",
       "    </tr>\n",
       "  </tbody>\n",
       "</table>\n",
       "</div>"
      ],
      "text/plain": [
       "    short_name                                         names_used  \\\n",
       "12      Pfizer  [Pfizer, Wyeth is now a wholly owned subsidiar...   \n",
       "16      AbbVie           [AbbVie, AbbVie (prior sponsor, Abbott)]   \n",
       "40       Eisai       [Eisai Inc., Eisai Co., Ltd., Eisai Limited]   \n",
       "51    Allergan  [Allergan, Chase Pharmaceuticals Corporation, ...   \n",
       "63      Otsuka  [Otsuka Pharmaceutical Development & Commercia...   \n",
       "69     Janssen  [Janssen Research & Development, LLC, Janssen ...   \n",
       "253      Kyowa  [Kyowa Hakko Kirin Pharma, Inc., Kyowa Kirin C...   \n",
       "\n",
       "     number_of_names  \n",
       "12                 2  \n",
       "16                 2  \n",
       "40                 3  \n",
       "51                 2  \n",
       "63                 2  \n",
       "69                 5  \n",
       "253                2  "
      ]
     },
     "execution_count": 1656,
     "metadata": {},
     "output_type": "execute_result"
    }
   ],
   "source": [
    "short_sponsor_name[short_sponsor_name['number_of_names']>1]"
   ]
  },
  {
   "cell_type": "code",
   "execution_count": 1655,
   "metadata": {},
   "outputs": [],
   "source": [
    "# we are going to drop Abbott from this df, later we'll use this as a lookup table \n",
    "short_sponsor_name.drop(short_sponsor_name[short_sponsor_name['short_name']=='Abbott'].index, inplace=True)\n",
    "short_sponsor_name.drop(short_sponsor_name[short_sponsor_name['short_name']=='Merck'].index, inplace=True)\n",
    "short_sponsor_name.drop(short_sponsor_name[short_sponsor_name['short_name']=='High'].index, inplace=True)\n",
    "short_sponsor_name.drop(short_sponsor_name[short_sponsor_name['short_name']=='H.'].index, inplace=True)\n",
    "short_sponsor_name.drop(short_sponsor_name[short_sponsor_name['short_name']=='Wyeth'].index, inplace=True)\n",
    "short_sponsor_name.drop(short_sponsor_name[short_sponsor_name['short_name']=='Chase'].index, inplace=True)\n",
    "short_sponsor_name.drop(short_sponsor_name[short_sponsor_name['short_name']=='Changchun'].index, inplace=True)\n",
    "short_sponsor_name.drop(short_sponsor_name[short_sponsor_name['short_name']=='Janssen,'].index, inplace=True)\n",
    "short_sponsor_name.drop(short_sponsor_name[short_sponsor_name['short_name']=='Janssen-Cilag'].index, inplace=True)\n",
    "# modified name\n",
    "added_shortname = pd.DataFrame({'short_name':['Merck Sharp & Dohme', 'Merck KGaA', 'High Point', 'Changchun Huayang High-tech', 'H. Lundbeck A/S'],\n",
    "             'names_used': ['Merck Sharp & Dohme Corp.', 'Merck KGaA, Darmstadt, Germany', 'High Point Pharmaceuticals, LLC.', 'Changchun Huayang High-tech Co., Ltd', 'H. Lundbeck A/S']})\n",
    "# add modified names into df\n",
    "short_sponsor_name = short_sponsor_name.append(added_shortname, sort=False)"
   ]
  },
  {
   "cell_type": "code",
   "execution_count": null,
   "metadata": {},
   "outputs": [],
   "source": []
  },
  {
   "cell_type": "code",
   "execution_count": 1848,
   "metadata": {},
   "outputs": [],
   "source": []
  },
  {
   "cell_type": "code",
   "execution_count": 1792,
   "metadata": {},
   "outputs": [],
   "source": [
    "# there are some manually added rows above dont have number of names used, we are going to add manually\n",
    "short_sponsor_name.fillna(1, inplace=True)"
   ]
  },
  {
   "cell_type": "code",
   "execution_count": 1810,
   "metadata": {},
   "outputs": [],
   "source": [
    "# covert list into string to facilita our look up \n",
    "for row in range(len(short_sponsor_name[:132])):\n",
    "    lt = short_sponsor_name.iloc[row, 1]\n",
    "    string = ''\n",
    "    for i in range(len(lt)):\n",
    "        string += ' '+lt[i]\n",
    "#     print(string)\n",
    "    short_sponsor_name.iloc[row, 1] = string"
   ]
  },
  {
   "cell_type": "markdown",
   "metadata": {},
   "source": [
    "### Final Clean"
   ]
  },
  {
   "cell_type": "code",
   "execution_count": 1721,
   "metadata": {
    "scrolled": false
   },
   "outputs": [
    {
     "data": {
      "text/html": [
       "<div>\n",
       "<style scoped>\n",
       "    .dataframe tbody tr th:only-of-type {\n",
       "        vertical-align: middle;\n",
       "    }\n",
       "\n",
       "    .dataframe tbody tr th {\n",
       "        vertical-align: top;\n",
       "    }\n",
       "\n",
       "    .dataframe thead th {\n",
       "        text-align: right;\n",
       "    }\n",
       "</style>\n",
       "<table border=\"1\" class=\"dataframe\">\n",
       "  <thead>\n",
       "    <tr style=\"text-align: right;\">\n",
       "      <th></th>\n",
       "      <th>sponsor_name</th>\n",
       "      <th>drug_name</th>\n",
       "    </tr>\n",
       "  </thead>\n",
       "  <tbody>\n",
       "  </tbody>\n",
       "</table>\n",
       "</div>"
      ],
      "text/plain": [
       "Empty DataFrame\n",
       "Columns: [sponsor_name, drug_name]\n",
       "Index: []"
      ]
     },
     "execution_count": 1721,
     "metadata": {},
     "output_type": "execute_result"
    }
   ],
   "source": [
    "co_phase_drug[co_phase_drug['drug_name'].str.contains('drug')]"
   ]
  },
  {
   "cell_type": "code",
   "execution_count": 1720,
   "metadata": {
    "scrolled": true
   },
   "outputs": [
    {
     "name": "stderr",
     "output_type": "stream",
     "text": [
      "/Users/jonzhao/anaconda3/lib/python3.6/site-packages/ipykernel_launcher.py:2: SettingWithCopyWarning: \n",
      "A value is trying to be set on a copy of a slice from a DataFrame.\n",
      "Try using .loc[row_indexer,col_indexer] = value instead\n",
      "\n",
      "See the caveats in the documentation: http://pandas.pydata.org/pandas-docs/stable/user_guide/indexing.html#returning-a-view-versus-a-copy\n",
      "  \n",
      "/Users/jonzhao/anaconda3/lib/python3.6/site-packages/ipykernel_launcher.py:3: SettingWithCopyWarning: \n",
      "A value is trying to be set on a copy of a slice from a DataFrame.\n",
      "Try using .loc[row_indexer,col_indexer] = value instead\n",
      "\n",
      "See the caveats in the documentation: http://pandas.pydata.org/pandas-docs/stable/user_guide/indexing.html#returning-a-view-versus-a-copy\n",
      "  This is separate from the ipykernel package so we can avoid doing imports until\n"
     ]
    }
   ],
   "source": [
    "# can't modify the name by one regex\n",
    "co_phase_drug['drug_name'] = [re.sub(r'^drug:?\\s?[-]?','', i) for i in co_phase_drug['drug_name']]\n",
    "co_phase_drug['drug_name'] = [re.sub(r'^drug','', i) for i in co_phase_drug['drug_name']]"
   ]
  },
  {
   "cell_type": "code",
   "execution_count": 1722,
   "metadata": {
    "scrolled": true
   },
   "outputs": [
    {
     "data": {
      "text/html": [
       "<div>\n",
       "<style scoped>\n",
       "    .dataframe tbody tr th:only-of-type {\n",
       "        vertical-align: middle;\n",
       "    }\n",
       "\n",
       "    .dataframe tbody tr th {\n",
       "        vertical-align: top;\n",
       "    }\n",
       "\n",
       "    .dataframe thead th {\n",
       "        text-align: right;\n",
       "    }\n",
       "</style>\n",
       "<table border=\"1\" class=\"dataframe\">\n",
       "  <thead>\n",
       "    <tr style=\"text-align: right;\">\n",
       "      <th></th>\n",
       "      <th>sponsor_name</th>\n",
       "      <th>drug_name</th>\n",
       "    </tr>\n",
       "  </thead>\n",
       "  <tbody>\n",
       "    <tr>\n",
       "      <th>39</th>\n",
       "      <td>Novartis Pharmaceuticals</td>\n",
       "      <td>active</td>\n",
       "    </tr>\n",
       "    <tr>\n",
       "      <th>40</th>\n",
       "      <td>Eisai Inc.</td>\n",
       "      <td>active</td>\n",
       "    </tr>\n",
       "    <tr>\n",
       "      <th>41</th>\n",
       "      <td>Cognition Therapeutics</td>\n",
       "      <td>active treatment- ct1812</td>\n",
       "    </tr>\n",
       "  </tbody>\n",
       "</table>\n",
       "</div>"
      ],
      "text/plain": [
       "                sponsor_name                 drug_name\n",
       "39  Novartis Pharmaceuticals                    active\n",
       "40                Eisai Inc.                    active\n",
       "41    Cognition Therapeutics  active treatment- ct1812"
      ]
     },
     "execution_count": 1722,
     "metadata": {},
     "output_type": "execute_result"
    }
   ],
   "source": [
    "co_phase_drug[co_phase_drug['drug_name'].str.contains('active')]"
   ]
  },
  {
   "cell_type": "code",
   "execution_count": 1735,
   "metadata": {},
   "outputs": [
    {
     "name": "stderr",
     "output_type": "stream",
     "text": [
      "/Users/jonzhao/anaconda3/lib/python3.6/site-packages/ipykernel_launcher.py:2: SettingWithCopyWarning: \n",
      "A value is trying to be set on a copy of a slice from a DataFrame.\n",
      "Try using .loc[row_indexer,col_indexer] = value instead\n",
      "\n",
      "See the caveats in the documentation: http://pandas.pydata.org/pandas-docs/stable/user_guide/indexing.html#returning-a-view-versus-a-copy\n",
      "  \n",
      "/Users/jonzhao/anaconda3/lib/python3.6/site-packages/ipykernel_launcher.py:3: SettingWithCopyWarning: \n",
      "A value is trying to be set on a copy of a slice from a DataFrame.\n",
      "Try using .loc[row_indexer,col_indexer] = value instead\n",
      "\n",
      "See the caveats in the documentation: http://pandas.pydata.org/pandas-docs/stable/user_guide/indexing.html#returning-a-view-versus-a-copy\n",
      "  This is separate from the ipykernel package so we can avoid doing imports until\n"
     ]
    }
   ],
   "source": [
    "# can't modify the name by one regex\n",
    "co_phase_drug['drug_name'] = [re.sub(r'^active\\s?', '',i) for i in co_phase_drug['drug_name']]\n",
    "co_phase_drug['drug_name'] = [re.sub(r'treatment-?', '',i) for i in co_phase_drug['drug_name']]"
   ]
  },
  {
   "cell_type": "code",
   "execution_count": 1739,
   "metadata": {},
   "outputs": [
    {
     "name": "stderr",
     "output_type": "stream",
     "text": [
      "/Users/jonzhao/anaconda3/lib/python3.6/site-packages/pandas/core/frame.py:4117: SettingWithCopyWarning: \n",
      "A value is trying to be set on a copy of a slice from a DataFrame\n",
      "\n",
      "See the caveats in the documentation: http://pandas.pydata.org/pandas-docs/stable/user_guide/indexing.html#returning-a-view-versus-a-copy\n",
      "  errors=errors,\n"
     ]
    }
   ],
   "source": [
    "# drop these row, these doesn't make sense. double checked with original dataset\n",
    "co_phase_drug.drop(co_phase_drug[co_phase_drug['drug_name'].str.contains('normal')].index, inplace=True)\n",
    "co_phase_drug.drop(co_phase_drug[co_phase_drug['drug_name'].str.contains('experimental')].index, inplace=True)\n",
    "# these are the one we fixed above\n",
    "co_phase_drug.drop(co_phase_drug[co_phase_drug['drug_name'] == ''].index, inplace=True)"
   ]
  },
  {
   "cell_type": "code",
   "execution_count": 1768,
   "metadata": {
    "scrolled": false
   },
   "outputs": [
    {
     "data": {
      "text/html": [
       "<div>\n",
       "<style scoped>\n",
       "    .dataframe tbody tr th:only-of-type {\n",
       "        vertical-align: middle;\n",
       "    }\n",
       "\n",
       "    .dataframe tbody tr th {\n",
       "        vertical-align: top;\n",
       "    }\n",
       "\n",
       "    .dataframe thead th {\n",
       "        text-align: right;\n",
       "    }\n",
       "</style>\n",
       "<table border=\"1\" class=\"dataframe\">\n",
       "  <thead>\n",
       "    <tr style=\"text-align: right;\">\n",
       "      <th></th>\n",
       "      <th>short_name</th>\n",
       "      <th>names_used</th>\n",
       "      <th>number_of_names</th>\n",
       "    </tr>\n",
       "  </thead>\n",
       "  <tbody>\n",
       "    <tr>\n",
       "      <th>12</th>\n",
       "      <td>Pfizer</td>\n",
       "      <td>[Pfizer, Wyeth is now a wholly owned subsidiar...</td>\n",
       "      <td>2.0</td>\n",
       "    </tr>\n",
       "    <tr>\n",
       "      <th>16</th>\n",
       "      <td>AbbVie</td>\n",
       "      <td>[AbbVie, AbbVie (prior sponsor, Abbott)]</td>\n",
       "      <td>2.0</td>\n",
       "    </tr>\n",
       "    <tr>\n",
       "      <th>40</th>\n",
       "      <td>Eisai</td>\n",
       "      <td>[Eisai Inc., Eisai Co., Ltd., Eisai Limited]</td>\n",
       "      <td>3.0</td>\n",
       "    </tr>\n",
       "    <tr>\n",
       "      <th>51</th>\n",
       "      <td>Allergan</td>\n",
       "      <td>[Allergan, Chase Pharmaceuticals Corporation, ...</td>\n",
       "      <td>2.0</td>\n",
       "    </tr>\n",
       "    <tr>\n",
       "      <th>63</th>\n",
       "      <td>Otsuka</td>\n",
       "      <td>[Otsuka Pharmaceutical Development &amp; Commercia...</td>\n",
       "      <td>2.0</td>\n",
       "    </tr>\n",
       "    <tr>\n",
       "      <th>69</th>\n",
       "      <td>Janssen</td>\n",
       "      <td>[Janssen Research &amp; Development, LLC, Janssen ...</td>\n",
       "      <td>5.0</td>\n",
       "    </tr>\n",
       "    <tr>\n",
       "      <th>253</th>\n",
       "      <td>Kyowa</td>\n",
       "      <td>[Kyowa Hakko Kirin Pharma, Inc., Kyowa Kirin C...</td>\n",
       "      <td>2.0</td>\n",
       "    </tr>\n",
       "  </tbody>\n",
       "</table>\n",
       "</div>"
      ],
      "text/plain": [
       "    short_name                                         names_used  \\\n",
       "12      Pfizer  [Pfizer, Wyeth is now a wholly owned subsidiar...   \n",
       "16      AbbVie           [AbbVie, AbbVie (prior sponsor, Abbott)]   \n",
       "40       Eisai       [Eisai Inc., Eisai Co., Ltd., Eisai Limited]   \n",
       "51    Allergan  [Allergan, Chase Pharmaceuticals Corporation, ...   \n",
       "63      Otsuka  [Otsuka Pharmaceutical Development & Commercia...   \n",
       "69     Janssen  [Janssen Research & Development, LLC, Janssen ...   \n",
       "253      Kyowa  [Kyowa Hakko Kirin Pharma, Inc., Kyowa Kirin C...   \n",
       "\n",
       "     number_of_names  \n",
       "12               2.0  \n",
       "16               2.0  \n",
       "40               3.0  \n",
       "51               2.0  \n",
       "63               2.0  \n",
       "69               5.0  \n",
       "253              2.0  "
      ]
     },
     "execution_count": 1768,
     "metadata": {},
     "output_type": "execute_result"
    }
   ],
   "source": [
    "short_sponsor_name[short_sponsor_name.fillna(1)['number_of_names']>1]"
   ]
  },
  {
   "cell_type": "code",
   "execution_count": 1812,
   "metadata": {},
   "outputs": [
    {
     "data": {
      "text/html": [
       "<div>\n",
       "<style scoped>\n",
       "    .dataframe tbody tr th:only-of-type {\n",
       "        vertical-align: middle;\n",
       "    }\n",
       "\n",
       "    .dataframe tbody tr th {\n",
       "        vertical-align: top;\n",
       "    }\n",
       "\n",
       "    .dataframe thead th {\n",
       "        text-align: right;\n",
       "    }\n",
       "</style>\n",
       "<table border=\"1\" class=\"dataframe\">\n",
       "  <thead>\n",
       "    <tr style=\"text-align: right;\">\n",
       "      <th></th>\n",
       "      <th>short_name</th>\n",
       "      <th>names_used</th>\n",
       "      <th>number_of_names</th>\n",
       "    </tr>\n",
       "  </thead>\n",
       "  <tbody>\n",
       "    <tr>\n",
       "      <th>1</th>\n",
       "      <td>Hoffmann-La</td>\n",
       "      <td>Hoffmann-La Roche</td>\n",
       "      <td>1.0</td>\n",
       "    </tr>\n",
       "    <tr>\n",
       "      <th>2</th>\n",
       "      <td>T3D</td>\n",
       "      <td>T3D Therapeutics, Inc.</td>\n",
       "      <td>1.0</td>\n",
       "    </tr>\n",
       "    <tr>\n",
       "      <th>4</th>\n",
       "      <td>Genentech,</td>\n",
       "      <td>Genentech, Inc.</td>\n",
       "      <td>1.0</td>\n",
       "    </tr>\n",
       "    <tr>\n",
       "      <th>6</th>\n",
       "      <td>GlaxoSmithKline</td>\n",
       "      <td>GlaxoSmithKline</td>\n",
       "      <td>1.0</td>\n",
       "    </tr>\n",
       "    <tr>\n",
       "      <th>8</th>\n",
       "      <td>Bellus</td>\n",
       "      <td>Bellus Health Inc</td>\n",
       "      <td>1.0</td>\n",
       "    </tr>\n",
       "    <tr>\n",
       "      <th>...</th>\n",
       "      <td>...</td>\n",
       "      <td>...</td>\n",
       "      <td>...</td>\n",
       "    </tr>\n",
       "    <tr>\n",
       "      <th>0</th>\n",
       "      <td>Merck Sharp &amp; Dohme</td>\n",
       "      <td>Merck Sharp &amp; Dohme Corp.</td>\n",
       "      <td>1.0</td>\n",
       "    </tr>\n",
       "    <tr>\n",
       "      <th>1</th>\n",
       "      <td>Merck KGaA</td>\n",
       "      <td>Merck KGaA, Darmstadt, Germany</td>\n",
       "      <td>1.0</td>\n",
       "    </tr>\n",
       "    <tr>\n",
       "      <th>2</th>\n",
       "      <td>High Point</td>\n",
       "      <td>High Point Pharmaceuticals, LLC.</td>\n",
       "      <td>1.0</td>\n",
       "    </tr>\n",
       "    <tr>\n",
       "      <th>3</th>\n",
       "      <td>Changchun Huayang High-tech</td>\n",
       "      <td>Changchun Huayang High-tech Co., Ltd</td>\n",
       "      <td>1.0</td>\n",
       "    </tr>\n",
       "    <tr>\n",
       "      <th>4</th>\n",
       "      <td>H. Lundbeck A/S</td>\n",
       "      <td>H. Lundbeck A/S</td>\n",
       "      <td>1.0</td>\n",
       "    </tr>\n",
       "  </tbody>\n",
       "</table>\n",
       "<p>130 rows × 3 columns</p>\n",
       "</div>"
      ],
      "text/plain": [
       "                     short_name                            names_used  \\\n",
       "1                   Hoffmann-La                     Hoffmann-La Roche   \n",
       "2                           T3D                T3D Therapeutics, Inc.   \n",
       "4                    Genentech,                       Genentech, Inc.   \n",
       "6               GlaxoSmithKline                       GlaxoSmithKline   \n",
       "8                        Bellus                     Bellus Health Inc   \n",
       "..                          ...                                   ...   \n",
       "0           Merck Sharp & Dohme             Merck Sharp & Dohme Corp.   \n",
       "1                    Merck KGaA        Merck KGaA, Darmstadt, Germany   \n",
       "2                    High Point      High Point Pharmaceuticals, LLC.   \n",
       "3   Changchun Huayang High-tech  Changchun Huayang High-tech Co., Ltd   \n",
       "4               H. Lundbeck A/S                       H. Lundbeck A/S   \n",
       "\n",
       "    number_of_names  \n",
       "1               1.0  \n",
       "2               1.0  \n",
       "4               1.0  \n",
       "6               1.0  \n",
       "8               1.0  \n",
       "..              ...  \n",
       "0               1.0  \n",
       "1               1.0  \n",
       "2               1.0  \n",
       "3               1.0  \n",
       "4               1.0  \n",
       "\n",
       "[130 rows x 3 columns]"
      ]
     },
     "execution_count": 1812,
     "metadata": {},
     "output_type": "execute_result"
    }
   ],
   "source": [
    "short_sponsor_name[short_sponsor_name.fillna(1)['number_of_names']==1]"
   ]
  },
  {
   "cell_type": "code",
   "execution_count": 1814,
   "metadata": {},
   "outputs": [
    {
     "data": {
      "text/plain": [
       "1.0    130\n",
       "2.0      5\n",
       "5.0      1\n",
       "3.0      1\n",
       "Name: number_of_names, dtype: int64"
      ]
     },
     "execution_count": 1814,
     "metadata": {},
     "output_type": "execute_result"
    }
   ],
   "source": [
    "short_sponsor_name['number_of_names'].value_counts()"
   ]
  },
  {
   "cell_type": "code",
   "execution_count": 1887,
   "metadata": {},
   "outputs": [],
   "source": [
    "# our final step is to unify the names company filled\n",
    "def name_unify(filled_name):\n",
    "#     print(filled_name)\n",
    "    num_names = (short_sponsor_name[short_sponsor_name['names_used'].str.contains(filled_name, regex=False)])['number_of_names'].values\n",
    "    if num_names > 1:\n",
    "        return (short_sponsor_name[short_sponsor_name['names_used'].str.contains(filled_name, regex=False)])['short_name'].values[0]\n",
    "    else:\n",
    "        return (short_sponsor_name[short_sponsor_name['names_used'].str.contains(filled_name, regex=False)])['names_used'].values[0]\n",
    "         \n",
    "        "
   ]
  },
  {
   "cell_type": "code",
   "execution_count": 1889,
   "metadata": {},
   "outputs": [
    {
     "name": "stderr",
     "output_type": "stream",
     "text": [
      "/Users/jonzhao/anaconda3/lib/python3.6/site-packages/ipykernel_launcher.py:1: SettingWithCopyWarning: \n",
      "A value is trying to be set on a copy of a slice from a DataFrame.\n",
      "Try using .loc[row_indexer,col_indexer] = value instead\n",
      "\n",
      "See the caveats in the documentation: http://pandas.pydata.org/pandas-docs/stable/user_guide/indexing.html#returning-a-view-versus-a-copy\n",
      "  \"\"\"Entry point for launching an IPython kernel.\n"
     ]
    }
   ],
   "source": [
    "co_phase_drug['fixed_name'] = co_phase_drug['sponsor_name'].apply(lambda x: name_unify(x))"
   ]
  },
  {
   "cell_type": "code",
   "execution_count": 1898,
   "metadata": {},
   "outputs": [
    {
     "data": {
      "text/plain": [
       "Pfizer                           24\n",
       " Eli Lilly and Company           11\n",
       "Merck Sharp & Dohme Corp.        11\n",
       " GlaxoSmithKline                 10\n",
       "Eisai                            10\n",
       "                                 ..\n",
       " PRAECIS Pharmaceuticals Inc.     1\n",
       " Epix Pharmaceuticals, Inc.       1\n",
       " Debiopharm International SA      1\n",
       " Baxalta now part of Shire        1\n",
       " VIVUS, Inc.                      1\n",
       "Name: fixed_name, Length: 132, dtype: int64"
      ]
     },
     "execution_count": 1898,
     "metadata": {},
     "output_type": "execute_result"
    }
   ],
   "source": [
    "co_phase_drug['fixed_name'].value_counts()"
   ]
  },
  {
   "cell_type": "code",
   "execution_count": 1899,
   "metadata": {},
   "outputs": [
    {
     "data": {
      "text/html": [
       "<div>\n",
       "<style scoped>\n",
       "    .dataframe tbody tr th:only-of-type {\n",
       "        vertical-align: middle;\n",
       "    }\n",
       "\n",
       "    .dataframe tbody tr th {\n",
       "        vertical-align: top;\n",
       "    }\n",
       "\n",
       "    .dataframe thead th {\n",
       "        text-align: right;\n",
       "    }\n",
       "</style>\n",
       "<table border=\"1\" class=\"dataframe\">\n",
       "  <thead>\n",
       "    <tr style=\"text-align: right;\">\n",
       "      <th></th>\n",
       "      <th>sponsor_name</th>\n",
       "      <th>drug_name</th>\n",
       "      <th>fixed_name</th>\n",
       "    </tr>\n",
       "  </thead>\n",
       "  <tbody>\n",
       "    <tr>\n",
       "      <th>70</th>\n",
       "      <td>Eli Lilly and Company</td>\n",
       "      <td>atomoxetine</td>\n",
       "      <td>Eli Lilly and Company</td>\n",
       "    </tr>\n",
       "    <tr>\n",
       "      <th>273</th>\n",
       "      <td>Eli Lilly and Company</td>\n",
       "      <td>ly2062430</td>\n",
       "      <td>Eli Lilly and Company</td>\n",
       "    </tr>\n",
       "    <tr>\n",
       "      <th>276</th>\n",
       "      <td>Eli Lilly and Company</td>\n",
       "      <td>ly2599666</td>\n",
       "      <td>Eli Lilly and Company</td>\n",
       "    </tr>\n",
       "    <tr>\n",
       "      <th>277</th>\n",
       "      <td>Eli Lilly and Company</td>\n",
       "      <td>ly3002813</td>\n",
       "      <td>Eli Lilly and Company</td>\n",
       "    </tr>\n",
       "    <tr>\n",
       "      <th>278</th>\n",
       "      <td>Eli Lilly and Company</td>\n",
       "      <td>ly3154207</td>\n",
       "      <td>Eli Lilly and Company</td>\n",
       "    </tr>\n",
       "    <tr>\n",
       "      <th>279</th>\n",
       "      <td>Eli Lilly and Company</td>\n",
       "      <td>ly3202626</td>\n",
       "      <td>Eli Lilly and Company</td>\n",
       "    </tr>\n",
       "    <tr>\n",
       "      <th>280</th>\n",
       "      <td>Eli Lilly and Company</td>\n",
       "      <td>ly3303560</td>\n",
       "      <td>Eli Lilly and Company</td>\n",
       "    </tr>\n",
       "    <tr>\n",
       "      <th>281</th>\n",
       "      <td>Eli Lilly and Company</td>\n",
       "      <td>ly450139</td>\n",
       "      <td>Eli Lilly and Company</td>\n",
       "    </tr>\n",
       "    <tr>\n",
       "      <th>283</th>\n",
       "      <td>Eli Lilly and Company</td>\n",
       "      <td>ly451395</td>\n",
       "      <td>Eli Lilly and Company</td>\n",
       "    </tr>\n",
       "    <tr>\n",
       "      <th>410</th>\n",
       "      <td>Eli Lilly and Company</td>\n",
       "      <td>semagacestat</td>\n",
       "      <td>Eli Lilly and Company</td>\n",
       "    </tr>\n",
       "    <tr>\n",
       "      <th>419</th>\n",
       "      <td>Eli Lilly and Company</td>\n",
       "      <td>solanezumab</td>\n",
       "      <td>Eli Lilly and Company</td>\n",
       "    </tr>\n",
       "  </tbody>\n",
       "</table>\n",
       "</div>"
      ],
      "text/plain": [
       "              sponsor_name     drug_name              fixed_name\n",
       "70   Eli Lilly and Company   atomoxetine   Eli Lilly and Company\n",
       "273  Eli Lilly and Company     ly2062430   Eli Lilly and Company\n",
       "276  Eli Lilly and Company     ly2599666   Eli Lilly and Company\n",
       "277  Eli Lilly and Company     ly3002813   Eli Lilly and Company\n",
       "278  Eli Lilly and Company     ly3154207   Eli Lilly and Company\n",
       "279  Eli Lilly and Company     ly3202626   Eli Lilly and Company\n",
       "280  Eli Lilly and Company     ly3303560   Eli Lilly and Company\n",
       "281  Eli Lilly and Company      ly450139   Eli Lilly and Company\n",
       "283  Eli Lilly and Company      ly451395   Eli Lilly and Company\n",
       "410  Eli Lilly and Company  semagacestat   Eli Lilly and Company\n",
       "419  Eli Lilly and Company   solanezumab   Eli Lilly and Company"
      ]
     },
     "execution_count": 1899,
     "metadata": {},
     "output_type": "execute_result"
    }
   ],
   "source": [
    "co_phase_drug[co_phase_drug['sponsor_name'].str.contains('Eli')]"
   ]
  },
  {
   "cell_type": "code",
   "execution_count": null,
   "metadata": {},
   "outputs": [],
   "source": []
  },
  {
   "cell_type": "code",
   "execution_count": null,
   "metadata": {},
   "outputs": [],
   "source": []
  },
  {
   "cell_type": "code",
   "execution_count": null,
   "metadata": {},
   "outputs": [],
   "source": []
  }
 ],
 "metadata": {
  "kernelspec": {
   "display_name": "Python 3",
   "language": "python",
   "name": "python3"
  },
  "language_info": {
   "codemirror_mode": {
    "name": "ipython",
    "version": 3
   },
   "file_extension": ".py",
   "mimetype": "text/x-python",
   "name": "python",
   "nbconvert_exporter": "python",
   "pygments_lexer": "ipython3",
   "version": "3.6.9"
  }
 },
 "nbformat": 4,
 "nbformat_minor": 2
}
