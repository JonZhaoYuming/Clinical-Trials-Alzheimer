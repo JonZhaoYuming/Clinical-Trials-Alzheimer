{
 "cells": [
  {
   "cell_type": "code",
   "execution_count": 2,
   "metadata": {},
   "outputs": [
    {
     "name": "stdout",
     "output_type": "stream",
     "text": [
      "['host=aact-db.ctti-clinicaltrials.org', 'dbname=aact', 'user=csyuming', 'password=19911030']\n"
     ]
    }
   ],
   "source": [
    "import psycopg2\n",
    "import pandas as pd\n",
    "pd.set_option('display.max_columns', 500)\n",
    "pd.set_option('display.max_rows', 100)\n",
    "import re\n",
    "\n",
    "host = 'aact-db.ctti-clinicaltrials.org'\n",
    "port = '5432'\n",
    "user = ''\n",
    "password = ''\n",
    "database = 'aact'\n",
    "\n",
    "conn_str = \"host={} dbname={} user={} password={}\".format(host, database, user, password)\n",
    "conn = psycopg2.connect(conn_str)\n",
    "print(conn_str.split())"
   ]
  },
  {
   "cell_type": "markdown",
   "metadata": {},
   "source": [
    "### Extract Data from SQL"
   ]
  },
  {
   "cell_type": "code",
   "execution_count": 2,
   "metadata": {},
   "outputs": [],
   "source": [
    "# Alzheimer related clinical trials\n",
    "sql = \"\"\"SELECT stud.*, a.name AS sponsor_name, a.agency_class, i.name AS drug_name , i.intervention_type\n",
    "            FROM studies stud \n",
    "            INNER JOIN (SELECT * FROM sponsors WHERE lead_or_collaborator = 'lead') a ON a.nct_id = stud.nct_id \n",
    "            INNER JOIN (SELECT DISTINCT name, nct_id, intervention_type FROM interventions) i ON i.nct_id = stud.nct_id \n",
    "            WHERE stud.nct_id IN (SELECT nct_id FROM browse_conditions WHERE downcase_mesh_term LIKE '%alzheimer%')\n",
    "            AND stud.study_type = 'Interventional'\n",
    "            AND (intervention_type = 'Drug')\n",
    "            AND stud.nct_id IN (SELECT nct_id FROM designs WHERE primary_purpose = 'Treatment' AND outcomes_assessor_masked = 'true' AND masking != 'None (Open Label)')\n",
    "            \"\"\"\n",
    "df=pd.read_sql(sql, con=conn)"
   ]
  },
  {
   "cell_type": "code",
   "execution_count": 5,
   "metadata": {},
   "outputs": [],
   "source": [
    "# # save to local drive\n",
    "# df.to_csv('Alzheimer_Clinical_Trails.csv', index=False)"
   ]
  },
  {
   "cell_type": "code",
   "execution_count": 4,
   "metadata": {},
   "outputs": [
    {
     "data": {
      "text/plain": [
       "Drug    598\n",
       "Name: intervention_type, dtype: int64"
      ]
     },
     "execution_count": 4,
     "metadata": {},
     "output_type": "execute_result"
    }
   ],
   "source": [
    "df = pd.read_csv('./Alzheimer_Clinical_Trails.csv')\n",
    "df.intervention_type.value_counts()"
   ]
  },
  {
   "cell_type": "code",
   "execution_count": 5,
   "metadata": {},
   "outputs": [],
   "source": [
    "df1 = df.copy()"
   ]
  },
  {
   "cell_type": "markdown",
   "metadata": {},
   "source": [
    "### Explorary Data Analysis"
   ]
  },
  {
   "cell_type": "markdown",
   "metadata": {},
   "source": [
    "Causes of duplicate ***nct_id*** in joined table\n",
    "- nct_id is primary key, it is unique in ***studies***\n",
    "- only one ***lead*** sponsor associate on nct_id\n",
    "- duplicate nct_id in the joined table is caused by ***one-to-many*** relationship between ***studies*** and ***interventions***  \n",
    "\n",
    "We are going to try to clean the format of drug name next. Many contain dosage in the name."
   ]
  },
  {
   "cell_type": "code",
   "execution_count": 6,
   "metadata": {},
   "outputs": [
    {
     "data": {
      "text/plain": [
       "NCT00766363    6\n",
       "NCT02051335    5\n",
       "NCT03001557    5\n",
       "NCT00948766    4\n",
       "NCT00439166    4\n",
       "              ..\n",
       "NCT02925650    2\n",
       "NCT00842816    2\n",
       "NCT02291783    2\n",
       "NCT03625622    2\n",
       "NCT01584440    2\n",
       "Name: nct_id, Length: 235, dtype: int64"
      ]
     },
     "execution_count": 6,
     "metadata": {},
     "output_type": "execute_result"
    }
   ],
   "source": [
    "# duplicate nut_id\n",
    "df1['nct_id'].value_counts()[df1['nct_id'].value_counts()>1]"
   ]
  },
  {
   "cell_type": "markdown",
   "metadata": {},
   "source": [
    "#### Clean Drug Names Contain ***'mg/'*** ####"
   ]
  },
  {
   "cell_type": "code",
   "execution_count": 7,
   "metadata": {},
   "outputs": [],
   "source": [
    "# clean drug name contains 'mg/day'\n",
    "ix = df1[df1['drug_name'].str.contains('mg/')].index\n",
    "loc = [i.find(' ') for i in df1[df1['drug_name'].str.contains('mg/')]['drug_name']]\n",
    "\n",
    "for i,l in zip(ix,loc):\n",
    "    df1.loc[i, 'drug_name'] = df1.loc[i, 'drug_name'][:l]"
   ]
  },
  {
   "cell_type": "code",
   "execution_count": 8,
   "metadata": {},
   "outputs": [
    {
     "data": {
      "text/html": [
       "<div>\n",
       "<style scoped>\n",
       "    .dataframe tbody tr th:only-of-type {\n",
       "        vertical-align: middle;\n",
       "    }\n",
       "\n",
       "    .dataframe tbody tr th {\n",
       "        vertical-align: top;\n",
       "    }\n",
       "\n",
       "    .dataframe thead th {\n",
       "        text-align: right;\n",
       "    }\n",
       "</style>\n",
       "<table border=\"1\" class=\"dataframe\">\n",
       "  <thead>\n",
       "    <tr style=\"text-align: right;\">\n",
       "      <th></th>\n",
       "      <th>nct_id</th>\n",
       "      <th>nlm_download_date_description</th>\n",
       "      <th>study_first_submitted_date</th>\n",
       "      <th>results_first_submitted_date</th>\n",
       "      <th>disposition_first_submitted_date</th>\n",
       "      <th>last_update_submitted_date</th>\n",
       "      <th>study_first_submitted_qc_date</th>\n",
       "      <th>study_first_posted_date</th>\n",
       "      <th>study_first_posted_date_type</th>\n",
       "      <th>results_first_submitted_qc_date</th>\n",
       "      <th>results_first_posted_date</th>\n",
       "      <th>results_first_posted_date_type</th>\n",
       "      <th>disposition_first_submitted_qc_date</th>\n",
       "      <th>disposition_first_posted_date</th>\n",
       "      <th>disposition_first_posted_date_type</th>\n",
       "      <th>last_update_submitted_qc_date</th>\n",
       "      <th>last_update_posted_date</th>\n",
       "      <th>last_update_posted_date_type</th>\n",
       "      <th>start_month_year</th>\n",
       "      <th>start_date_type</th>\n",
       "      <th>start_date</th>\n",
       "      <th>verification_month_year</th>\n",
       "      <th>verification_date</th>\n",
       "      <th>completion_month_year</th>\n",
       "      <th>completion_date_type</th>\n",
       "      <th>completion_date</th>\n",
       "      <th>primary_completion_month_year</th>\n",
       "      <th>primary_completion_date_type</th>\n",
       "      <th>primary_completion_date</th>\n",
       "      <th>target_duration</th>\n",
       "      <th>study_type</th>\n",
       "      <th>acronym</th>\n",
       "      <th>baseline_population</th>\n",
       "      <th>brief_title</th>\n",
       "      <th>official_title</th>\n",
       "      <th>overall_status</th>\n",
       "      <th>last_known_status</th>\n",
       "      <th>phase</th>\n",
       "      <th>enrollment</th>\n",
       "      <th>enrollment_type</th>\n",
       "      <th>source</th>\n",
       "      <th>limitations_and_caveats</th>\n",
       "      <th>number_of_arms</th>\n",
       "      <th>number_of_groups</th>\n",
       "      <th>why_stopped</th>\n",
       "      <th>has_expanded_access</th>\n",
       "      <th>expanded_access_type_individual</th>\n",
       "      <th>expanded_access_type_intermediate</th>\n",
       "      <th>expanded_access_type_treatment</th>\n",
       "      <th>has_dmc</th>\n",
       "      <th>is_fda_regulated_drug</th>\n",
       "      <th>is_fda_regulated_device</th>\n",
       "      <th>is_unapproved_device</th>\n",
       "      <th>is_ppsd</th>\n",
       "      <th>is_us_export</th>\n",
       "      <th>biospec_retention</th>\n",
       "      <th>biospec_description</th>\n",
       "      <th>ipd_time_frame</th>\n",
       "      <th>ipd_access_criteria</th>\n",
       "      <th>ipd_url</th>\n",
       "      <th>plan_to_share_ipd</th>\n",
       "      <th>plan_to_share_ipd_description</th>\n",
       "      <th>created_at</th>\n",
       "      <th>updated_at</th>\n",
       "      <th>sponsor_name</th>\n",
       "      <th>agency_class</th>\n",
       "      <th>drug_name</th>\n",
       "      <th>intervention_type</th>\n",
       "    </tr>\n",
       "  </thead>\n",
       "  <tbody>\n",
       "  </tbody>\n",
       "</table>\n",
       "</div>"
      ],
      "text/plain": [
       "Empty DataFrame\n",
       "Columns: [nct_id, nlm_download_date_description, study_first_submitted_date, results_first_submitted_date, disposition_first_submitted_date, last_update_submitted_date, study_first_submitted_qc_date, study_first_posted_date, study_first_posted_date_type, results_first_submitted_qc_date, results_first_posted_date, results_first_posted_date_type, disposition_first_submitted_qc_date, disposition_first_posted_date, disposition_first_posted_date_type, last_update_submitted_qc_date, last_update_posted_date, last_update_posted_date_type, start_month_year, start_date_type, start_date, verification_month_year, verification_date, completion_month_year, completion_date_type, completion_date, primary_completion_month_year, primary_completion_date_type, primary_completion_date, target_duration, study_type, acronym, baseline_population, brief_title, official_title, overall_status, last_known_status, phase, enrollment, enrollment_type, source, limitations_and_caveats, number_of_arms, number_of_groups, why_stopped, has_expanded_access, expanded_access_type_individual, expanded_access_type_intermediate, expanded_access_type_treatment, has_dmc, is_fda_regulated_drug, is_fda_regulated_device, is_unapproved_device, is_ppsd, is_us_export, biospec_retention, biospec_description, ipd_time_frame, ipd_access_criteria, ipd_url, plan_to_share_ipd, plan_to_share_ipd_description, created_at, updated_at, sponsor_name, agency_class, drug_name, intervention_type]\n",
       "Index: []"
      ]
     },
     "execution_count": 8,
     "metadata": {},
     "output_type": "execute_result"
    }
   ],
   "source": [
    "# double check \n",
    "df1[df1['drug_name'].str.contains('mg/')]"
   ]
  },
  {
   "cell_type": "markdown",
   "metadata": {},
   "source": [
    "Now, after modified drug names there should be some duplicates. We are going to drop thoes duplicates"
   ]
  },
  {
   "cell_type": "code",
   "execution_count": 9,
   "metadata": {},
   "outputs": [
    {
     "data": {
      "text/plain": [
       "6"
      ]
     },
     "execution_count": 9,
     "metadata": {},
     "output_type": "execute_result"
    }
   ],
   "source": [
    "len(df1) - len(df1.drop_duplicates())"
   ]
  },
  {
   "cell_type": "markdown",
   "metadata": {},
   "source": [
    "We are going to drop these rows have the same drug name"
   ]
  },
  {
   "cell_type": "code",
   "execution_count": 10,
   "metadata": {},
   "outputs": [],
   "source": [
    "df1.drop_duplicates(inplace=True)"
   ]
  },
  {
   "cell_type": "markdown",
   "metadata": {},
   "source": [
    "#### Clean Drug Names Contain mg"
   ]
  },
  {
   "cell_type": "markdown",
   "metadata": {},
   "source": [
    "- Start with drug_name has 2 letters\n",
    "- locate ' '(blanck space), if a space after mg the drug name would later words; if no space after mg then drug name would be first word"
   ]
  },
  {
   "cell_type": "markdown",
   "metadata": {},
   "source": [
    "Find rows have ***one space*** after 'mg' in drug name, example: 15mg T3D-959"
   ]
  },
  {
   "cell_type": "code",
   "execution_count": 11,
   "metadata": {
    "scrolled": false
   },
   "outputs": [
    {
     "data": {
      "text/plain": [
       "0    15mg T3D-959\n",
       "Name: drug_name, dtype: object"
      ]
     },
     "execution_count": 11,
     "metadata": {},
     "output_type": "execute_result"
    }
   ],
   "source": [
    "# rows has two words in drug name and contain 'mg'\n",
    "mg_one_space = df1[(df1['drug_name'].str.count(' ') == 1) & (df1['drug_name'].str.contains('mg'))]\n",
    "\n",
    "# find rows have a space after mg\n",
    "mg_one_space_after = mg_one_space[mg_one_space['drug_name'].str.contains('mg ')]\n",
    "mg_one_space_after['drug_name']"
   ]
  },
  {
   "cell_type": "code",
   "execution_count": 12,
   "metadata": {},
   "outputs": [
    {
     "name": "stderr",
     "output_type": "stream",
     "text": [
      "/Users/jonzhao/anaconda3/lib/python3.6/site-packages/pandas/core/indexing.py:494: SettingWithCopyWarning: \n",
      "A value is trying to be set on a copy of a slice from a DataFrame.\n",
      "Try using .loc[row_indexer,col_indexer] = value instead\n",
      "\n",
      "See the caveats in the documentation: http://pandas.pydata.org/pandas-docs/stable/user_guide/indexing.html#returning-a-view-versus-a-copy\n",
      "  self.obj[item] = s\n"
     ]
    }
   ],
   "source": [
    "# for loop to change the name one by one\n",
    "for ix in mg_one_space_after.index:\n",
    "    old_name = mg_one_space_after.loc[ix, 'drug_name']\n",
    "    space_location = old_name.find(' ')\n",
    "    # plus 1 to add space location\n",
    "    new_name = old_name[space_location + 1:]\n",
    "    #assign new name\n",
    "    mg_one_space.loc[ix, 'drug_name'] = new_name\n",
    "    mg_one_space_after.loc[ix, 'drug_name'] = new_name\n",
    "    df1.loc[ix, 'drug_name'] = new_name"
   ]
  },
  {
   "cell_type": "code",
   "execution_count": 13,
   "metadata": {},
   "outputs": [
    {
     "data": {
      "text/plain": [
       "0    T3D-959\n",
       "Name: drug_name, dtype: object"
      ]
     },
     "execution_count": 13,
     "metadata": {},
     "output_type": "execute_result"
    }
   ],
   "source": [
    "# double check\n",
    "mg_one_space_after['drug_name']"
   ]
  },
  {
   "cell_type": "markdown",
   "metadata": {},
   "source": [
    "Find rows have a space before 'mg', example :'Azeliragon 5mg'"
   ]
  },
  {
   "cell_type": "code",
   "execution_count": 14,
   "metadata": {},
   "outputs": [
    {
     "data": {
      "text/plain": [
       "94     CNP520 15mg\n",
       "95     CNP520 50mg\n",
       "542    S47445 15mg\n",
       "543    S47445 50mg\n",
       "544     S47445 5mg\n",
       "Name: drug_name, dtype: object"
      ]
     },
     "execution_count": 14,
     "metadata": {},
     "output_type": "execute_result"
    }
   ],
   "source": [
    "# since we already clean the drug name has dosage after, the reset have dosage before space\n",
    "mg_one_space_before = df1[(df1['drug_name'].str.count(' ') == 1) & (df1['drug_name'].str.contains('mg'))]\n",
    "mg_one_space_before['drug_name']"
   ]
  },
  {
   "cell_type": "code",
   "execution_count": 15,
   "metadata": {
    "scrolled": true
   },
   "outputs": [],
   "source": [
    "# for loop to change the name one by one\n",
    "for ix in mg_one_space_before.index:\n",
    "    old_name = mg_one_space_before.loc[ix, 'drug_name']\n",
    "    space_location = old_name.find(' ')\n",
    "    # plus 1 to add space location\n",
    "    new_name = old_name[:space_location]\n",
    "    #assign new name\n",
    "    mg_one_space.loc[ix, 'drug_name'] = new_name\n",
    "    mg_one_space_before.loc[ix, 'drug_name'] = new_name\n",
    "    df1.loc[ix, 'drug_name'] = new_name"
   ]
  },
  {
   "cell_type": "code",
   "execution_count": 16,
   "metadata": {},
   "outputs": [
    {
     "data": {
      "text/plain": [
       "94     CNP520\n",
       "95     CNP520\n",
       "542    S47445\n",
       "543    S47445\n",
       "544    S47445\n",
       "Name: drug_name, dtype: object"
      ]
     },
     "execution_count": 16,
     "metadata": {},
     "output_type": "execute_result"
    }
   ],
   "source": [
    "mg_one_space_before['drug_name']"
   ]
  },
  {
   "cell_type": "markdown",
   "metadata": {},
   "source": [
    "Clean drug names have ***two spaces*** and have dosage in it\n",
    "- ***1st case***: 'mg' is in between example: 30 mg T3D-959\n",
    "- ***2nd case***: 'mg' at the end example: Atabecestat, 25 mg\n",
    "- ***3rd case***: there is no space between dosage amount and unit 'mg' example: AD-35 90mg group"
   ]
  },
  {
   "cell_type": "code",
   "execution_count": 17,
   "metadata": {},
   "outputs": [
    {
     "data": {
      "text/plain": [
       "4            30 mg T3D-959\n",
       "6            45 mg T3D-959\n",
       "44     AZD0530 100mg daily\n",
       "45     AZD0530 125mg daily\n",
       "187         GV1001 0.56 mg\n",
       "Name: drug_name, dtype: object"
      ]
     },
     "execution_count": 17,
     "metadata": {},
     "output_type": "execute_result"
    }
   ],
   "source": [
    "# rows has three words in drug name and contain 'mg'\n",
    "mg_two_space = df1[(df1['drug_name'].str.count(' ') == 2) & (df1['drug_name'].str.contains('mg'))]\n",
    "# number of rows\n",
    "mg_two_space['drug_name'].head()"
   ]
  },
  {
   "cell_type": "code",
   "execution_count": 18,
   "metadata": {},
   "outputs": [],
   "source": [
    "# function to split dosage for the first case\n",
    "def split_dosage(drug_name):\n",
    "    # space before and after 'mg' identify the first case\n",
    "    try:\n",
    "        return re.split(r\" mg \", drug_name)[1]\n",
    "    except:\n",
    "        return drug_name"
   ]
  },
  {
   "cell_type": "code",
   "execution_count": 19,
   "metadata": {},
   "outputs": [
    {
     "name": "stderr",
     "output_type": "stream",
     "text": [
      "/Users/jonzhao/anaconda3/lib/python3.6/site-packages/ipykernel_launcher.py:2: SettingWithCopyWarning: \n",
      "A value is trying to be set on a copy of a slice from a DataFrame.\n",
      "Try using .loc[row_indexer,col_indexer] = value instead\n",
      "\n",
      "See the caveats in the documentation: http://pandas.pydata.org/pandas-docs/stable/user_guide/indexing.html#returning-a-view-versus-a-copy\n",
      "  \n"
     ]
    }
   ],
   "source": [
    "# apply the function to drug_name column\n",
    "mg_two_space['drug_name'] = mg_two_space['drug_name'].apply(split_dosage)"
   ]
  },
  {
   "cell_type": "code",
   "execution_count": 20,
   "metadata": {
    "scrolled": true
   },
   "outputs": [
    {
     "name": "stdout",
     "output_type": "stream",
     "text": [
      "Orginal name: GV1001 0.56 mg\n",
      "After Regex split: GV1001\n"
     ]
    }
   ],
   "source": [
    "print('Orginal name: ' + mg_two_space.loc[187, 'drug_name']+\n",
    "      '\\nAfter Regex split: '+re.split(r\"\\s\\d+\\.?\\d*\\smg$\", mg_two_space.loc[187, 'drug_name'])[0])"
   ]
  },
  {
   "cell_type": "code",
   "execution_count": 21,
   "metadata": {},
   "outputs": [],
   "source": [
    "# function to split dosage for the second case\n",
    "def split_dosage(drug_name):\n",
    "    # space before and after 'mg' identify the sencond case\n",
    "    try:\n",
    "        return re.split(r\"\\s\\d+\\.?\\d*\\smg$\", drug_name)[0]\n",
    "    except:\n",
    "        return drug_name"
   ]
  },
  {
   "cell_type": "code",
   "execution_count": 22,
   "metadata": {
    "scrolled": true
   },
   "outputs": [
    {
     "name": "stderr",
     "output_type": "stream",
     "text": [
      "/Users/jonzhao/anaconda3/lib/python3.6/site-packages/ipykernel_launcher.py:2: SettingWithCopyWarning: \n",
      "A value is trying to be set on a copy of a slice from a DataFrame.\n",
      "Try using .loc[row_indexer,col_indexer] = value instead\n",
      "\n",
      "See the caveats in the documentation: http://pandas.pydata.org/pandas-docs/stable/user_guide/indexing.html#returning-a-view-versus-a-copy\n",
      "  \n"
     ]
    }
   ],
   "source": [
    "# apply the function to drug_name column\n",
    "mg_two_space['drug_name'] = mg_two_space['drug_name'].apply(split_dosage)"
   ]
  },
  {
   "cell_type": "code",
   "execution_count": 23,
   "metadata": {
    "scrolled": false
   },
   "outputs": [
    {
     "data": {
      "text/plain": [
       "4                  T3D-959\n",
       "6                  T3D-959\n",
       "44     AZD0530 100mg daily\n",
       "45     AZD0530 125mg daily\n",
       "187                 GV1001\n",
       "188                 GV1001\n",
       "210            Lemborexant\n",
       "211            Lemborexant\n",
       "212            Lemborexant\n",
       "213            Lemborexant\n",
       "292           Pimavanserin\n",
       "293           Pimavanserin\n",
       "541                RVT-101\n",
       "Name: drug_name, dtype: object"
      ]
     },
     "execution_count": 23,
     "metadata": {},
     "output_type": "execute_result"
    }
   ],
   "source": [
    "mg_two_space['drug_name']"
   ]
  },
  {
   "cell_type": "markdown",
   "metadata": {},
   "source": [
    "Looks like it works with majority drug names except few don't have space between dosage amount and unit example: ***AD-35 60mg group***. Simple Regex split would work for these"
   ]
  },
  {
   "cell_type": "code",
   "execution_count": 24,
   "metadata": {},
   "outputs": [
    {
     "name": "stdout",
     "output_type": "stream",
     "text": [
      "Orginal name: AZD0530 100mg daily\n",
      "After Regex split: AZD0530\n"
     ]
    }
   ],
   "source": [
    "print('Orginal name: ' + mg_two_space.loc[44, 'drug_name']+\n",
    "      '\\nAfter Regex split: '+re.split(r\"\\s\\d+mg\", mg_two_space.loc[44, 'drug_name'])[0])"
   ]
  },
  {
   "cell_type": "code",
   "execution_count": 25,
   "metadata": {},
   "outputs": [
    {
     "name": "stderr",
     "output_type": "stream",
     "text": [
      "/Users/jonzhao/anaconda3/lib/python3.6/site-packages/ipykernel_launcher.py:9: SettingWithCopyWarning: \n",
      "A value is trying to be set on a copy of a slice from a DataFrame.\n",
      "Try using .loc[row_indexer,col_indexer] = value instead\n",
      "\n",
      "See the caveats in the documentation: http://pandas.pydata.org/pandas-docs/stable/user_guide/indexing.html#returning-a-view-versus-a-copy\n",
      "  if __name__ == '__main__':\n"
     ]
    }
   ],
   "source": [
    "# function to split dosage for the second case\n",
    "def split_dosage(drug_name):\n",
    "    # space before and after 'mg' identify the sencond case\n",
    "    try:\n",
    "        return re.split(r\"\\s\\d+mg\", drug_name)[0]\n",
    "    except:\n",
    "        return drug_name\n",
    "# apply the function to drug_name column\n",
    "mg_two_space['drug_name'] = mg_two_space['drug_name'].apply(split_dosage)"
   ]
  },
  {
   "cell_type": "code",
   "execution_count": 26,
   "metadata": {},
   "outputs": [
    {
     "data": {
      "text/plain": [
       "4           T3D-959\n",
       "6           T3D-959\n",
       "44          AZD0530\n",
       "45          AZD0530\n",
       "187          GV1001\n",
       "188          GV1001\n",
       "210     Lemborexant\n",
       "211     Lemborexant\n",
       "212     Lemborexant\n",
       "213     Lemborexant\n",
       "292    Pimavanserin\n",
       "293    Pimavanserin\n",
       "541         RVT-101\n",
       "Name: drug_name, dtype: object"
      ]
     },
     "execution_count": 26,
     "metadata": {},
     "output_type": "execute_result"
    }
   ],
   "source": [
    "mg_two_space['drug_name']"
   ]
  },
  {
   "cell_type": "code",
   "execution_count": 27,
   "metadata": {},
   "outputs": [],
   "source": [
    "# replace the new name into our df1 dataframe\n",
    "df1.loc[mg_two_space.index, 'drug_name'] = mg_two_space['drug_name']"
   ]
  },
  {
   "cell_type": "markdown",
   "metadata": {},
   "source": [
    "Next we are going to look up drug names contain ***three spaces***. The names are geting more compalicated with more spaces involved"
   ]
  },
  {
   "cell_type": "code",
   "execution_count": 28,
   "metadata": {},
   "outputs": [
    {
     "data": {
      "text/plain": [
       "27                   AGB101 220 mg tablet\n",
       "516                  PTI-125 50 mg tablet\n",
       "534    Rosiglitazone Extended Release 2mg\n",
       "535    Rosiglitazone Extended Release 2mg\n",
       "536    Rosiglitazone Extended Release 8mg\n",
       "537    Rosiglitazone Extended Release 8mg\n",
       "Name: drug_name, dtype: object"
      ]
     },
     "execution_count": 28,
     "metadata": {},
     "output_type": "execute_result"
    }
   ],
   "source": [
    "# rows has three words in drug name and contain 'mg'\n",
    "mg_three_space = df1[(df1['drug_name'].str.count(' ') == 3) & (df1['drug_name'].str.contains('mg'))]\n",
    "# number of rows\n",
    "mg_three_space['drug_name']"
   ]
  },
  {
   "cell_type": "code",
   "execution_count": 29,
   "metadata": {},
   "outputs": [
    {
     "name": "stdout",
     "output_type": "stream",
     "text": [
      "Old name: Rosiglitazone Extended Release 2mg\n",
      "New name: Rosiglitazone Extended Release\n"
     ]
    }
   ],
   "source": [
    "print('Old name: '+mg_three_space.loc[534, 'drug_name'] +\n",
    "      '\\nNew name: ' + re.split(r'\\s\\d+\\.?\\-?\\d*\\s*mg', mg_three_space.loc[534, 'drug_name'])[0])"
   ]
  },
  {
   "cell_type": "code",
   "execution_count": 30,
   "metadata": {},
   "outputs": [
    {
     "name": "stderr",
     "output_type": "stream",
     "text": [
      "/Users/jonzhao/anaconda3/lib/python3.6/site-packages/ipykernel_launcher.py:8: SettingWithCopyWarning: \n",
      "A value is trying to be set on a copy of a slice from a DataFrame.\n",
      "Try using .loc[row_indexer,col_indexer] = value instead\n",
      "\n",
      "See the caveats in the documentation: http://pandas.pydata.org/pandas-docs/stable/user_guide/indexing.html#returning-a-view-versus-a-copy\n",
      "  \n"
     ]
    }
   ],
   "source": [
    "# function to split dosage for the second case\n",
    "def split_dosage(drug_name):\n",
    "    # space before and after 'mg' identify the sencond case\n",
    "    try:\n",
    "        return re.split(r'\\s\\d+\\.?\\-?\\d*\\s*mg', drug_name)[0]\n",
    "    except:\n",
    "        return drug_name\n",
    "mg_three_space['drug_name'] = mg_three_space['drug_name'].apply(split_dosage)"
   ]
  },
  {
   "cell_type": "code",
   "execution_count": 31,
   "metadata": {
    "scrolled": true
   },
   "outputs": [
    {
     "data": {
      "text/plain": [
       "27                             AGB101\n",
       "516                           PTI-125\n",
       "534    Rosiglitazone Extended Release\n",
       "535    Rosiglitazone Extended Release\n",
       "536    Rosiglitazone Extended Release\n",
       "537    Rosiglitazone Extended Release\n",
       "Name: drug_name, dtype: object"
      ]
     },
     "execution_count": 31,
     "metadata": {},
     "output_type": "execute_result"
    }
   ],
   "source": [
    "mg_three_space.drug_name"
   ]
  },
  {
   "cell_type": "markdown",
   "metadata": {},
   "source": [
    "We have one more need to correct, it use ***milligram*** instead of ***mg***"
   ]
  },
  {
   "cell_type": "code",
   "execution_count": 32,
   "metadata": {},
   "outputs": [
    {
     "name": "stderr",
     "output_type": "stream",
     "text": [
      "/Users/jonzhao/anaconda3/lib/python3.6/site-packages/ipykernel_launcher.py:8: SettingWithCopyWarning: \n",
      "A value is trying to be set on a copy of a slice from a DataFrame.\n",
      "Try using .loc[row_indexer,col_indexer] = value instead\n",
      "\n",
      "See the caveats in the documentation: http://pandas.pydata.org/pandas-docs/stable/user_guide/indexing.html#returning-a-view-versus-a-copy\n",
      "  \n"
     ]
    }
   ],
   "source": [
    "# function to split dosage for the second case\n",
    "def split_dosage(drug_name):\n",
    "    # space before and after 'mg' identify the sencond case\n",
    "    try:\n",
    "        return re.split(r'\\s\\d+\\.?\\d*\\smilligram\\s', drug_name)[0]\n",
    "    except:\n",
    "        return drug_name\n",
    "mg_three_space['drug_name'] = mg_three_space['drug_name'].apply(split_dosage)"
   ]
  },
  {
   "cell_type": "code",
   "execution_count": 33,
   "metadata": {},
   "outputs": [
    {
     "data": {
      "text/plain": [
       "27                             AGB101\n",
       "516                           PTI-125\n",
       "534    Rosiglitazone Extended Release\n",
       "535    Rosiglitazone Extended Release\n",
       "536    Rosiglitazone Extended Release\n",
       "537    Rosiglitazone Extended Release\n",
       "Name: drug_name, dtype: object"
      ]
     },
     "execution_count": 33,
     "metadata": {},
     "output_type": "execute_result"
    }
   ],
   "source": [
    "mg_three_space.drug_name"
   ]
  },
  {
   "cell_type": "code",
   "execution_count": 34,
   "metadata": {},
   "outputs": [],
   "source": [
    "# replace the drug name to main dataframe\n",
    "df1.loc[mg_three_space.index, 'drug_name'] = mg_three_space['drug_name']"
   ]
  },
  {
   "cell_type": "markdown",
   "metadata": {},
   "source": [
    "All look good now, next we are going to work with drug names have more than three spaces"
   ]
  },
  {
   "cell_type": "code",
   "execution_count": 35,
   "metadata": {},
   "outputs": [
    {
     "data": {
      "text/plain": [
       "22                     Active Treatment- CT1812 100 mg\n",
       "23                     Active Treatment- CT1812 300 mg\n",
       "477                    Placebo + Donepezil 5mg or 10mg\n",
       "515                         PTI-125 100 mg oral tablet\n",
       "585                 Verubecestat 12 mg (Parts 1 and 2)\n",
       "586                 Verubecestat 40 mg (Parts 1 and 2)\n",
       "596    Zydena (Udenafil) 100mg + Donepezil 5mg or 10mg\n",
       "597     Zydena (Udenafil) 50mg + Donepezil 5mg or 10mg\n",
       "Name: drug_name, dtype: object"
      ]
     },
     "execution_count": 35,
     "metadata": {},
     "output_type": "execute_result"
    }
   ],
   "source": [
    "# rows has three words in drug name and contain 'mg'\n",
    "mg_three_space_more = df1[(df1['drug_name'].str.count(' ') > 3) & (df1['drug_name'].str.contains('mg'))]\n",
    "# number of rows\n",
    "mg_three_space_more['drug_name']"
   ]
  },
  {
   "cell_type": "code",
   "execution_count": 36,
   "metadata": {},
   "outputs": [
    {
     "name": "stderr",
     "output_type": "stream",
     "text": [
      "/Users/jonzhao/anaconda3/lib/python3.6/site-packages/ipykernel_launcher.py:8: SettingWithCopyWarning: \n",
      "A value is trying to be set on a copy of a slice from a DataFrame.\n",
      "Try using .loc[row_indexer,col_indexer] = value instead\n",
      "\n",
      "See the caveats in the documentation: http://pandas.pydata.org/pandas-docs/stable/user_guide/indexing.html#returning-a-view-versus-a-copy\n",
      "  \n"
     ]
    }
   ],
   "source": [
    "# function to split dosage for the second case\n",
    "def split_dosage(drug_name):\n",
    "    # space before and after 'mg' identify the sencond case\n",
    "    try:\n",
    "        return re.split(r'\\s\\d+\\.?\\-?\\d*\\s*mg', drug_name)[0]\n",
    "    except:\n",
    "        return drug_name\n",
    "mg_three_space_more['drug_name'] = mg_three_space_more['drug_name'].apply(split_dosage)"
   ]
  },
  {
   "cell_type": "code",
   "execution_count": 37,
   "metadata": {},
   "outputs": [
    {
     "name": "stderr",
     "output_type": "stream",
     "text": [
      "/Users/jonzhao/anaconda3/lib/python3.6/site-packages/ipykernel_launcher.py:9: SettingWithCopyWarning: \n",
      "A value is trying to be set on a copy of a slice from a DataFrame.\n",
      "Try using .loc[row_indexer,col_indexer] = value instead\n",
      "\n",
      "See the caveats in the documentation: http://pandas.pydata.org/pandas-docs/stable/user_guide/indexing.html#returning-a-view-versus-a-copy\n",
      "  if __name__ == '__main__':\n"
     ]
    }
   ],
   "source": [
    "# function to split dosage for the second case\n",
    "def split_dosage(drug_name):\n",
    "    # space before and after 'mg' identify the sencond case\n",
    "    try:\n",
    "        return re.split(r\"\\s\\d+mg\", drug_name)[0]\n",
    "    except:\n",
    "        return drug_name\n",
    "# apply the function to drug_name column\n",
    "mg_three_space_more['drug_name'] = mg_three_space_more['drug_name'].apply(split_dosage)"
   ]
  },
  {
   "cell_type": "code",
   "execution_count": 38,
   "metadata": {},
   "outputs": [],
   "source": [
    "# replace the drug name to main dataframe\n",
    "df1.loc[mg_three_space_more.index, 'drug_name'] = mg_three_space_more['drug_name']"
   ]
  },
  {
   "cell_type": "markdown",
   "metadata": {},
   "source": [
    "Since We have cleaned many drug names, now we may expect to see some duplicate rows, we are going to remove those rows"
   ]
  },
  {
   "cell_type": "code",
   "execution_count": 39,
   "metadata": {},
   "outputs": [],
   "source": [
    "df1.drop_duplicates(inplace=True,)\n",
    "df1.reset_index(drop=True, inplace=True)"
   ]
  },
  {
   "cell_type": "markdown",
   "metadata": {},
   "source": [
    "We cleaned drug names have dosage related issue, next we'll remove clinical trails whice are designed for blined test"
   ]
  },
  {
   "cell_type": "markdown",
   "metadata": {},
   "source": [
    "#### Clean Drug Names Contain Placebo ####\n",
    "\n",
    "***placebo*** is a drug for blind test, one of test group will recieve ***placebo*** which has no active ingredients referred as control group. Another group will receive the treatmet to be evaluated.  * \n",
    "\n",
    "There are common Alzheimer drugs are used in the trails as standard of care, Some related trails are testing various investigational drugs as add-on therapy to donepezil. Some are testing efficacy, safety or tolerability of marketed drugs under certain conditions** \n",
    " - donepezil\n",
    " - rivastigmine\n",
    " - galantamine\n",
    " - memantine  \n",
    "*source: design_group of NCT01677754  \n",
    "**source: https://www.alzforum.org/therapeutics/donepezil;  \n",
    "https://www.alz.org/alzheimers-dementia/treatments/medications-for-memory"
   ]
  },
  {
   "cell_type": "code",
   "execution_count": 40,
   "metadata": {
    "scrolled": true
   },
   "outputs": [
    {
     "data": {
      "text/html": [
       "<div>\n",
       "<style scoped>\n",
       "    .dataframe tbody tr th:only-of-type {\n",
       "        vertical-align: middle;\n",
       "    }\n",
       "\n",
       "    .dataframe tbody tr th {\n",
       "        vertical-align: top;\n",
       "    }\n",
       "\n",
       "    .dataframe thead th {\n",
       "        text-align: right;\n",
       "    }\n",
       "</style>\n",
       "<table border=\"1\" class=\"dataframe\">\n",
       "  <thead>\n",
       "    <tr style=\"text-align: right;\">\n",
       "      <th></th>\n",
       "      <th>nct_id</th>\n",
       "      <th>nlm_download_date_description</th>\n",
       "      <th>study_first_submitted_date</th>\n",
       "      <th>results_first_submitted_date</th>\n",
       "      <th>disposition_first_submitted_date</th>\n",
       "      <th>last_update_submitted_date</th>\n",
       "      <th>study_first_submitted_qc_date</th>\n",
       "      <th>study_first_posted_date</th>\n",
       "      <th>study_first_posted_date_type</th>\n",
       "      <th>results_first_submitted_qc_date</th>\n",
       "      <th>results_first_posted_date</th>\n",
       "      <th>results_first_posted_date_type</th>\n",
       "      <th>disposition_first_submitted_qc_date</th>\n",
       "      <th>disposition_first_posted_date</th>\n",
       "      <th>disposition_first_posted_date_type</th>\n",
       "      <th>last_update_submitted_qc_date</th>\n",
       "      <th>last_update_posted_date</th>\n",
       "      <th>last_update_posted_date_type</th>\n",
       "      <th>start_month_year</th>\n",
       "      <th>start_date_type</th>\n",
       "      <th>start_date</th>\n",
       "      <th>verification_month_year</th>\n",
       "      <th>verification_date</th>\n",
       "      <th>completion_month_year</th>\n",
       "      <th>completion_date_type</th>\n",
       "      <th>completion_date</th>\n",
       "      <th>primary_completion_month_year</th>\n",
       "      <th>primary_completion_date_type</th>\n",
       "      <th>primary_completion_date</th>\n",
       "      <th>target_duration</th>\n",
       "      <th>study_type</th>\n",
       "      <th>acronym</th>\n",
       "      <th>baseline_population</th>\n",
       "      <th>brief_title</th>\n",
       "      <th>official_title</th>\n",
       "      <th>overall_status</th>\n",
       "      <th>last_known_status</th>\n",
       "      <th>phase</th>\n",
       "      <th>enrollment</th>\n",
       "      <th>enrollment_type</th>\n",
       "      <th>source</th>\n",
       "      <th>limitations_and_caveats</th>\n",
       "      <th>number_of_arms</th>\n",
       "      <th>number_of_groups</th>\n",
       "      <th>why_stopped</th>\n",
       "      <th>has_expanded_access</th>\n",
       "      <th>expanded_access_type_individual</th>\n",
       "      <th>expanded_access_type_intermediate</th>\n",
       "      <th>expanded_access_type_treatment</th>\n",
       "      <th>has_dmc</th>\n",
       "      <th>is_fda_regulated_drug</th>\n",
       "      <th>is_fda_regulated_device</th>\n",
       "      <th>is_unapproved_device</th>\n",
       "      <th>is_ppsd</th>\n",
       "      <th>is_us_export</th>\n",
       "      <th>biospec_retention</th>\n",
       "      <th>biospec_description</th>\n",
       "      <th>ipd_time_frame</th>\n",
       "      <th>ipd_access_criteria</th>\n",
       "      <th>ipd_url</th>\n",
       "      <th>plan_to_share_ipd</th>\n",
       "      <th>plan_to_share_ipd_description</th>\n",
       "      <th>created_at</th>\n",
       "      <th>updated_at</th>\n",
       "      <th>sponsor_name</th>\n",
       "      <th>agency_class</th>\n",
       "      <th>drug_name</th>\n",
       "      <th>intervention_type</th>\n",
       "    </tr>\n",
       "  </thead>\n",
       "  <tbody>\n",
       "    <tr>\n",
       "      <th>129</th>\n",
       "      <td>NCT01255046</td>\n",
       "      <td>ClinicalTrials.gov processed this data on Janu...</td>\n",
       "      <td>2010-12-03</td>\n",
       "      <td>NaN</td>\n",
       "      <td>NaN</td>\n",
       "      <td>2014-08-19</td>\n",
       "      <td>2010-12-05</td>\n",
       "      <td>2010-12-07</td>\n",
       "      <td>Estimate</td>\n",
       "      <td>NaN</td>\n",
       "      <td>NaN</td>\n",
       "      <td>NaN</td>\n",
       "      <td>NaN</td>\n",
       "      <td>NaN</td>\n",
       "      <td>NaN</td>\n",
       "      <td>2014-08-19</td>\n",
       "      <td>2014-08-20</td>\n",
       "      <td>Estimate</td>\n",
       "      <td>December 2015</td>\n",
       "      <td>NaN</td>\n",
       "      <td>2015-12-31</td>\n",
       "      <td>August 2014</td>\n",
       "      <td>2014-08-31</td>\n",
       "      <td>NaN</td>\n",
       "      <td>NaN</td>\n",
       "      <td>NaN</td>\n",
       "      <td>December 2018</td>\n",
       "      <td>Anticipated</td>\n",
       "      <td>2018-12-31</td>\n",
       "      <td>NaN</td>\n",
       "      <td>Interventional</td>\n",
       "      <td>NaN</td>\n",
       "      <td>NaN</td>\n",
       "      <td>Study of STA-1 as an Add-on Treatment to Donep...</td>\n",
       "      <td>A Phase II Double-blind, Randomized, Placebo-c...</td>\n",
       "      <td>Unknown status</td>\n",
       "      <td>Not yet recruiting</td>\n",
       "      <td>Phase 2</td>\n",
       "      <td>136</td>\n",
       "      <td>Anticipated</td>\n",
       "      <td>Sinphar Pharmaceutical Co., Ltd</td>\n",
       "      <td>NaN</td>\n",
       "      <td>2</td>\n",
       "      <td>NaN</td>\n",
       "      <td>NaN</td>\n",
       "      <td>False</td>\n",
       "      <td>NaN</td>\n",
       "      <td>NaN</td>\n",
       "      <td>NaN</td>\n",
       "      <td>True</td>\n",
       "      <td>NaN</td>\n",
       "      <td>NaN</td>\n",
       "      <td>NaN</td>\n",
       "      <td>NaN</td>\n",
       "      <td>NaN</td>\n",
       "      <td>NaN</td>\n",
       "      <td>NaN</td>\n",
       "      <td>NaN</td>\n",
       "      <td>NaN</td>\n",
       "      <td>NaN</td>\n",
       "      <td>NaN</td>\n",
       "      <td>NaN</td>\n",
       "      <td>2020-02-01 16:35:48.924341</td>\n",
       "      <td>2020-02-01 16:35:48.924341</td>\n",
       "      <td>Sinphar Pharmaceutical Co., Ltd</td>\n",
       "      <td>Other</td>\n",
       "      <td>Donepezil,</td>\n",
       "      <td>Drug</td>\n",
       "    </tr>\n",
       "    <tr>\n",
       "      <th>301</th>\n",
       "      <td>NCT01255046</td>\n",
       "      <td>ClinicalTrials.gov processed this data on Janu...</td>\n",
       "      <td>2010-12-03</td>\n",
       "      <td>NaN</td>\n",
       "      <td>NaN</td>\n",
       "      <td>2014-08-19</td>\n",
       "      <td>2010-12-05</td>\n",
       "      <td>2010-12-07</td>\n",
       "      <td>Estimate</td>\n",
       "      <td>NaN</td>\n",
       "      <td>NaN</td>\n",
       "      <td>NaN</td>\n",
       "      <td>NaN</td>\n",
       "      <td>NaN</td>\n",
       "      <td>NaN</td>\n",
       "      <td>2014-08-19</td>\n",
       "      <td>2014-08-20</td>\n",
       "      <td>Estimate</td>\n",
       "      <td>December 2015</td>\n",
       "      <td>NaN</td>\n",
       "      <td>2015-12-31</td>\n",
       "      <td>August 2014</td>\n",
       "      <td>2014-08-31</td>\n",
       "      <td>NaN</td>\n",
       "      <td>NaN</td>\n",
       "      <td>NaN</td>\n",
       "      <td>December 2018</td>\n",
       "      <td>Anticipated</td>\n",
       "      <td>2018-12-31</td>\n",
       "      <td>NaN</td>\n",
       "      <td>Interventional</td>\n",
       "      <td>NaN</td>\n",
       "      <td>NaN</td>\n",
       "      <td>Study of STA-1 as an Add-on Treatment to Donep...</td>\n",
       "      <td>A Phase II Double-blind, Randomized, Placebo-c...</td>\n",
       "      <td>Unknown status</td>\n",
       "      <td>Not yet recruiting</td>\n",
       "      <td>Phase 2</td>\n",
       "      <td>136</td>\n",
       "      <td>Anticipated</td>\n",
       "      <td>Sinphar Pharmaceutical Co., Ltd</td>\n",
       "      <td>NaN</td>\n",
       "      <td>2</td>\n",
       "      <td>NaN</td>\n",
       "      <td>NaN</td>\n",
       "      <td>False</td>\n",
       "      <td>NaN</td>\n",
       "      <td>NaN</td>\n",
       "      <td>NaN</td>\n",
       "      <td>True</td>\n",
       "      <td>NaN</td>\n",
       "      <td>NaN</td>\n",
       "      <td>NaN</td>\n",
       "      <td>NaN</td>\n",
       "      <td>NaN</td>\n",
       "      <td>NaN</td>\n",
       "      <td>NaN</td>\n",
       "      <td>NaN</td>\n",
       "      <td>NaN</td>\n",
       "      <td>NaN</td>\n",
       "      <td>NaN</td>\n",
       "      <td>NaN</td>\n",
       "      <td>2020-02-01 16:35:48.924341</td>\n",
       "      <td>2020-02-01 16:35:48.924341</td>\n",
       "      <td>Sinphar Pharmaceutical Co., Ltd</td>\n",
       "      <td>Other</td>\n",
       "      <td>placebo</td>\n",
       "      <td>Drug</td>\n",
       "    </tr>\n",
       "    <tr>\n",
       "      <th>544</th>\n",
       "      <td>NCT01255046</td>\n",
       "      <td>ClinicalTrials.gov processed this data on Janu...</td>\n",
       "      <td>2010-12-03</td>\n",
       "      <td>NaN</td>\n",
       "      <td>NaN</td>\n",
       "      <td>2014-08-19</td>\n",
       "      <td>2010-12-05</td>\n",
       "      <td>2010-12-07</td>\n",
       "      <td>Estimate</td>\n",
       "      <td>NaN</td>\n",
       "      <td>NaN</td>\n",
       "      <td>NaN</td>\n",
       "      <td>NaN</td>\n",
       "      <td>NaN</td>\n",
       "      <td>NaN</td>\n",
       "      <td>2014-08-19</td>\n",
       "      <td>2014-08-20</td>\n",
       "      <td>Estimate</td>\n",
       "      <td>December 2015</td>\n",
       "      <td>NaN</td>\n",
       "      <td>2015-12-31</td>\n",
       "      <td>August 2014</td>\n",
       "      <td>2014-08-31</td>\n",
       "      <td>NaN</td>\n",
       "      <td>NaN</td>\n",
       "      <td>NaN</td>\n",
       "      <td>December 2018</td>\n",
       "      <td>Anticipated</td>\n",
       "      <td>2018-12-31</td>\n",
       "      <td>NaN</td>\n",
       "      <td>Interventional</td>\n",
       "      <td>NaN</td>\n",
       "      <td>NaN</td>\n",
       "      <td>Study of STA-1 as an Add-on Treatment to Donep...</td>\n",
       "      <td>A Phase II Double-blind, Randomized, Placebo-c...</td>\n",
       "      <td>Unknown status</td>\n",
       "      <td>Not yet recruiting</td>\n",
       "      <td>Phase 2</td>\n",
       "      <td>136</td>\n",
       "      <td>Anticipated</td>\n",
       "      <td>Sinphar Pharmaceutical Co., Ltd</td>\n",
       "      <td>NaN</td>\n",
       "      <td>2</td>\n",
       "      <td>NaN</td>\n",
       "      <td>NaN</td>\n",
       "      <td>False</td>\n",
       "      <td>NaN</td>\n",
       "      <td>NaN</td>\n",
       "      <td>NaN</td>\n",
       "      <td>True</td>\n",
       "      <td>NaN</td>\n",
       "      <td>NaN</td>\n",
       "      <td>NaN</td>\n",
       "      <td>NaN</td>\n",
       "      <td>NaN</td>\n",
       "      <td>NaN</td>\n",
       "      <td>NaN</td>\n",
       "      <td>NaN</td>\n",
       "      <td>NaN</td>\n",
       "      <td>NaN</td>\n",
       "      <td>NaN</td>\n",
       "      <td>NaN</td>\n",
       "      <td>2020-02-01 16:35:48.924341</td>\n",
       "      <td>2020-02-01 16:35:48.924341</td>\n",
       "      <td>Sinphar Pharmaceutical Co., Ltd</td>\n",
       "      <td>Other</td>\n",
       "      <td>STA-1</td>\n",
       "      <td>Drug</td>\n",
       "    </tr>\n",
       "  </tbody>\n",
       "</table>\n",
       "</div>"
      ],
      "text/plain": [
       "          nct_id                      nlm_download_date_description  \\\n",
       "129  NCT01255046  ClinicalTrials.gov processed this data on Janu...   \n",
       "301  NCT01255046  ClinicalTrials.gov processed this data on Janu...   \n",
       "544  NCT01255046  ClinicalTrials.gov processed this data on Janu...   \n",
       "\n",
       "    study_first_submitted_date results_first_submitted_date  \\\n",
       "129                 2010-12-03                          NaN   \n",
       "301                 2010-12-03                          NaN   \n",
       "544                 2010-12-03                          NaN   \n",
       "\n",
       "    disposition_first_submitted_date last_update_submitted_date  \\\n",
       "129                              NaN                 2014-08-19   \n",
       "301                              NaN                 2014-08-19   \n",
       "544                              NaN                 2014-08-19   \n",
       "\n",
       "    study_first_submitted_qc_date study_first_posted_date  \\\n",
       "129                    2010-12-05              2010-12-07   \n",
       "301                    2010-12-05              2010-12-07   \n",
       "544                    2010-12-05              2010-12-07   \n",
       "\n",
       "    study_first_posted_date_type results_first_submitted_qc_date  \\\n",
       "129                     Estimate                             NaN   \n",
       "301                     Estimate                             NaN   \n",
       "544                     Estimate                             NaN   \n",
       "\n",
       "    results_first_posted_date results_first_posted_date_type  \\\n",
       "129                       NaN                            NaN   \n",
       "301                       NaN                            NaN   \n",
       "544                       NaN                            NaN   \n",
       "\n",
       "    disposition_first_submitted_qc_date disposition_first_posted_date  \\\n",
       "129                                 NaN                           NaN   \n",
       "301                                 NaN                           NaN   \n",
       "544                                 NaN                           NaN   \n",
       "\n",
       "    disposition_first_posted_date_type last_update_submitted_qc_date  \\\n",
       "129                                NaN                    2014-08-19   \n",
       "301                                NaN                    2014-08-19   \n",
       "544                                NaN                    2014-08-19   \n",
       "\n",
       "    last_update_posted_date last_update_posted_date_type start_month_year  \\\n",
       "129              2014-08-20                     Estimate    December 2015   \n",
       "301              2014-08-20                     Estimate    December 2015   \n",
       "544              2014-08-20                     Estimate    December 2015   \n",
       "\n",
       "    start_date_type  start_date verification_month_year verification_date  \\\n",
       "129             NaN  2015-12-31             August 2014        2014-08-31   \n",
       "301             NaN  2015-12-31             August 2014        2014-08-31   \n",
       "544             NaN  2015-12-31             August 2014        2014-08-31   \n",
       "\n",
       "    completion_month_year completion_date_type completion_date  \\\n",
       "129                   NaN                  NaN             NaN   \n",
       "301                   NaN                  NaN             NaN   \n",
       "544                   NaN                  NaN             NaN   \n",
       "\n",
       "    primary_completion_month_year primary_completion_date_type  \\\n",
       "129                 December 2018                  Anticipated   \n",
       "301                 December 2018                  Anticipated   \n",
       "544                 December 2018                  Anticipated   \n",
       "\n",
       "    primary_completion_date  target_duration      study_type acronym  \\\n",
       "129              2018-12-31              NaN  Interventional     NaN   \n",
       "301              2018-12-31              NaN  Interventional     NaN   \n",
       "544              2018-12-31              NaN  Interventional     NaN   \n",
       "\n",
       "    baseline_population                                        brief_title  \\\n",
       "129                 NaN  Study of STA-1 as an Add-on Treatment to Donep...   \n",
       "301                 NaN  Study of STA-1 as an Add-on Treatment to Donep...   \n",
       "544                 NaN  Study of STA-1 as an Add-on Treatment to Donep...   \n",
       "\n",
       "                                        official_title  overall_status  \\\n",
       "129  A Phase II Double-blind, Randomized, Placebo-c...  Unknown status   \n",
       "301  A Phase II Double-blind, Randomized, Placebo-c...  Unknown status   \n",
       "544  A Phase II Double-blind, Randomized, Placebo-c...  Unknown status   \n",
       "\n",
       "      last_known_status    phase  enrollment enrollment_type  \\\n",
       "129  Not yet recruiting  Phase 2         136     Anticipated   \n",
       "301  Not yet recruiting  Phase 2         136     Anticipated   \n",
       "544  Not yet recruiting  Phase 2         136     Anticipated   \n",
       "\n",
       "                              source limitations_and_caveats  number_of_arms  \\\n",
       "129  Sinphar Pharmaceutical Co., Ltd                     NaN               2   \n",
       "301  Sinphar Pharmaceutical Co., Ltd                     NaN               2   \n",
       "544  Sinphar Pharmaceutical Co., Ltd                     NaN               2   \n",
       "\n",
       "     number_of_groups why_stopped has_expanded_access  \\\n",
       "129               NaN         NaN               False   \n",
       "301               NaN         NaN               False   \n",
       "544               NaN         NaN               False   \n",
       "\n",
       "     expanded_access_type_individual  expanded_access_type_intermediate  \\\n",
       "129                              NaN                                NaN   \n",
       "301                              NaN                                NaN   \n",
       "544                              NaN                                NaN   \n",
       "\n",
       "     expanded_access_type_treatment has_dmc is_fda_regulated_drug  \\\n",
       "129                             NaN    True                   NaN   \n",
       "301                             NaN    True                   NaN   \n",
       "544                             NaN    True                   NaN   \n",
       "\n",
       "    is_fda_regulated_device  is_unapproved_device  is_ppsd is_us_export  \\\n",
       "129                     NaN                   NaN      NaN          NaN   \n",
       "301                     NaN                   NaN      NaN          NaN   \n",
       "544                     NaN                   NaN      NaN          NaN   \n",
       "\n",
       "     biospec_retention  biospec_description ipd_time_frame  \\\n",
       "129                NaN                  NaN            NaN   \n",
       "301                NaN                  NaN            NaN   \n",
       "544                NaN                  NaN            NaN   \n",
       "\n",
       "    ipd_access_criteria ipd_url plan_to_share_ipd  \\\n",
       "129                 NaN     NaN               NaN   \n",
       "301                 NaN     NaN               NaN   \n",
       "544                 NaN     NaN               NaN   \n",
       "\n",
       "    plan_to_share_ipd_description                  created_at  \\\n",
       "129                           NaN  2020-02-01 16:35:48.924341   \n",
       "301                           NaN  2020-02-01 16:35:48.924341   \n",
       "544                           NaN  2020-02-01 16:35:48.924341   \n",
       "\n",
       "                     updated_at                     sponsor_name agency_class  \\\n",
       "129  2020-02-01 16:35:48.924341  Sinphar Pharmaceutical Co., Ltd        Other   \n",
       "301  2020-02-01 16:35:48.924341  Sinphar Pharmaceutical Co., Ltd        Other   \n",
       "544  2020-02-01 16:35:48.924341  Sinphar Pharmaceutical Co., Ltd        Other   \n",
       "\n",
       "      drug_name intervention_type  \n",
       "129  Donepezil,              Drug  \n",
       "301     placebo              Drug  \n",
       "544       STA-1              Drug  "
      ]
     },
     "execution_count": 40,
     "metadata": {},
     "output_type": "execute_result"
    }
   ],
   "source": [
    "df1[df1['nct_id'] == 'NCT01255046']"
   ]
  },
  {
   "cell_type": "code",
   "execution_count": 41,
   "metadata": {},
   "outputs": [
    {
     "name": "stdout",
     "output_type": "stream",
     "text": [
      "Study of STA-1 as an Add-on Treatment to Donepezil\n",
      "Study of STA-1 as an Add-on Treatment to Donepezil\n",
      "Study of STA-1 as an Add-on Treatment to Donepezil\n"
     ]
    },
    {
     "data": {
      "text/plain": [
       "[None, None, None]"
      ]
     },
     "execution_count": 41,
     "metadata": {},
     "output_type": "execute_result"
    }
   ],
   "source": [
    "# example of add-on trails related to donepezil\n",
    "[print(i) for i in df1[df1['nct_id'] == 'NCT01255046']['brief_title']]"
   ]
  },
  {
   "cell_type": "code",
   "execution_count": 42,
   "metadata": {},
   "outputs": [
    {
     "data": {
      "text/plain": [
       "NCT02051335    5\n",
       "NCT01303744    4\n",
       "NCT00866060    4\n",
       "NCT01230853    4\n",
       "NCT03752463    4\n",
       "              ..\n",
       "NCT00086138    2\n",
       "NCT00842816    2\n",
       "NCT01584440    2\n",
       "NCT02925650    2\n",
       "NCT03625622    2\n",
       "Name: nct_id, Length: 230, dtype: int64"
      ]
     },
     "execution_count": 42,
     "metadata": {},
     "output_type": "execute_result"
    }
   ],
   "source": [
    "df1['nct_id'].value_counts()[df1['nct_id'].value_counts()>1]"
   ]
  },
  {
   "cell_type": "markdown",
   "metadata": {},
   "source": [
    "We still have 500+ duplicate nct_id"
   ]
  },
  {
   "cell_type": "code",
   "execution_count": 43,
   "metadata": {},
   "outputs": [],
   "source": [
    "# lowercase drug name and find 'placebo'\n",
    "ix = df1[df1['drug_name'].str.lower().str.contains('placebo')].index\n",
    "df1.drop(ix, inplace=True)\n",
    "df1.reset_index(inplace=True, drop=True)"
   ]
  },
  {
   "cell_type": "code",
   "execution_count": 44,
   "metadata": {},
   "outputs": [],
   "source": [
    "# lowercase drug name and find 'placebo'\n",
    "ix = df1[df1['drug_name'].str.lower().str.contains('donepezil')].index\n",
    "df1.drop(ix, inplace=True)\n",
    "df1.reset_index(inplace=True, drop=True)"
   ]
  },
  {
   "cell_type": "code",
   "execution_count": 45,
   "metadata": {},
   "outputs": [],
   "source": [
    "# lowercase drug name and find 'placebo'\n",
    "ix = df1[df1['drug_name'].str.lower().str.contains('rivastigmine')].index\n",
    "df1.drop(ix, inplace=True)\n",
    "df1.reset_index(inplace=True, drop=True)"
   ]
  },
  {
   "cell_type": "code",
   "execution_count": 46,
   "metadata": {},
   "outputs": [],
   "source": [
    "# lowercase drug name and find 'placebo'\n",
    "ix = df1[df1['drug_name'].str.lower().str.contains('memantine')].index\n",
    "df1.drop(ix, inplace=True)\n",
    "df1.reset_index(inplace=True, drop=True)"
   ]
  },
  {
   "cell_type": "code",
   "execution_count": 47,
   "metadata": {},
   "outputs": [],
   "source": [
    "# lowercase drug name and find 'placebo'\n",
    "ix = df1[df1['drug_name'].str.lower().str.contains('galantamine')].index\n",
    "df1.drop(ix, inplace=True)\n",
    "df1.reset_index(inplace=True, drop=True)"
   ]
  },
  {
   "cell_type": "code",
   "execution_count": 48,
   "metadata": {},
   "outputs": [],
   "source": [
    "# lowercase drug name and find 'placebo'\n",
    "ix = df1[df1['drug_name'].str.lower().str.contains('dimebon')].index\n",
    "df1.drop(ix, inplace=True)\n",
    "df1.reset_index(inplace=True, drop=True)"
   ]
  },
  {
   "cell_type": "code",
   "execution_count": 49,
   "metadata": {},
   "outputs": [],
   "source": [
    "# lowercase drug name and find 'placebo'\n",
    "ix = df1[df1['drug_name'].str.lower().str.contains('aricept')].index\n",
    "df1.drop(ix, inplace=True)\n",
    "df1.reset_index(inplace=True, drop=True)"
   ]
  },
  {
   "cell_type": "code",
   "execution_count": 50,
   "metadata": {},
   "outputs": [
    {
     "data": {
      "text/plain": [
       "NCT02168920    3\n",
       "NCT02380573    3\n",
       "NCT03752463    3\n",
       "NCT00955409    3\n",
       "NCT01595646    3\n",
       "NCT01203384    3\n",
       "NCT01303744    3\n",
       "NCT00439166    2\n",
       "NCT00056329    2\n",
       "NCT01119638    2\n",
       "NCT03867253    2\n",
       "NCT01614886    2\n",
       "NCT01766336    2\n",
       "NCT01436045    2\n",
       "NCT03289143    2\n",
       "NCT02547818    2\n",
       "NCT01760005    2\n",
       "NCT03790709    2\n",
       "NCT00996918    2\n",
       "NCT01230853    2\n",
       "NCT04052737    2\n",
       "NCT02667496    2\n",
       "NCT03959553    2\n",
       "NCT02079909    2\n",
       "NCT01469351    2\n",
       "NCT00575055    2\n",
       "NCT00141661    2\n",
       "NCT01211782    2\n",
       "NCT01608217    2\n",
       "NCT01569516    2\n",
       "NCT03184467    2\n",
       "NCT03828747    2\n",
       "NCT00066157    2\n",
       "NCT02051335    2\n",
       "NCT00574132    2\n",
       "NCT04044131    2\n",
       "Name: nct_id, dtype: int64"
      ]
     },
     "execution_count": 50,
     "metadata": {},
     "output_type": "execute_result"
    }
   ],
   "source": [
    "df1['nct_id'].value_counts()[df1['nct_id'].value_counts()>1]"
   ]
  },
  {
   "cell_type": "markdown",
   "metadata": {},
   "source": [
    "After removing rows contain 'placebo', we have 100+ duplicate nct_id"
   ]
  },
  {
   "cell_type": "markdown",
   "metadata": {},
   "source": [
    "#### Remove Vitamin Related Trials"
   ]
  },
  {
   "cell_type": "code",
   "execution_count": 51,
   "metadata": {
    "scrolled": true
   },
   "outputs": [],
   "source": [
    "# drop these vitamin related trials\n",
    "ix = df1[df1['drug_name'].str.lower().str.contains('vitamin', na=False)].index\n",
    "df1.drop(ix, inplace=True)\n",
    "df1.reset_index(inplace=True, drop=True)"
   ]
  },
  {
   "cell_type": "code",
   "execution_count": 52,
   "metadata": {
    "scrolled": false
   },
   "outputs": [
    {
     "data": {
      "text/plain": [
       "NCT02380573    3\n",
       "NCT01303744    3\n",
       "NCT00955409    3\n",
       "NCT03752463    3\n",
       "NCT01203384    3\n",
       "NCT01595646    3\n",
       "NCT02168920    3\n",
       "NCT03959553    2\n",
       "NCT03289143    2\n",
       "NCT03867253    2\n",
       "NCT01614886    2\n",
       "NCT01766336    2\n",
       "NCT00439166    2\n",
       "NCT01436045    2\n",
       "NCT01760005    2\n",
       "NCT02547818    2\n",
       "NCT00996918    2\n",
       "NCT01230853    2\n",
       "NCT04052737    2\n",
       "NCT03790709    2\n",
       "NCT01119638    2\n",
       "NCT02667496    2\n",
       "NCT02079909    2\n",
       "NCT00575055    2\n",
       "NCT00066157    2\n",
       "NCT01569516    2\n",
       "NCT00141661    2\n",
       "NCT03184467    2\n",
       "NCT04044131    2\n",
       "NCT02051335    2\n",
       "NCT01211782    2\n",
       "NCT01608217    2\n",
       "NCT01469351    2\n",
       "NCT03828747    2\n",
       "NCT00574132    2\n",
       "Name: nct_id, dtype: int64"
      ]
     },
     "execution_count": 52,
     "metadata": {},
     "output_type": "execute_result"
    }
   ],
   "source": [
    "df1['nct_id'].value_counts()[df1['nct_id'].value_counts()>1]"
   ]
  },
  {
   "cell_type": "markdown",
   "metadata": {},
   "source": [
    "#### Clean Minor Differences With One Space"
   ]
  },
  {
   "cell_type": "markdown",
   "metadata": {},
   "source": [
    "There are many minor adjustments we need to do for the drug names, we are going to scale the list down to ***industry(agency_class)*** only."
   ]
  },
  {
   "cell_type": "code",
   "execution_count": 53,
   "metadata": {},
   "outputs": [],
   "source": [
    "# agency_class industry only\n",
    "df1_industry = df1[df1['agency_class']=='Industry']"
   ]
  },
  {
   "cell_type": "code",
   "execution_count": 54,
   "metadata": {},
   "outputs": [
    {
     "name": "stdout",
     "output_type": "stream",
     "text": [
      "The number of compnies in the list: 85\n"
     ]
    }
   ],
   "source": [
    "# there are about \n",
    "print('The number of compnies in the list: {}'.format(len(df1_industry['sponsor_name'].unique())))"
   ]
  },
  {
   "cell_type": "markdown",
   "metadata": {},
   "source": [
    "Clean the rows with one space in drug name"
   ]
  },
  {
   "cell_type": "markdown",
   "metadata": {},
   "source": [
    "If rows has the same nct_id, split the drug name into two parts and use the most common part as the drug name"
   ]
  },
  {
   "cell_type": "code",
   "execution_count": 55,
   "metadata": {},
   "outputs": [
    {
     "data": {
      "text/plain": [
       "NCT01203384    3\n",
       "NCT01211782    2\n",
       "NCT02667496    2\n",
       "Name: nct_id, dtype: int64"
      ]
     },
     "execution_count": 55,
     "metadata": {},
     "output_type": "execute_result"
    }
   ],
   "source": [
    "# get index for drug names have one space\n",
    "nct_id_count = df1_industry[df1_industry['drug_name'].str.count(' ') == 1]['nct_id'].value_counts()\n",
    "nct_id_count[nct_id_count>1]"
   ]
  },
  {
   "cell_type": "code",
   "execution_count": 56,
   "metadata": {},
   "outputs": [],
   "source": [
    "trial_id = nct_id_count[nct_id_count>1].index"
   ]
  },
  {
   "cell_type": "code",
   "execution_count": 57,
   "metadata": {},
   "outputs": [
    {
     "name": "stdout",
     "output_type": "stream",
     "text": [
      "NCT01203384 ['CHF5074 1x' 'CHF5074 2x' 'CHF5074 3x']\n",
      "NCT01211782 ['caprylic triglyceride' 'long-chain triglyceride']\n",
      "NCT02667496 ['Florbetapir F18' 'Sargramostim GZ402664']\n"
     ]
    },
    {
     "data": {
      "text/plain": [
       "[None, None, None]"
      ]
     },
     "execution_count": 57,
     "metadata": {},
     "output_type": "execute_result"
    }
   ],
   "source": [
    "[print(i, df1_industry[df1_industry['nct_id'] == i]['drug_name'].values) for i in trial_id]"
   ]
  },
  {
   "cell_type": "code",
   "execution_count": 58,
   "metadata": {},
   "outputs": [],
   "source": [
    "# manually correct some\n",
    "df1_industry.loc[df1_industry['nct_id'] == 'NCT01203384', 'drug_name'] = 'CHF5074'\n",
    "df1_industry.loc[df1_industry['nct_id'] == 'NCT01258452', 'drug_name'] = 'CHF5074'\n",
    "df1_industry.loc[df1_industry['nct_id'] == 'NCT02667496', 'drug_name'] = 'sargramostim'\n",
    "df1_industry.loc[df1_industry['nct_id'] == 'NCT01211782', 'drug_name'] = 'triglyceride'\n",
    "df1_industry.loc[df1_industry['nct_id'] == 'NCT02244541', 'drug_name'] = 'ANAVEX2-73'\n"
   ]
  },
  {
   "cell_type": "code",
   "execution_count": 59,
   "metadata": {},
   "outputs": [
    {
     "data": {
      "text/plain": [
       "NCT01303744    3\n",
       "NCT00141661    2\n",
       "NCT01766336    2\n",
       "NCT01569516    2\n",
       "NCT04052737    2\n",
       "NCT01230853    2\n",
       "NCT03867253    2\n",
       "NCT03790709    2\n",
       "Name: nct_id, dtype: int64"
      ]
     },
     "execution_count": 59,
     "metadata": {},
     "output_type": "execute_result"
    }
   ],
   "source": [
    "# get index for drug names have more spaces\n",
    "nct_id_count = df1_industry[df1_industry['drug_name'].str.count(' ') > 1]['nct_id'].value_counts()\n",
    "nct_id_count[nct_id_count>1]"
   ]
  },
  {
   "cell_type": "code",
   "execution_count": 60,
   "metadata": {
    "scrolled": true
   },
   "outputs": [
    {
     "name": "stdout",
     "output_type": "stream",
     "text": [
      "NCT01303744 ['CHF 5074 1x' 'CHF 5074 2x' 'CHF 5074 3x']\n",
      "NCT00141661 ['PF-04494700 - High Dose Arm' 'PF-04494700 - Low Dose Arm']\n",
      "NCT01766336 ['Group 1 ELND005' 'Group 2 ELND005']\n",
      "NCT01569516 ['Octohydroaminoacridine succinate Tablets'\n",
      " 'Octohydroaminoacridine Succinate Tablets']\n",
      "NCT04052737 ['Normal Saline along with standard treatment'\n",
      " 'PMZ-1620 (sovateltide) along with standard treatment']\n",
      "NCT01230853 ['Active Comparator: A' 'Active Comparator B']\n",
      "NCT03867253 ['ORY-2001 High dose' 'ORY-2001 Low dose']\n",
      "NCT03790709 ['High dose ANAVEX2-73' 'Mid dose ANAVEX2-73']\n"
     ]
    },
    {
     "data": {
      "text/plain": [
       "[None, None, None, None, None, None, None, None]"
      ]
     },
     "execution_count": 60,
     "metadata": {},
     "output_type": "execute_result"
    }
   ],
   "source": [
    "trial_id = nct_id_count[nct_id_count>1].index\n",
    "[print(i, df1_industry[df1_industry['nct_id'] == i]['drug_name'].values) for i in trial_id]"
   ]
  },
  {
   "cell_type": "code",
   "execution_count": 61,
   "metadata": {},
   "outputs": [],
   "source": [
    "# manually modify the name\n",
    "df1_industry.loc[df1_industry['nct_id'] == 'NCT01303744', 'drug_name'] = 'CHF5074'\n",
    "df1_industry.loc[df1_industry['nct_id'] == 'NCT04052737', 'drug_name'] = 'PMZ-1620'\n",
    "df1_industry.loc[df1_industry['nct_id'] == 'NCT01569516', 'drug_name'] = 'Octohydroaminoacridine'\n",
    "df1_industry.loc[df1_industry['nct_id'] == 'NCT00141661', 'drug_name'] = 'PF-04494700'\n",
    "df1_industry.loc[df1_industry['nct_id'] == 'NCT01766336', 'drug_name'] = 'ELND005'\n",
    "df1_industry.loc[df1_industry['nct_id'] == 'NCT01230853', 'drug_name'] = 'Active Comparator: A' # will be removed\n",
    "df1_industry.loc[df1_industry['nct_id'] == 'NCT03790709', 'drug_name'] = 'ANAVEX2-73'\n",
    "df1_industry.loc[df1_industry['nct_id'] == 'NCT03867253', 'drug_name'] = 'ORY-2001'"
   ]
  },
  {
   "cell_type": "markdown",
   "metadata": {},
   "source": [
    "After correcting the name, there should be some duplicates, we are going drop those"
   ]
  },
  {
   "cell_type": "code",
   "execution_count": 62,
   "metadata": {},
   "outputs": [
    {
     "name": "stdout",
     "output_type": "stream",
     "text": [
      "We are going to drop 13 rows\n"
     ]
    }
   ],
   "source": [
    "print('We are going to drop {} rows'.format(len(df1_industry) - len(df1_industry.drop_duplicates())))"
   ]
  },
  {
   "cell_type": "code",
   "execution_count": 63,
   "metadata": {},
   "outputs": [
    {
     "name": "stderr",
     "output_type": "stream",
     "text": [
      "/Users/jonzhao/anaconda3/lib/python3.6/site-packages/ipykernel_launcher.py:1: SettingWithCopyWarning: \n",
      "A value is trying to be set on a copy of a slice from a DataFrame\n",
      "\n",
      "See the caveats in the documentation: http://pandas.pydata.org/pandas-docs/stable/user_guide/indexing.html#returning-a-view-versus-a-copy\n",
      "  \"\"\"Entry point for launching an IPython kernel.\n"
     ]
    }
   ],
   "source": [
    "df1_industry.drop_duplicates(inplace=True)\n",
    "df1_industry.reset_index(inplace=True, drop=True)"
   ]
  },
  {
   "cell_type": "markdown",
   "metadata": {},
   "source": [
    "Finally, we want all the drug names have the same format, we are going downcase the name"
   ]
  },
  {
   "cell_type": "code",
   "execution_count": 64,
   "metadata": {},
   "outputs": [
    {
     "name": "stderr",
     "output_type": "stream",
     "text": [
      "/Users/jonzhao/anaconda3/lib/python3.6/site-packages/ipykernel_launcher.py:1: SettingWithCopyWarning: \n",
      "A value is trying to be set on a copy of a slice from a DataFrame.\n",
      "Try using .loc[row_indexer,col_indexer] = value instead\n",
      "\n",
      "See the caveats in the documentation: http://pandas.pydata.org/pandas-docs/stable/user_guide/indexing.html#returning-a-view-versus-a-copy\n",
      "  \"\"\"Entry point for launching an IPython kernel.\n"
     ]
    }
   ],
   "source": [
    "df1_industry['drug_name'] = df1_industry['drug_name'].str.lower()"
   ]
  },
  {
   "cell_type": "markdown",
   "metadata": {},
   "source": [
    "### Look Into Drugs by Each Company"
   ]
  },
  {
   "cell_type": "code",
   "execution_count": 65,
   "metadata": {},
   "outputs": [
    {
     "name": "stdout",
     "output_type": "stream",
     "text": [
      "There are 85 drug companies have clinical trials related Alzheimer\n"
     ]
    }
   ],
   "source": [
    "print('There are {} drug companies have clinical trials related Alzheimer'.format(len(df1_industry['sponsor_name'].unique())))"
   ]
  },
  {
   "cell_type": "code",
   "execution_count": 66,
   "metadata": {},
   "outputs": [
    {
     "data": {
      "text/html": [
       "<div>\n",
       "<style scoped>\n",
       "    .dataframe tbody tr th:only-of-type {\n",
       "        vertical-align: middle;\n",
       "    }\n",
       "\n",
       "    .dataframe tbody tr th {\n",
       "        vertical-align: top;\n",
       "    }\n",
       "\n",
       "    .dataframe thead th {\n",
       "        text-align: right;\n",
       "    }\n",
       "</style>\n",
       "<table border=\"1\" class=\"dataframe\">\n",
       "  <thead>\n",
       "    <tr style=\"text-align: right;\">\n",
       "      <th></th>\n",
       "      <th>drug_name</th>\n",
       "    </tr>\n",
       "    <tr>\n",
       "      <th>sponsor_name</th>\n",
       "      <th></th>\n",
       "    </tr>\n",
       "  </thead>\n",
       "  <tbody>\n",
       "    <tr>\n",
       "      <th>Pfizer</th>\n",
       "      <td>11</td>\n",
       "    </tr>\n",
       "    <tr>\n",
       "      <th>Eisai Inc.</th>\n",
       "      <td>7</td>\n",
       "    </tr>\n",
       "    <tr>\n",
       "      <th>Eli Lilly and Company</th>\n",
       "      <td>5</td>\n",
       "    </tr>\n",
       "    <tr>\n",
       "      <th>AstraZeneca</th>\n",
       "      <td>4</td>\n",
       "    </tr>\n",
       "    <tr>\n",
       "      <th>Otsuka Pharmaceutical Co., Ltd.</th>\n",
       "      <td>4</td>\n",
       "    </tr>\n",
       "    <tr>\n",
       "      <th>Biogen</th>\n",
       "      <td>3</td>\n",
       "    </tr>\n",
       "    <tr>\n",
       "      <th>Bristol-Myers Squibb</th>\n",
       "      <td>3</td>\n",
       "    </tr>\n",
       "    <tr>\n",
       "      <th>FORUM Pharmaceuticals Inc</th>\n",
       "      <td>3</td>\n",
       "    </tr>\n",
       "    <tr>\n",
       "      <th>FUJIFILM Toyama Chemical Co., Ltd.</th>\n",
       "      <td>3</td>\n",
       "    </tr>\n",
       "    <tr>\n",
       "      <th>GemVax &amp; Kael</th>\n",
       "      <td>3</td>\n",
       "    </tr>\n",
       "    <tr>\n",
       "      <th>JANSSEN Alzheimer Immunotherapy Research &amp; Development, LLC</th>\n",
       "      <td>3</td>\n",
       "    </tr>\n",
       "    <tr>\n",
       "      <th>Novartis Pharmaceuticals</th>\n",
       "      <td>3</td>\n",
       "    </tr>\n",
       "    <tr>\n",
       "      <th>Otsuka Pharmaceutical Development &amp; Commercialization, Inc.</th>\n",
       "      <td>3</td>\n",
       "    </tr>\n",
       "    <tr>\n",
       "      <th>Sanofi</th>\n",
       "      <td>3</td>\n",
       "    </tr>\n",
       "    <tr>\n",
       "      <th>Takeda</th>\n",
       "      <td>3</td>\n",
       "    </tr>\n",
       "    <tr>\n",
       "      <th>Wyeth is now a wholly owned subsidiary of Pfizer</th>\n",
       "      <td>3</td>\n",
       "    </tr>\n",
       "  </tbody>\n",
       "</table>\n",
       "</div>"
      ],
      "text/plain": [
       "                                                    drug_name\n",
       "sponsor_name                                                 \n",
       "Pfizer                                                     11\n",
       "Eisai Inc.                                                  7\n",
       "Eli Lilly and Company                                       5\n",
       "AstraZeneca                                                 4\n",
       "Otsuka Pharmaceutical Co., Ltd.                             4\n",
       "Biogen                                                      3\n",
       "Bristol-Myers Squibb                                        3\n",
       "FORUM Pharmaceuticals Inc                                   3\n",
       "FUJIFILM Toyama Chemical Co., Ltd.                          3\n",
       "GemVax & Kael                                               3\n",
       "JANSSEN Alzheimer Immunotherapy Research & Deve...          3\n",
       "Novartis Pharmaceuticals                                    3\n",
       "Otsuka Pharmaceutical Development & Commerciali...          3\n",
       "Sanofi                                                      3\n",
       "Takeda                                                      3\n",
       "Wyeth is now a wholly owned subsidiary of Pfizer            3"
      ]
     },
     "execution_count": 66,
     "metadata": {},
     "output_type": "execute_result"
    }
   ],
   "source": [
    "# companies have more than one clinical trials related Alzheimer\n",
    "trials_more_than_one = df1_industry.groupby(['sponsor_name'])[['drug_name']].nunique()[df1_industry.groupby('sponsor_name')['drug_name'].nunique()>2]\n",
    "trials_more_than_one.sort_values('drug_name',ascending=False)"
   ]
  },
  {
   "cell_type": "markdown",
   "metadata": {},
   "source": [
    "The process to correct name:\n",
    " - It looks like removing contents after space could be a way to correct name\n",
    " - Remove signs except '-' such as '+', ','\n",
    " - Double check the name only has letters\n",
    " - Pure numbers\n",
    " - length less than 3\n",
    " - words like drug, experimental, normal, active"
   ]
  },
  {
   "cell_type": "code",
   "execution_count": 67,
   "metadata": {},
   "outputs": [],
   "source": [
    "# function to extract drug name\n",
    "def name_split(drug_name):\n",
    "    try:\n",
    "        return re.split(r'\\s', drug_name)[0]\n",
    "    except:\n",
    "        return drug_name"
   ]
  },
  {
   "cell_type": "code",
   "execution_count": 68,
   "metadata": {},
   "outputs": [],
   "source": [
    "# fix name one by one\n",
    "df1_industry.loc[(df1_industry['sponsor_name']=='GlaxoSmithKline'), 'drug_name'] = df1_industry[(df1_industry['sponsor_name']=='GlaxoSmithKline')]['drug_name'].apply(name_split)\n",
    "df1_industry.loc[(df1_industry['sponsor_name']=='Pfizer'), 'drug_name'] = df1_industry[(df1_industry['sponsor_name']=='Pfizer')]['drug_name'].apply(name_split)\n",
    "df1_industry.loc[(df1_industry['sponsor_name']=='Wyeth is now a wholly owned subsidiary of Pfizer'), 'drug_name'] = df1_industry[(df1_industry['sponsor_name']=='Wyeth is now a wholly owned subsidiary of Pfizer')]['drug_name'].apply(name_split)\n",
    "df1_industry.loc[(df1_industry['sponsor_name']=='Merck Sharp & Dohme Corp.'), 'drug_name'] = df1_industry[(df1_industry['sponsor_name']=='Merck Sharp & Dohme Corp.')]['drug_name'].apply(name_split)\n",
    "df1_industry.loc[(df1_industry['sponsor_name']=='Eli Lilly and Company'), 'drug_name'] = df1_industry[(df1_industry['sponsor_name']=='Eli Lilly and Company')]['drug_name'].apply(name_split)\n",
    "df1_industry.loc[(df1_industry['sponsor_name']=='Eisai Inc.'), 'drug_name'] = df1_industry[(df1_industry['sponsor_name']=='Eisai Inc.')]['drug_name'].apply(name_split)\n",
    "df1_industry.loc[(df1_industry['sponsor_name']=='Sanofi'), 'drug_name'] = df1_industry[(df1_industry['sponsor_name']=='Sanofi')]['drug_name'].apply(name_split)\n",
    "df1_industry.loc[(df1_industry['sponsor_name']=='Hoffmann-La Roche'), 'drug_name'] = df1_industry[(df1_industry['sponsor_name']=='Hoffmann-La Roche')]['drug_name'].apply(name_split)\n",
    "df1_industry.loc[(df1_industry['sponsor_name']=='AstraZeneca'), 'drug_name'] = df1_industry[(df1_industry['sponsor_name']=='AstraZeneca')]['drug_name'].apply(name_split)\n",
    "df1_industry.loc[(df1_industry['sponsor_name']=='Biogen'), 'drug_name'] = df1_industry[(df1_industry['sponsor_name']=='Biogen')]['drug_name'].apply(name_split)\n",
    "df1_industry.loc[(df1_industry['sponsor_name']=='Otsuka Pharmaceutical Co., Ltd.'), 'drug_name'] = df1_industry[(df1_industry['sponsor_name']=='Otsuka Pharmaceutical Co., Ltd.')]['drug_name'].apply(name_split)\n",
    "df1_industry.loc[(df1_industry['sponsor_name']=='Novartis Pharmaceuticals'), 'drug_name'] = df1_industry[(df1_industry['sponsor_name']=='Novartis Pharmaceuticals')]['drug_name'].apply(name_split)\n",
    "df1_industry.loc[(df1_industry['sponsor_name']=='Otsuka Pharmaceutical Development & Commercialization, Inc.'), 'drug_name'] = df1_industry[(df1_industry['sponsor_name']=='Otsuka Pharmaceutical Development & Commercialization, Inc.')]['drug_name'].apply(name_split)\n",
    "df1_industry.loc[(df1_industry['sponsor_name']=='Bristol-Myers Squibb'), 'drug_name'] = df1_industry[(df1_industry['sponsor_name']=='Bristol-Myers Squibb')]['drug_name'].apply(name_split)\n",
    "df1_industry.loc[(df1_industry['sponsor_name']=='Cerecin'), 'drug_name'] = df1_industry[(df1_industry['sponsor_name']=='Cerecin')]['drug_name'].apply(name_split)\n",
    "df1_industry.loc[(df1_industry['sponsor_name']=='JANSSEN Alzheimer Immunotherapy Research & Development, LLC'), 'drug_name'] = df1_industry[(df1_industry['sponsor_name']=='JANSSEN Alzheimer Immunotherapy Research & Development, LLC')]['drug_name'].apply(name_split)\n",
    "df1_industry.loc[(df1_industry['sponsor_name']=='Avanir Pharmaceuticals'), 'drug_name'] = df1_industry[(df1_industry['sponsor_name']=='Avanir Pharmaceuticals')]['drug_name'].apply(name_split)\n",
    "df1_industry.loc[(df1_industry['sponsor_name']=='GemVax & Kael'), 'drug_name'] = df1_industry[(df1_industry['sponsor_name']=='GemVax & Kael')]['drug_name'].apply(name_split)\n",
    "df1_industry.loc[(df1_industry['sponsor_name']=='Eisai Co., Ltd.'), 'drug_name'] = df1_industry[(df1_industry['sponsor_name']=='Eisai Co., Ltd.')]['drug_name'].apply(name_split)\n"
   ]
  },
  {
   "cell_type": "markdown",
   "metadata": {},
   "source": [
    "### Further Clean Base On Similarity"
   ]
  },
  {
   "cell_type": "markdown",
   "metadata": {},
   "source": [
    "For this step, we are going to group the drug name by company and drop the duplicates\n",
    "- There two rows have na, we are going to fillna as blank space\n",
    "- Create a column as index helper to facilitate the function that compare the similarity of each drug name\n",
    "- We'll take deeper dive into the drug name has a strong similarity\n",
    "- Drop duplicated drug name based on similarity comparison\n",
    "- Clean the companies name, some have their name in the datasets in different format"
   ]
  },
  {
   "cell_type": "code",
   "execution_count": 69,
   "metadata": {},
   "outputs": [],
   "source": [
    "# import text similarity tool\n",
    "import difflib\n",
    "import jellyfish"
   ]
  },
  {
   "cell_type": "code",
   "execution_count": 70,
   "metadata": {},
   "outputs": [
    {
     "data": {
      "text/html": [
       "<div>\n",
       "<style scoped>\n",
       "    .dataframe tbody tr th:only-of-type {\n",
       "        vertical-align: middle;\n",
       "    }\n",
       "\n",
       "    .dataframe tbody tr th {\n",
       "        vertical-align: top;\n",
       "    }\n",
       "\n",
       "    .dataframe thead th {\n",
       "        text-align: right;\n",
       "    }\n",
       "</style>\n",
       "<table border=\"1\" class=\"dataframe\">\n",
       "  <thead>\n",
       "    <tr style=\"text-align: right;\">\n",
       "      <th></th>\n",
       "      <th>sponsor_name</th>\n",
       "      <th>drug_name</th>\n",
       "    </tr>\n",
       "  </thead>\n",
       "  <tbody>\n",
       "    <tr>\n",
       "      <th>0</th>\n",
       "      <td>T3D Therapeutics, Inc.</td>\n",
       "      <td>t3d-959</td>\n",
       "    </tr>\n",
       "    <tr>\n",
       "      <th>1</th>\n",
       "      <td>Genentech, Inc.</td>\n",
       "      <td>[18f]gtp1</td>\n",
       "    </tr>\n",
       "    <tr>\n",
       "      <th>3</th>\n",
       "      <td>Otsuka Pharmaceutical Co., Ltd.</td>\n",
       "      <td>2</td>\n",
       "    </tr>\n",
       "    <tr>\n",
       "      <th>4</th>\n",
       "      <td>Otsuka Pharmaceutical Co., Ltd.</td>\n",
       "      <td>3</td>\n",
       "    </tr>\n",
       "    <tr>\n",
       "      <th>5</th>\n",
       "      <td>Otsuka Pharmaceutical Co., Ltd.</td>\n",
       "      <td>6</td>\n",
       "    </tr>\n",
       "    <tr>\n",
       "      <th>...</th>\n",
       "      <td>...</td>\n",
       "      <td>...</td>\n",
       "    </tr>\n",
       "    <tr>\n",
       "      <th>186</th>\n",
       "      <td>TauRx Therapeutics Ltd</td>\n",
       "      <td>trx0237</td>\n",
       "    </tr>\n",
       "    <tr>\n",
       "      <th>190</th>\n",
       "      <td>Merck Sharp &amp; Dohme Corp.</td>\n",
       "      <td>verubecestat</td>\n",
       "    </tr>\n",
       "    <tr>\n",
       "      <th>191</th>\n",
       "      <td>VIVUS, Inc.</td>\n",
       "      <td>vi-1121</td>\n",
       "    </tr>\n",
       "    <tr>\n",
       "      <th>192</th>\n",
       "      <td>EIP Pharma Inc</td>\n",
       "      <td>vx-745</td>\n",
       "    </tr>\n",
       "    <tr>\n",
       "      <th>194</th>\n",
       "      <td>Debiopharm International SA</td>\n",
       "      <td>zt-1</td>\n",
       "    </tr>\n",
       "  </tbody>\n",
       "</table>\n",
       "<p>145 rows × 2 columns</p>\n",
       "</div>"
      ],
      "text/plain": [
       "                        sponsor_name     drug_name\n",
       "0             T3D Therapeutics, Inc.       t3d-959\n",
       "1                    Genentech, Inc.     [18f]gtp1\n",
       "3    Otsuka Pharmaceutical Co., Ltd.             2\n",
       "4    Otsuka Pharmaceutical Co., Ltd.             3\n",
       "5    Otsuka Pharmaceutical Co., Ltd.             6\n",
       "..                               ...           ...\n",
       "186           TauRx Therapeutics Ltd       trx0237\n",
       "190        Merck Sharp & Dohme Corp.  verubecestat\n",
       "191                      VIVUS, Inc.       vi-1121\n",
       "192                   EIP Pharma Inc        vx-745\n",
       "194      Debiopharm International SA          zt-1\n",
       "\n",
       "[145 rows x 2 columns]"
      ]
     },
     "execution_count": 70,
     "metadata": {},
     "output_type": "execute_result"
    }
   ],
   "source": [
    "# group drug names by company level\n",
    "co_phase_drug = df1_industry[['sponsor_name','drug_name']].drop_duplicates()\n",
    "co_phase_drug"
   ]
  },
  {
   "cell_type": "markdown",
   "metadata": {},
   "source": [
    "Before we do. anything, we are going to drop rows where length of the name only has 3 or less than 3 letters"
   ]
  },
  {
   "cell_type": "code",
   "execution_count": 71,
   "metadata": {},
   "outputs": [
    {
     "data": {
      "text/html": [
       "<div>\n",
       "<style scoped>\n",
       "    .dataframe tbody tr th:only-of-type {\n",
       "        vertical-align: middle;\n",
       "    }\n",
       "\n",
       "    .dataframe tbody tr th {\n",
       "        vertical-align: top;\n",
       "    }\n",
       "\n",
       "    .dataframe thead th {\n",
       "        text-align: right;\n",
       "    }\n",
       "</style>\n",
       "<table border=\"1\" class=\"dataframe\">\n",
       "  <thead>\n",
       "    <tr style=\"text-align: right;\">\n",
       "      <th></th>\n",
       "      <th>sponsor_name</th>\n",
       "      <th>drug_name</th>\n",
       "    </tr>\n",
       "  </thead>\n",
       "  <tbody>\n",
       "    <tr>\n",
       "      <th>3</th>\n",
       "      <td>Otsuka Pharmaceutical Co., Ltd.</td>\n",
       "      <td>2</td>\n",
       "    </tr>\n",
       "    <tr>\n",
       "      <th>4</th>\n",
       "      <td>Otsuka Pharmaceutical Co., Ltd.</td>\n",
       "      <td>3</td>\n",
       "    </tr>\n",
       "    <tr>\n",
       "      <th>5</th>\n",
       "      <td>Otsuka Pharmaceutical Co., Ltd.</td>\n",
       "      <td>6</td>\n",
       "    </tr>\n",
       "    <tr>\n",
       "      <th>42</th>\n",
       "      <td>Charsire Biotechnology Corp.</td>\n",
       "      <td>bac</td>\n",
       "    </tr>\n",
       "    <tr>\n",
       "      <th>107</th>\n",
       "      <td>Wyeth is now a wholly owned subsidiary of Pfizer</td>\n",
       "      <td>gsi</td>\n",
       "    </tr>\n",
       "  </tbody>\n",
       "</table>\n",
       "</div>"
      ],
      "text/plain": [
       "                                         sponsor_name drug_name\n",
       "3                     Otsuka Pharmaceutical Co., Ltd.         2\n",
       "4                     Otsuka Pharmaceutical Co., Ltd.         3\n",
       "5                     Otsuka Pharmaceutical Co., Ltd.         6\n",
       "42                       Charsire Biotechnology Corp.       bac\n",
       "107  Wyeth is now a wholly owned subsidiary of Pfizer       gsi"
      ]
     },
     "execution_count": 71,
     "metadata": {},
     "output_type": "execute_result"
    }
   ],
   "source": [
    "co_phase_drug[co_phase_drug['drug_name'].str.len()<=3]"
   ]
  },
  {
   "cell_type": "code",
   "execution_count": 72,
   "metadata": {},
   "outputs": [],
   "source": [
    "co_phase_drug.drop(co_phase_drug[co_phase_drug['drug_name'].str.len()<=3].index, inplace=True)"
   ]
  },
  {
   "cell_type": "code",
   "execution_count": 73,
   "metadata": {},
   "outputs": [],
   "source": [
    "# create index helper to facilate lookup function\n",
    "co_phase_drug['ix_helper'] = co_phase_drug['sponsor_name'] + co_phase_drug['drug_name']"
   ]
  },
  {
   "cell_type": "code",
   "execution_count": 74,
   "metadata": {},
   "outputs": [],
   "source": [
    "# create function to find similar name\n",
    "def count_similar_name(ix_helper):\n",
    "    try:\n",
    "    #     print(ix_helper)\n",
    "        company_name = co_phase_drug[co_phase_drug['ix_helper'] == ix_helper]['sponsor_name'].values[0]\n",
    "        # create drug list by company name to compare with each name within the company's trials\n",
    "        drug_list = list(co_phase_drug[co_phase_drug['sponsor_name'] == company_name]['drug_name'])\n",
    "        # the drug we are going to compare the list\n",
    "        drug = co_phase_drug[co_phase_drug['ix_helper'] == ix_helper]['drug_name'].values[0]\n",
    "        # remove the drug name we are going to compare with\n",
    "        drug_list.remove(drug)\n",
    "        return int(len(difflib.get_close_matches(drug, drug_list, cutoff=0.7)))\n",
    "    except IndexError:\n",
    "        return ''"
   ]
  },
  {
   "cell_type": "code",
   "execution_count": 75,
   "metadata": {},
   "outputs": [],
   "source": [
    "# create function to find similar name\n",
    "def similar_name(ix_helper):\n",
    "    try:\n",
    "    #     print(ix_helper)\n",
    "        company_name = co_phase_drug[co_phase_drug['ix_helper'] == ix_helper]['sponsor_name'].values[0]\n",
    "        # create drug list by company name to compare with each name within the company's trials\n",
    "        drug_list = list(co_phase_drug[co_phase_drug['sponsor_name'] == company_name]['drug_name'])\n",
    "        # the drug we are going to compare the list\n",
    "        drug = co_phase_drug[co_phase_drug['ix_helper'] == ix_helper]['drug_name'].values[0]\n",
    "        # remove the drug name we are going to compare with\n",
    "        drug_list.remove(drug)\n",
    "        return difflib.get_close_matches(drug, drug_list, cutoff=0.7)\n",
    "    except IndexError:\n",
    "        return ''"
   ]
  },
  {
   "cell_type": "code",
   "execution_count": 76,
   "metadata": {},
   "outputs": [],
   "source": [
    "# apply the function to df\n",
    "co_phase_drug['count_similar_name'] = co_phase_drug['ix_helper'].apply(count_similar_name)\n",
    "co_phase_drug['similar_name'] = co_phase_drug['ix_helper'].apply(similar_name)"
   ]
  },
  {
   "cell_type": "markdown",
   "metadata": {},
   "source": [
    "We'll start to look into these rows have ***1 similar drug name***. It looks like they would either   \n",
    "- include a sign in the name, example: masitinib (ab1010)  \n",
    "- or it has sort of description, example: [cor388 capsule]  \n",
    "So, our solution is to keep the one has the shorter name. For example, we'll keep 'bryostatin' instead of 'bryostatin 1'  \n",
    "If they are same length, we'll keep those because majority of those are different drugs"
   ]
  },
  {
   "cell_type": "code",
   "execution_count": 77,
   "metadata": {},
   "outputs": [],
   "source": [
    "# df for rows have one similar name\n",
    "similar_name_one = co_phase_drug[co_phase_drug['count_similar_name']==1]"
   ]
  },
  {
   "cell_type": "code",
   "execution_count": 78,
   "metadata": {},
   "outputs": [
    {
     "data": {
      "text/html": [
       "<div>\n",
       "<style scoped>\n",
       "    .dataframe tbody tr th:only-of-type {\n",
       "        vertical-align: middle;\n",
       "    }\n",
       "\n",
       "    .dataframe tbody tr th {\n",
       "        vertical-align: top;\n",
       "    }\n",
       "\n",
       "    .dataframe thead th {\n",
       "        text-align: right;\n",
       "    }\n",
       "</style>\n",
       "<table border=\"1\" class=\"dataframe\">\n",
       "  <thead>\n",
       "    <tr style=\"text-align: right;\">\n",
       "      <th></th>\n",
       "      <th>sponsor_name</th>\n",
       "      <th>drug_name</th>\n",
       "      <th>ix_helper</th>\n",
       "      <th>count_similar_name</th>\n",
       "      <th>similar_name</th>\n",
       "    </tr>\n",
       "  </thead>\n",
       "  <tbody>\n",
       "    <tr>\n",
       "      <th>15</th>\n",
       "      <td>Pfizer</td>\n",
       "      <td>acc-001+</td>\n",
       "      <td>Pfizeracc-001+</td>\n",
       "      <td>1</td>\n",
       "      <td>[acc-001]</td>\n",
       "    </tr>\n",
       "    <tr>\n",
       "      <th>65</th>\n",
       "      <td>Neurotrope Bioscience, Inc.</td>\n",
       "      <td>bryostatin 1</td>\n",
       "      <td>Neurotrope Bioscience, Inc.bryostatin 1</td>\n",
       "      <td>1</td>\n",
       "      <td>[bryostatin]</td>\n",
       "    </tr>\n",
       "    <tr>\n",
       "      <th>82</th>\n",
       "      <td>FORUM Pharmaceuticals Inc</td>\n",
       "      <td>drug: evp-6124</td>\n",
       "      <td>FORUM Pharmaceuticals Incdrug: evp-6124</td>\n",
       "      <td>1</td>\n",
       "      <td>[evp-6124]</td>\n",
       "    </tr>\n",
       "    <tr>\n",
       "      <th>151</th>\n",
       "      <td>ACADIA Pharmaceuticals Inc.</td>\n",
       "      <td>pimavanserin tartrate</td>\n",
       "      <td>ACADIA Pharmaceuticals Inc.pimavanserin tartrate</td>\n",
       "      <td>1</td>\n",
       "      <td>[pimavanserin]</td>\n",
       "    </tr>\n",
       "  </tbody>\n",
       "</table>\n",
       "</div>"
      ],
      "text/plain": [
       "                    sponsor_name              drug_name  \\\n",
       "15                        Pfizer               acc-001+   \n",
       "65   Neurotrope Bioscience, Inc.           bryostatin 1   \n",
       "82     FORUM Pharmaceuticals Inc         drug: evp-6124   \n",
       "151  ACADIA Pharmaceuticals Inc.  pimavanserin tartrate   \n",
       "\n",
       "                                            ix_helper  count_similar_name  \\\n",
       "15                                     Pfizeracc-001+                   1   \n",
       "65            Neurotrope Bioscience, Inc.bryostatin 1                   1   \n",
       "82            FORUM Pharmaceuticals Incdrug: evp-6124                   1   \n",
       "151  ACADIA Pharmaceuticals Inc.pimavanserin tartrate                   1   \n",
       "\n",
       "       similar_name  \n",
       "15        [acc-001]  \n",
       "65     [bryostatin]  \n",
       "82       [evp-6124]  \n",
       "151  [pimavanserin]  "
      ]
     },
     "execution_count": 78,
     "metadata": {},
     "output_type": "execute_result"
    }
   ],
   "source": [
    "# finding the length difference betwenn comparable name and drug name\n",
    "diff_len = (similar_name_one['similar_name'].apply(lambda x: len(x[0])) \n",
    "            - similar_name_one['drug_name'].apply(lambda x: len(x)) )\n",
    "# the one has the longer name\n",
    "similar_name_one[diff_len<0]"
   ]
  },
  {
   "cell_type": "markdown",
   "metadata": {},
   "source": [
    "Looks like we can drop all of them, because those are duplicates, they just inputed differently"
   ]
  },
  {
   "cell_type": "code",
   "execution_count": 79,
   "metadata": {},
   "outputs": [],
   "source": [
    "# drop those rows\n",
    "co_phase_drug.drop(similar_name_one[diff_len<0].index, inplace=True)"
   ]
  },
  {
   "cell_type": "code",
   "execution_count": 80,
   "metadata": {},
   "outputs": [
    {
     "data": {
      "text/html": [
       "<div>\n",
       "<style scoped>\n",
       "    .dataframe tbody tr th:only-of-type {\n",
       "        vertical-align: middle;\n",
       "    }\n",
       "\n",
       "    .dataframe tbody tr th {\n",
       "        vertical-align: top;\n",
       "    }\n",
       "\n",
       "    .dataframe thead th {\n",
       "        text-align: right;\n",
       "    }\n",
       "</style>\n",
       "<table border=\"1\" class=\"dataframe\">\n",
       "  <thead>\n",
       "    <tr style=\"text-align: right;\">\n",
       "      <th></th>\n",
       "      <th>sponsor_name</th>\n",
       "      <th>drug_name</th>\n",
       "      <th>ix_helper</th>\n",
       "      <th>count_similar_name</th>\n",
       "      <th>similar_name</th>\n",
       "    </tr>\n",
       "  </thead>\n",
       "  <tbody>\n",
       "    <tr>\n",
       "      <th>28</th>\n",
       "      <td>Otsuka Pharmaceutical Development &amp; Commercial...</td>\n",
       "      <td>aripiprazole</td>\n",
       "      <td>Otsuka Pharmaceutical Development &amp; Commercial...</td>\n",
       "      <td>2</td>\n",
       "      <td>[brexpiprazole, brexpiprazole,]</td>\n",
       "    </tr>\n",
       "    <tr>\n",
       "      <th>59</th>\n",
       "      <td>Otsuka Pharmaceutical Development &amp; Commercial...</td>\n",
       "      <td>brexpiprazole</td>\n",
       "      <td>Otsuka Pharmaceutical Development &amp; Commercial...</td>\n",
       "      <td>2</td>\n",
       "      <td>[brexpiprazole,, aripiprazole]</td>\n",
       "    </tr>\n",
       "    <tr>\n",
       "      <th>62</th>\n",
       "      <td>Otsuka Pharmaceutical Development &amp; Commercial...</td>\n",
       "      <td>brexpiprazole,</td>\n",
       "      <td>Otsuka Pharmaceutical Development &amp; Commercial...</td>\n",
       "      <td>2</td>\n",
       "      <td>[brexpiprazole, aripiprazole]</td>\n",
       "    </tr>\n",
       "    <tr>\n",
       "      <th>98</th>\n",
       "      <td>FORUM Pharmaceuticals Inc</td>\n",
       "      <td>evp-6124</td>\n",
       "      <td>FORUM Pharmaceuticals Incevp-6124</td>\n",
       "      <td>2</td>\n",
       "      <td>[evp-0962, drug: evp-6124]</td>\n",
       "    </tr>\n",
       "    <tr>\n",
       "      <th>177</th>\n",
       "      <td>FUJIFILM Toyama Chemical Co., Ltd.</td>\n",
       "      <td>t-817ma</td>\n",
       "      <td>FUJIFILM Toyama Chemical Co., Ltd.t-817ma</td>\n",
       "      <td>2</td>\n",
       "      <td>[t-817ma-l, t-817ma-h]</td>\n",
       "    </tr>\n",
       "    <tr>\n",
       "      <th>179</th>\n",
       "      <td>FUJIFILM Toyama Chemical Co., Ltd.</td>\n",
       "      <td>t-817ma-h</td>\n",
       "      <td>FUJIFILM Toyama Chemical Co., Ltd.t-817ma-h</td>\n",
       "      <td>2</td>\n",
       "      <td>[t-817ma-l, t-817ma]</td>\n",
       "    </tr>\n",
       "    <tr>\n",
       "      <th>180</th>\n",
       "      <td>FUJIFILM Toyama Chemical Co., Ltd.</td>\n",
       "      <td>t-817ma-l</td>\n",
       "      <td>FUJIFILM Toyama Chemical Co., Ltd.t-817ma-l</td>\n",
       "      <td>2</td>\n",
       "      <td>[t-817ma-h, t-817ma]</td>\n",
       "    </tr>\n",
       "  </tbody>\n",
       "</table>\n",
       "</div>"
      ],
      "text/plain": [
       "                                          sponsor_name       drug_name  \\\n",
       "28   Otsuka Pharmaceutical Development & Commercial...    aripiprazole   \n",
       "59   Otsuka Pharmaceutical Development & Commercial...   brexpiprazole   \n",
       "62   Otsuka Pharmaceutical Development & Commercial...  brexpiprazole,   \n",
       "98                           FORUM Pharmaceuticals Inc        evp-6124   \n",
       "177                 FUJIFILM Toyama Chemical Co., Ltd.         t-817ma   \n",
       "179                 FUJIFILM Toyama Chemical Co., Ltd.       t-817ma-h   \n",
       "180                 FUJIFILM Toyama Chemical Co., Ltd.       t-817ma-l   \n",
       "\n",
       "                                             ix_helper  count_similar_name  \\\n",
       "28   Otsuka Pharmaceutical Development & Commercial...                   2   \n",
       "59   Otsuka Pharmaceutical Development & Commercial...                   2   \n",
       "62   Otsuka Pharmaceutical Development & Commercial...                   2   \n",
       "98                   FORUM Pharmaceuticals Incevp-6124                   2   \n",
       "177          FUJIFILM Toyama Chemical Co., Ltd.t-817ma                   2   \n",
       "179        FUJIFILM Toyama Chemical Co., Ltd.t-817ma-h                   2   \n",
       "180        FUJIFILM Toyama Chemical Co., Ltd.t-817ma-l                   2   \n",
       "\n",
       "                        similar_name  \n",
       "28   [brexpiprazole, brexpiprazole,]  \n",
       "59    [brexpiprazole,, aripiprazole]  \n",
       "62     [brexpiprazole, aripiprazole]  \n",
       "98        [evp-0962, drug: evp-6124]  \n",
       "177           [t-817ma-l, t-817ma-h]  \n",
       "179             [t-817ma-l, t-817ma]  \n",
       "180             [t-817ma-h, t-817ma]  "
      ]
     },
     "execution_count": 80,
     "metadata": {},
     "output_type": "execute_result"
    }
   ],
   "source": [
    "co_phase_drug[co_phase_drug['count_similar_name'] == 2]"
   ]
  },
  {
   "cell_type": "markdown",
   "metadata": {},
   "source": [
    "We'll manually drop these rows because not all of them are duplicates, we tried to play with cutoff parameter but we couldn't find the best one"
   ]
  },
  {
   "cell_type": "code",
   "execution_count": 81,
   "metadata": {},
   "outputs": [],
   "source": [
    "co_phase_drug.drop(co_phase_drug[co_phase_drug['drug_name']=='brexpiprazole,'].index, inplace = True)\n",
    "co_phase_drug.drop(co_phase_drug[co_phase_drug['drug_name']=='t-817ma-h'].index, inplace = True)\n",
    "co_phase_drug.drop(co_phase_drug[co_phase_drug['drug_name']=='t-817ma-l'].index, inplace = True)"
   ]
  },
  {
   "cell_type": "markdown",
   "metadata": {},
   "source": [
    "We fixed many drug names, we'll clean the dataframe first, we'll only keep sponsor names and drug names and drop duplicates"
   ]
  },
  {
   "cell_type": "code",
   "execution_count": 82,
   "metadata": {},
   "outputs": [],
   "source": [
    "co_phase_drug = co_phase_drug[['sponsor_name', 'drug_name']]"
   ]
  },
  {
   "cell_type": "markdown",
   "metadata": {},
   "source": [
    "We'll start to cosolidate entities into one because some have their name differently multiple times, see the example below"
   ]
  },
  {
   "cell_type": "code",
   "execution_count": 83,
   "metadata": {},
   "outputs": [
    {
     "data": {
      "text/plain": [
       "Pfizer                                              8\n",
       "Wyeth is now a wholly owned subsidiary of Pfizer    2\n",
       "Name: sponsor_name, dtype: int64"
      ]
     },
     "execution_count": 83,
     "metadata": {},
     "output_type": "execute_result"
    }
   ],
   "source": [
    "co_phase_drug[co_phase_drug['sponsor_name'].str.contains('Pfizer')]['sponsor_name'].value_counts()"
   ]
  },
  {
   "cell_type": "markdown",
   "metadata": {},
   "source": [
    "We are going to only look at the first word of the sponsor name. We'll use the first word to find out other names companies used. it works for the majority of cases"
   ]
  },
  {
   "cell_type": "code",
   "execution_count": 84,
   "metadata": {
    "scrolled": false
   },
   "outputs": [],
   "source": [
    "# split name\n",
    "sponsor_name_df = co_phase_drug[['sponsor_name']].drop_duplicates()\n",
    "sponsor_name_df['short_name'] = [re.split(r'\\s', name)[0] for name in sponsor_name_df['sponsor_name']]"
   ]
  },
  {
   "cell_type": "code",
   "execution_count": 85,
   "metadata": {},
   "outputs": [],
   "source": [
    "# create a df to save all other names used for each short name\n",
    "short_sponsor_name = sponsor_name_df[['short_name']].drop_duplicates()\n",
    "short_sponsor_name['names_used'] = [list(sponsor_name_df[sponsor_name_df['sponsor_name'].str.contains(shor_name)]['sponsor_name'].values) \n",
    " for shor_name in short_sponsor_name['short_name']]"
   ]
  },
  {
   "cell_type": "code",
   "execution_count": 86,
   "metadata": {},
   "outputs": [],
   "source": [
    "short_sponsor_name['number_of_names'] = short_sponsor_name['names_used'].apply(lambda x: len(x))"
   ]
  },
  {
   "cell_type": "markdown",
   "metadata": {},
   "source": [
    "As we can seee below, there are few cases we need adjust the name manually. \n",
    "- Abbvie is split from Abbott, so all trials should be under Abbview\n",
    "- There are two Mercks, there are not the same one\n",
    "- Chase should be under Allergan based on its description\n",
    "- There two companies have 'High' in its name\n",
    "- Short name 'H' doesn't really make sense, we need to look into it\n",
    "\n"
   ]
  },
  {
   "cell_type": "code",
   "execution_count": 87,
   "metadata": {},
   "outputs": [
    {
     "data": {
      "text/html": [
       "<div>\n",
       "<style scoped>\n",
       "    .dataframe tbody tr th:only-of-type {\n",
       "        vertical-align: middle;\n",
       "    }\n",
       "\n",
       "    .dataframe tbody tr th {\n",
       "        vertical-align: top;\n",
       "    }\n",
       "\n",
       "    .dataframe thead th {\n",
       "        text-align: right;\n",
       "    }\n",
       "</style>\n",
       "<table border=\"1\" class=\"dataframe\">\n",
       "  <thead>\n",
       "    <tr style=\"text-align: right;\">\n",
       "      <th></th>\n",
       "      <th>short_name</th>\n",
       "      <th>names_used</th>\n",
       "      <th>number_of_names</th>\n",
       "    </tr>\n",
       "  </thead>\n",
       "  <tbody>\n",
       "    <tr>\n",
       "      <th>6</th>\n",
       "      <td>Pfizer</td>\n",
       "      <td>[Pfizer, Wyeth is now a wholly owned subsidiar...</td>\n",
       "      <td>2</td>\n",
       "    </tr>\n",
       "    <tr>\n",
       "      <th>7</th>\n",
       "      <td>AbbVie</td>\n",
       "      <td>[AbbVie, AbbVie (prior sponsor, Abbott)]</td>\n",
       "      <td>2</td>\n",
       "    </tr>\n",
       "    <tr>\n",
       "      <th>9</th>\n",
       "      <td>Abbott</td>\n",
       "      <td>[Abbott, AbbVie (prior sponsor, Abbott)]</td>\n",
       "      <td>2</td>\n",
       "    </tr>\n",
       "    <tr>\n",
       "      <th>17</th>\n",
       "      <td>Eisai</td>\n",
       "      <td>[Eisai Inc., Eisai Limited, Eisai Co., Ltd.]</td>\n",
       "      <td>3</td>\n",
       "    </tr>\n",
       "    <tr>\n",
       "      <th>28</th>\n",
       "      <td>Otsuka</td>\n",
       "      <td>[Otsuka Pharmaceutical Development &amp; Commercia...</td>\n",
       "      <td>2</td>\n",
       "    </tr>\n",
       "  </tbody>\n",
       "</table>\n",
       "</div>"
      ],
      "text/plain": [
       "   short_name                                         names_used  \\\n",
       "6      Pfizer  [Pfizer, Wyeth is now a wholly owned subsidiar...   \n",
       "7      AbbVie           [AbbVie, AbbVie (prior sponsor, Abbott)]   \n",
       "9      Abbott           [Abbott, AbbVie (prior sponsor, Abbott)]   \n",
       "17      Eisai       [Eisai Inc., Eisai Limited, Eisai Co., Ltd.]   \n",
       "28     Otsuka  [Otsuka Pharmaceutical Development & Commercia...   \n",
       "\n",
       "    number_of_names  \n",
       "6                 2  \n",
       "7                 2  \n",
       "9                 2  \n",
       "17                3  \n",
       "28                2  "
      ]
     },
     "execution_count": 87,
     "metadata": {},
     "output_type": "execute_result"
    }
   ],
   "source": [
    "short_sponsor_name[short_sponsor_name['number_of_names']>1]"
   ]
  },
  {
   "cell_type": "code",
   "execution_count": 88,
   "metadata": {},
   "outputs": [],
   "source": [
    "# we are going to drop Abbott from this df, later we'll use this as a lookup table \n",
    "short_sponsor_name.drop(short_sponsor_name[short_sponsor_name['short_name']=='Abbott'].index, inplace=True)\n",
    "short_sponsor_name.drop(short_sponsor_name[short_sponsor_name['short_name']=='Wyeth'].index, inplace=True)\n",
    "short_sponsor_name.drop(short_sponsor_name[short_sponsor_name['short_name']=='Chase'].index, inplace=True)\n"
   ]
  },
  {
   "cell_type": "code",
   "execution_count": 89,
   "metadata": {},
   "outputs": [],
   "source": [
    "# there are some manually added rows above dont have number of names used, we are going to add manually\n",
    "short_sponsor_name.fillna(1, inplace=True)"
   ]
  },
  {
   "cell_type": "code",
   "execution_count": 90,
   "metadata": {},
   "outputs": [],
   "source": [
    "# covert list into string to facilita our look up \n",
    "for row in range(len(short_sponsor_name)):\n",
    "    lt = short_sponsor_name.iloc[row, 1]\n",
    "    string = ''\n",
    "    for i in range(len(lt)):\n",
    "        string += ' '+lt[i]\n",
    "#     print(string)\n",
    "    short_sponsor_name.iloc[row, 1] = string"
   ]
  },
  {
   "cell_type": "markdown",
   "metadata": {},
   "source": [
    "### Final Clean"
   ]
  },
  {
   "cell_type": "code",
   "execution_count": 91,
   "metadata": {
    "scrolled": false
   },
   "outputs": [
    {
     "data": {
      "text/html": [
       "<div>\n",
       "<style scoped>\n",
       "    .dataframe tbody tr th:only-of-type {\n",
       "        vertical-align: middle;\n",
       "    }\n",
       "\n",
       "    .dataframe tbody tr th {\n",
       "        vertical-align: top;\n",
       "    }\n",
       "\n",
       "    .dataframe thead th {\n",
       "        text-align: right;\n",
       "    }\n",
       "</style>\n",
       "<table border=\"1\" class=\"dataframe\">\n",
       "  <thead>\n",
       "    <tr style=\"text-align: right;\">\n",
       "      <th></th>\n",
       "      <th>sponsor_name</th>\n",
       "      <th>drug_name</th>\n",
       "    </tr>\n",
       "  </thead>\n",
       "  <tbody>\n",
       "    <tr>\n",
       "      <th>81</th>\n",
       "      <td>Eisai Inc.</td>\n",
       "      <td>drug:</td>\n",
       "    </tr>\n",
       "    <tr>\n",
       "      <th>84</th>\n",
       "      <td>Humanetics Corporation</td>\n",
       "      <td>drug: nic5-15</td>\n",
       "    </tr>\n",
       "  </tbody>\n",
       "</table>\n",
       "</div>"
      ],
      "text/plain": [
       "              sponsor_name      drug_name\n",
       "81              Eisai Inc.          drug:\n",
       "84  Humanetics Corporation  drug: nic5-15"
      ]
     },
     "execution_count": 91,
     "metadata": {},
     "output_type": "execute_result"
    }
   ],
   "source": [
    "co_phase_drug[co_phase_drug['drug_name'].str.contains('drug')]"
   ]
  },
  {
   "cell_type": "code",
   "execution_count": 92,
   "metadata": {
    "scrolled": true
   },
   "outputs": [
    {
     "name": "stderr",
     "output_type": "stream",
     "text": [
      "/Users/jonzhao/anaconda3/lib/python3.6/site-packages/ipykernel_launcher.py:2: SettingWithCopyWarning: \n",
      "A value is trying to be set on a copy of a slice from a DataFrame.\n",
      "Try using .loc[row_indexer,col_indexer] = value instead\n",
      "\n",
      "See the caveats in the documentation: http://pandas.pydata.org/pandas-docs/stable/user_guide/indexing.html#returning-a-view-versus-a-copy\n",
      "  \n",
      "/Users/jonzhao/anaconda3/lib/python3.6/site-packages/ipykernel_launcher.py:3: SettingWithCopyWarning: \n",
      "A value is trying to be set on a copy of a slice from a DataFrame.\n",
      "Try using .loc[row_indexer,col_indexer] = value instead\n",
      "\n",
      "See the caveats in the documentation: http://pandas.pydata.org/pandas-docs/stable/user_guide/indexing.html#returning-a-view-versus-a-copy\n",
      "  This is separate from the ipykernel package so we can avoid doing imports until\n"
     ]
    }
   ],
   "source": [
    "# can't modify the name by one regex\n",
    "co_phase_drug['drug_name'] = [re.sub(r'^drug:?\\s?[-]?','', i) for i in co_phase_drug['drug_name']]\n",
    "co_phase_drug['drug_name'] = [re.sub(r'^drug','', i) for i in co_phase_drug['drug_name']]"
   ]
  },
  {
   "cell_type": "code",
   "execution_count": 93,
   "metadata": {
    "scrolled": true
   },
   "outputs": [
    {
     "data": {
      "text/html": [
       "<div>\n",
       "<style scoped>\n",
       "    .dataframe tbody tr th:only-of-type {\n",
       "        vertical-align: middle;\n",
       "    }\n",
       "\n",
       "    .dataframe tbody tr th {\n",
       "        vertical-align: top;\n",
       "    }\n",
       "\n",
       "    .dataframe thead th {\n",
       "        text-align: right;\n",
       "    }\n",
       "</style>\n",
       "<table border=\"1\" class=\"dataframe\">\n",
       "  <thead>\n",
       "    <tr style=\"text-align: right;\">\n",
       "      <th></th>\n",
       "      <th>sponsor_name</th>\n",
       "      <th>drug_name</th>\n",
       "    </tr>\n",
       "  </thead>\n",
       "  <tbody>\n",
       "    <tr>\n",
       "      <th>16</th>\n",
       "      <td>Novartis Pharmaceuticals</td>\n",
       "      <td>active</td>\n",
       "    </tr>\n",
       "    <tr>\n",
       "      <th>17</th>\n",
       "      <td>Eisai Inc.</td>\n",
       "      <td>active</td>\n",
       "    </tr>\n",
       "    <tr>\n",
       "      <th>18</th>\n",
       "      <td>Cognition Therapeutics</td>\n",
       "      <td>active treatment- ct1812</td>\n",
       "    </tr>\n",
       "  </tbody>\n",
       "</table>\n",
       "</div>"
      ],
      "text/plain": [
       "                sponsor_name                 drug_name\n",
       "16  Novartis Pharmaceuticals                    active\n",
       "17                Eisai Inc.                    active\n",
       "18    Cognition Therapeutics  active treatment- ct1812"
      ]
     },
     "execution_count": 93,
     "metadata": {},
     "output_type": "execute_result"
    }
   ],
   "source": [
    "co_phase_drug[co_phase_drug['drug_name'].str.contains('active')]"
   ]
  },
  {
   "cell_type": "code",
   "execution_count": 94,
   "metadata": {},
   "outputs": [
    {
     "name": "stderr",
     "output_type": "stream",
     "text": [
      "/Users/jonzhao/anaconda3/lib/python3.6/site-packages/ipykernel_launcher.py:2: SettingWithCopyWarning: \n",
      "A value is trying to be set on a copy of a slice from a DataFrame.\n",
      "Try using .loc[row_indexer,col_indexer] = value instead\n",
      "\n",
      "See the caveats in the documentation: http://pandas.pydata.org/pandas-docs/stable/user_guide/indexing.html#returning-a-view-versus-a-copy\n",
      "  \n",
      "/Users/jonzhao/anaconda3/lib/python3.6/site-packages/ipykernel_launcher.py:3: SettingWithCopyWarning: \n",
      "A value is trying to be set on a copy of a slice from a DataFrame.\n",
      "Try using .loc[row_indexer,col_indexer] = value instead\n",
      "\n",
      "See the caveats in the documentation: http://pandas.pydata.org/pandas-docs/stable/user_guide/indexing.html#returning-a-view-versus-a-copy\n",
      "  This is separate from the ipykernel package so we can avoid doing imports until\n"
     ]
    }
   ],
   "source": [
    "# can't modify the name by one regex\n",
    "co_phase_drug['drug_name'] = [re.sub(r'^active\\s?', '',i) for i in co_phase_drug['drug_name']]\n",
    "co_phase_drug['drug_name'] = [re.sub(r'treatment-?', '',i) for i in co_phase_drug['drug_name']]"
   ]
  },
  {
   "cell_type": "code",
   "execution_count": 95,
   "metadata": {},
   "outputs": [
    {
     "name": "stderr",
     "output_type": "stream",
     "text": [
      "/Users/jonzhao/anaconda3/lib/python3.6/site-packages/pandas/core/frame.py:4117: SettingWithCopyWarning: \n",
      "A value is trying to be set on a copy of a slice from a DataFrame\n",
      "\n",
      "See the caveats in the documentation: http://pandas.pydata.org/pandas-docs/stable/user_guide/indexing.html#returning-a-view-versus-a-copy\n",
      "  errors=errors,\n"
     ]
    }
   ],
   "source": [
    "# drop these row, these doesn't make sense. double checked with original dataset\n",
    "co_phase_drug.drop(co_phase_drug[co_phase_drug['drug_name'].str.contains('normal')].index, inplace=True)\n",
    "co_phase_drug.drop(co_phase_drug[co_phase_drug['drug_name'].str.contains('experimental')].index, inplace=True)\n",
    "# these are the one we fixed above\n",
    "co_phase_drug.drop(co_phase_drug[co_phase_drug['drug_name'] == ''].index, inplace=True)"
   ]
  },
  {
   "cell_type": "code",
   "execution_count": 96,
   "metadata": {
    "scrolled": false
   },
   "outputs": [
    {
     "data": {
      "text/html": [
       "<div>\n",
       "<style scoped>\n",
       "    .dataframe tbody tr th:only-of-type {\n",
       "        vertical-align: middle;\n",
       "    }\n",
       "\n",
       "    .dataframe tbody tr th {\n",
       "        vertical-align: top;\n",
       "    }\n",
       "\n",
       "    .dataframe thead th {\n",
       "        text-align: right;\n",
       "    }\n",
       "</style>\n",
       "<table border=\"1\" class=\"dataframe\">\n",
       "  <thead>\n",
       "    <tr style=\"text-align: right;\">\n",
       "      <th></th>\n",
       "      <th>short_name</th>\n",
       "      <th>names_used</th>\n",
       "      <th>number_of_names</th>\n",
       "    </tr>\n",
       "  </thead>\n",
       "  <tbody>\n",
       "    <tr>\n",
       "      <th>6</th>\n",
       "      <td>Pfizer</td>\n",
       "      <td>Pfizer Wyeth is now a wholly owned subsidiary...</td>\n",
       "      <td>2</td>\n",
       "    </tr>\n",
       "    <tr>\n",
       "      <th>7</th>\n",
       "      <td>AbbVie</td>\n",
       "      <td>AbbVie AbbVie (prior sponsor, Abbott)</td>\n",
       "      <td>2</td>\n",
       "    </tr>\n",
       "    <tr>\n",
       "      <th>17</th>\n",
       "      <td>Eisai</td>\n",
       "      <td>Eisai Inc. Eisai Limited Eisai Co., Ltd.</td>\n",
       "      <td>3</td>\n",
       "    </tr>\n",
       "    <tr>\n",
       "      <th>28</th>\n",
       "      <td>Otsuka</td>\n",
       "      <td>Otsuka Pharmaceutical Development &amp; Commercia...</td>\n",
       "      <td>2</td>\n",
       "    </tr>\n",
       "  </tbody>\n",
       "</table>\n",
       "</div>"
      ],
      "text/plain": [
       "   short_name                                         names_used  \\\n",
       "6      Pfizer   Pfizer Wyeth is now a wholly owned subsidiary...   \n",
       "7      AbbVie              AbbVie AbbVie (prior sponsor, Abbott)   \n",
       "17      Eisai           Eisai Inc. Eisai Limited Eisai Co., Ltd.   \n",
       "28     Otsuka   Otsuka Pharmaceutical Development & Commercia...   \n",
       "\n",
       "    number_of_names  \n",
       "6                 2  \n",
       "7                 2  \n",
       "17                3  \n",
       "28                2  "
      ]
     },
     "execution_count": 96,
     "metadata": {},
     "output_type": "execute_result"
    }
   ],
   "source": [
    "short_sponsor_name[short_sponsor_name.fillna(1)['number_of_names']>1]"
   ]
  },
  {
   "cell_type": "code",
   "execution_count": 97,
   "metadata": {},
   "outputs": [
    {
     "data": {
      "text/plain": [
       "1    74\n",
       "2     3\n",
       "3     1\n",
       "Name: number_of_names, dtype: int64"
      ]
     },
     "execution_count": 97,
     "metadata": {},
     "output_type": "execute_result"
    }
   ],
   "source": [
    "# majority have their name in one format\n",
    "short_sponsor_name['number_of_names'].value_counts()"
   ]
  },
  {
   "cell_type": "code",
   "execution_count": 98,
   "metadata": {},
   "outputs": [],
   "source": [
    "# our final step is to re-map the names company filled\n",
    "def name_unify(filled_name):\n",
    "#     print(filled_name)\n",
    "    num_names = (short_sponsor_name[short_sponsor_name['names_used'].str.contains(filled_name, regex=False)])['number_of_names'].values\n",
    "    # if companies have multiple names used then re-map that to short name\n",
    "    if num_names > 1:\n",
    "        return (short_sponsor_name[short_sponsor_name['names_used'].str.contains(filled_name, regex=False)])['short_name'].values[0]\n",
    "    else:\n",
    "        return (short_sponsor_name[short_sponsor_name['names_used'].str.contains(filled_name, regex=False)])['names_used'].values[0]\n",
    "        "
   ]
  },
  {
   "cell_type": "code",
   "execution_count": 99,
   "metadata": {},
   "outputs": [
    {
     "name": "stderr",
     "output_type": "stream",
     "text": [
      "/Users/jonzhao/anaconda3/lib/python3.6/site-packages/ipykernel_launcher.py:1: SettingWithCopyWarning: \n",
      "A value is trying to be set on a copy of a slice from a DataFrame.\n",
      "Try using .loc[row_indexer,col_indexer] = value instead\n",
      "\n",
      "See the caveats in the documentation: http://pandas.pydata.org/pandas-docs/stable/user_guide/indexing.html#returning-a-view-versus-a-copy\n",
      "  \"\"\"Entry point for launching an IPython kernel.\n"
     ]
    }
   ],
   "source": [
    "co_phase_drug['fixed_name'] = co_phase_drug['sponsor_name'].apply(lambda x: name_unify(x))"
   ]
  },
  {
   "cell_type": "markdown",
   "metadata": {},
   "source": [
    "The drug names and company names look good now, next we are going to add its latest phase, nct_id and latest completion date into the dataframe"
   ]
  },
  {
   "cell_type": "markdown",
   "metadata": {},
   "source": [
    "### Adding Key Info into The Main Dataframe\n",
    "- nct_id\n",
    "- start date\n",
    "- completion date\n",
    "- phase\n",
    "- Overall Status"
   ]
  },
  {
   "cell_type": "code",
   "execution_count": 100,
   "metadata": {},
   "outputs": [
    {
     "data": {
      "text/html": [
       "<div>\n",
       "<style scoped>\n",
       "    .dataframe tbody tr th:only-of-type {\n",
       "        vertical-align: middle;\n",
       "    }\n",
       "\n",
       "    .dataframe tbody tr th {\n",
       "        vertical-align: top;\n",
       "    }\n",
       "\n",
       "    .dataframe thead th {\n",
       "        text-align: right;\n",
       "    }\n",
       "</style>\n",
       "<table border=\"1\" class=\"dataframe\">\n",
       "  <thead>\n",
       "    <tr style=\"text-align: right;\">\n",
       "      <th></th>\n",
       "      <th>sponsor_name</th>\n",
       "      <th>drug_name</th>\n",
       "      <th>fixed_name</th>\n",
       "    </tr>\n",
       "  </thead>\n",
       "  <tbody>\n",
       "    <tr>\n",
       "      <th>0</th>\n",
       "      <td>T3D Therapeutics, Inc.</td>\n",
       "      <td>t3d-959</td>\n",
       "      <td>T3D Therapeutics, Inc.</td>\n",
       "    </tr>\n",
       "    <tr>\n",
       "      <th>1</th>\n",
       "      <td>Genentech, Inc.</td>\n",
       "      <td>[18f]gtp1</td>\n",
       "      <td>Genentech, Inc.</td>\n",
       "    </tr>\n",
       "    <tr>\n",
       "      <th>2</th>\n",
       "      <td>Pfizer</td>\n",
       "      <td>aab-003</td>\n",
       "      <td>Pfizer</td>\n",
       "    </tr>\n",
       "    <tr>\n",
       "      <th>3</th>\n",
       "      <td>AbbVie</td>\n",
       "      <td>abbv-8e12</td>\n",
       "      <td>AbbVie</td>\n",
       "    </tr>\n",
       "    <tr>\n",
       "      <th>4</th>\n",
       "      <td>Abbott</td>\n",
       "      <td>abt-089</td>\n",
       "      <td>AbbVie</td>\n",
       "    </tr>\n",
       "  </tbody>\n",
       "</table>\n",
       "</div>"
      ],
      "text/plain": [
       "             sponsor_name  drug_name               fixed_name\n",
       "0  T3D Therapeutics, Inc.    t3d-959   T3D Therapeutics, Inc.\n",
       "1         Genentech, Inc.  [18f]gtp1          Genentech, Inc.\n",
       "2                  Pfizer    aab-003                   Pfizer\n",
       "3                  AbbVie  abbv-8e12                   AbbVie\n",
       "4                  Abbott    abt-089                   AbbVie"
      ]
     },
     "execution_count": 100,
     "metadata": {},
     "output_type": "execute_result"
    }
   ],
   "source": [
    "co_phase_drug.reset_index(drop=True, inplace=True)\n",
    "co_phase_drug.head()"
   ]
  },
  {
   "cell_type": "code",
   "execution_count": 104,
   "metadata": {},
   "outputs": [
    {
     "name": "stdout",
     "output_type": "stream",
     "text": [
      "triglyceride Cerecin nan Phase 2/Phase 3 2010-09-24 NCT01211782\n",
      "jnj-39393406 Janssen Pharmaceutica N.V., Belgium nan Phase 1 2010-06-03 NCT01137799\n"
     ]
    }
   ],
   "source": [
    "trial_ids = []\n",
    "start_dates = []\n",
    "completion_date = []\n",
    "trial_phase = []\n",
    "overall_status = []\n",
    "# use for loop to extract key info\n",
    "for ix in co_phase_drug.index:\n",
    "    drug_name = co_phase_drug.loc[ix, 'drug_name']\n",
    "    sponsor_name = co_phase_drug.loc[ix, 'sponsor_name']\n",
    "    temp_df = df1_industry[(df1_industry['drug_name'].str.contains(drug_name, regex=False)) & \n",
    "                      (df1_industry['sponsor_name'].str.contains(sponsor_name, regex=False))]\n",
    "    max_completion_date = temp_df['primary_completion_date'].max()\n",
    "    \n",
    "    try:\n",
    "        phase = temp_df[temp_df['primary_completion_date'] == max_completion_date]['phase'].values[0]\n",
    "        start_date = temp_df[temp_df['primary_completion_date'] == max_completion_date]['study_first_submitted_date'].values[0]\n",
    "        trial_id = temp_df[temp_df['primary_completion_date'] == max_completion_date]['nct_id'].values[0]\n",
    "        status = temp_df[temp_df['primary_completion_date'] == max_completion_date]['overall_status'].values[0]\n",
    "    # there are few de-regesitered trials so it doesn't have completion date\n",
    "    except IndexError:\n",
    "        phase = temp_df['phase'].values[0]\n",
    "        start_date = temp_df['study_first_submitted_date'].values[0]\n",
    "        trial_id = temp_df['nct_id'].values[0]\n",
    "        status = temp_df['overall_status'].values[0]\n",
    "        print(drug_name, sponsor_name, max_completion_date, phase, start_date, trial_id, status)\n",
    "    # add into list\n",
    "    trial_ids.append(trial_id)\n",
    "    start_dates.append(start_date)\n",
    "    completion_date.append(max_completion_date)\n",
    "    trial_phase.append(phase)\n",
    "    overall_status.append(status)"
   ]
  },
  {
   "cell_type": "code",
   "execution_count": 105,
   "metadata": {},
   "outputs": [
    {
     "name": "stderr",
     "output_type": "stream",
     "text": [
      "/Users/jonzhao/anaconda3/lib/python3.6/site-packages/ipykernel_launcher.py:2: SettingWithCopyWarning: \n",
      "A value is trying to be set on a copy of a slice from a DataFrame.\n",
      "Try using .loc[row_indexer,col_indexer] = value instead\n",
      "\n",
      "See the caveats in the documentation: http://pandas.pydata.org/pandas-docs/stable/user_guide/indexing.html#returning-a-view-versus-a-copy\n",
      "  \n",
      "/Users/jonzhao/anaconda3/lib/python3.6/site-packages/ipykernel_launcher.py:3: SettingWithCopyWarning: \n",
      "A value is trying to be set on a copy of a slice from a DataFrame.\n",
      "Try using .loc[row_indexer,col_indexer] = value instead\n",
      "\n",
      "See the caveats in the documentation: http://pandas.pydata.org/pandas-docs/stable/user_guide/indexing.html#returning-a-view-versus-a-copy\n",
      "  This is separate from the ipykernel package so we can avoid doing imports until\n",
      "/Users/jonzhao/anaconda3/lib/python3.6/site-packages/ipykernel_launcher.py:4: SettingWithCopyWarning: \n",
      "A value is trying to be set on a copy of a slice from a DataFrame.\n",
      "Try using .loc[row_indexer,col_indexer] = value instead\n",
      "\n",
      "See the caveats in the documentation: http://pandas.pydata.org/pandas-docs/stable/user_guide/indexing.html#returning-a-view-versus-a-copy\n",
      "  after removing the cwd from sys.path.\n",
      "/Users/jonzhao/anaconda3/lib/python3.6/site-packages/ipykernel_launcher.py:5: SettingWithCopyWarning: \n",
      "A value is trying to be set on a copy of a slice from a DataFrame.\n",
      "Try using .loc[row_indexer,col_indexer] = value instead\n",
      "\n",
      "See the caveats in the documentation: http://pandas.pydata.org/pandas-docs/stable/user_guide/indexing.html#returning-a-view-versus-a-copy\n",
      "  \"\"\"\n",
      "/Users/jonzhao/anaconda3/lib/python3.6/site-packages/ipykernel_launcher.py:6: SettingWithCopyWarning: \n",
      "A value is trying to be set on a copy of a slice from a DataFrame.\n",
      "Try using .loc[row_indexer,col_indexer] = value instead\n",
      "\n",
      "See the caveats in the documentation: http://pandas.pydata.org/pandas-docs/stable/user_guide/indexing.html#returning-a-view-versus-a-copy\n",
      "  \n"
     ]
    }
   ],
   "source": [
    "# add into dataframe\n",
    "co_phase_drug['nct_id'] = trial_ids\n",
    "co_phase_drug['start_date'] = start_dates\n",
    "co_phase_drug['completion_date'] = completion_date\n",
    "co_phase_drug['phase'] = trial_phase\n",
    "co_phase_drug['overall_status'] = overall_status"
   ]
  },
  {
   "cell_type": "code",
   "execution_count": 106,
   "metadata": {},
   "outputs": [
    {
     "data": {
      "text/html": [
       "<div>\n",
       "<style scoped>\n",
       "    .dataframe tbody tr th:only-of-type {\n",
       "        vertical-align: middle;\n",
       "    }\n",
       "\n",
       "    .dataframe tbody tr th {\n",
       "        vertical-align: top;\n",
       "    }\n",
       "\n",
       "    .dataframe thead th {\n",
       "        text-align: right;\n",
       "    }\n",
       "</style>\n",
       "<table border=\"1\" class=\"dataframe\">\n",
       "  <thead>\n",
       "    <tr style=\"text-align: right;\">\n",
       "      <th></th>\n",
       "      <th>sponsor_name</th>\n",
       "      <th>drug_name</th>\n",
       "      <th>fixed_name</th>\n",
       "      <th>nct_id</th>\n",
       "      <th>start_date</th>\n",
       "      <th>completion_date</th>\n",
       "      <th>phase</th>\n",
       "      <th>overall_status</th>\n",
       "    </tr>\n",
       "  </thead>\n",
       "  <tbody>\n",
       "    <tr>\n",
       "      <th>0</th>\n",
       "      <td>T3D Therapeutics, Inc.</td>\n",
       "      <td>t3d-959</td>\n",
       "      <td>T3D Therapeutics, Inc.</td>\n",
       "      <td>NCT04251182</td>\n",
       "      <td>2020-01-24</td>\n",
       "      <td>2021-08-13</td>\n",
       "      <td>Phase 2</td>\n",
       "      <td>Not yet recruiting</td>\n",
       "    </tr>\n",
       "    <tr>\n",
       "      <th>1</th>\n",
       "      <td>Genentech, Inc.</td>\n",
       "      <td>[18f]gtp1</td>\n",
       "      <td>Genentech, Inc.</td>\n",
       "      <td>NCT03828747</td>\n",
       "      <td>2019-01-29</td>\n",
       "      <td>2021-05-07</td>\n",
       "      <td>Phase 2</td>\n",
       "      <td>Recruiting</td>\n",
       "    </tr>\n",
       "    <tr>\n",
       "      <th>2</th>\n",
       "      <td>Pfizer</td>\n",
       "      <td>aab-003</td>\n",
       "      <td>Pfizer</td>\n",
       "      <td>NCT01193608</td>\n",
       "      <td>2010-08-19</td>\n",
       "      <td>2013-10-31</td>\n",
       "      <td>Phase 1</td>\n",
       "      <td>Completed</td>\n",
       "    </tr>\n",
       "    <tr>\n",
       "      <th>3</th>\n",
       "      <td>AbbVie</td>\n",
       "      <td>abbv-8e12</td>\n",
       "      <td>AbbVie</td>\n",
       "      <td>NCT03712787</td>\n",
       "      <td>2018-10-18</td>\n",
       "      <td>2026-08-11</td>\n",
       "      <td>Phase 2</td>\n",
       "      <td>Enrolling by invitation</td>\n",
       "    </tr>\n",
       "    <tr>\n",
       "      <th>4</th>\n",
       "      <td>Abbott</td>\n",
       "      <td>abt-089</td>\n",
       "      <td>AbbVie</td>\n",
       "      <td>NCT00555204</td>\n",
       "      <td>2007-11-07</td>\n",
       "      <td>2009-06-30</td>\n",
       "      <td>Phase 2</td>\n",
       "      <td>Terminated</td>\n",
       "    </tr>\n",
       "    <tr>\n",
       "      <th>...</th>\n",
       "      <td>...</td>\n",
       "      <td>...</td>\n",
       "      <td>...</td>\n",
       "      <td>...</td>\n",
       "      <td>...</td>\n",
       "      <td>...</td>\n",
       "      <td>...</td>\n",
       "      <td>...</td>\n",
       "    </tr>\n",
       "    <tr>\n",
       "      <th>123</th>\n",
       "      <td>TauRx Therapeutics Ltd</td>\n",
       "      <td>trx0237</td>\n",
       "      <td>TauRx Therapeutics Ltd</td>\n",
       "      <td>NCT03446001</td>\n",
       "      <td>2018-02-08</td>\n",
       "      <td>2021-12-31</td>\n",
       "      <td>Phase 3</td>\n",
       "      <td>Recruiting</td>\n",
       "    </tr>\n",
       "    <tr>\n",
       "      <th>124</th>\n",
       "      <td>Merck Sharp &amp; Dohme Corp.</td>\n",
       "      <td>verubecestat</td>\n",
       "      <td>Merck Sharp &amp; Dohme Corp.</td>\n",
       "      <td>NCT01953601</td>\n",
       "      <td>2013-09-25</td>\n",
       "      <td>2018-04-17</td>\n",
       "      <td>Phase 3</td>\n",
       "      <td>Terminated</td>\n",
       "    </tr>\n",
       "    <tr>\n",
       "      <th>125</th>\n",
       "      <td>VIVUS, Inc.</td>\n",
       "      <td>vi-1121</td>\n",
       "      <td>VIVUS, Inc.</td>\n",
       "      <td>NCT01428362</td>\n",
       "      <td>2011-08-31</td>\n",
       "      <td>2013-08-31</td>\n",
       "      <td>Phase 2</td>\n",
       "      <td>Completed</td>\n",
       "    </tr>\n",
       "    <tr>\n",
       "      <th>126</th>\n",
       "      <td>EIP Pharma Inc</td>\n",
       "      <td>vx-745</td>\n",
       "      <td>EIP Pharma Inc</td>\n",
       "      <td>NCT02423200</td>\n",
       "      <td>2015-04-03</td>\n",
       "      <td>2016-09-30</td>\n",
       "      <td>Phase 2</td>\n",
       "      <td>Completed</td>\n",
       "    </tr>\n",
       "    <tr>\n",
       "      <th>127</th>\n",
       "      <td>Debiopharm International SA</td>\n",
       "      <td>zt-1</td>\n",
       "      <td>Debiopharm International SA</td>\n",
       "      <td>NCT00423228</td>\n",
       "      <td>2007-01-17</td>\n",
       "      <td>2009-04-30</td>\n",
       "      <td>NaN</td>\n",
       "      <td>Completed</td>\n",
       "    </tr>\n",
       "  </tbody>\n",
       "</table>\n",
       "<p>128 rows × 8 columns</p>\n",
       "</div>"
      ],
      "text/plain": [
       "                    sponsor_name     drug_name                    fixed_name  \\\n",
       "0         T3D Therapeutics, Inc.       t3d-959        T3D Therapeutics, Inc.   \n",
       "1                Genentech, Inc.     [18f]gtp1               Genentech, Inc.   \n",
       "2                         Pfizer       aab-003                        Pfizer   \n",
       "3                         AbbVie     abbv-8e12                        AbbVie   \n",
       "4                         Abbott       abt-089                        AbbVie   \n",
       "..                           ...           ...                           ...   \n",
       "123       TauRx Therapeutics Ltd       trx0237        TauRx Therapeutics Ltd   \n",
       "124    Merck Sharp & Dohme Corp.  verubecestat     Merck Sharp & Dohme Corp.   \n",
       "125                  VIVUS, Inc.       vi-1121                   VIVUS, Inc.   \n",
       "126               EIP Pharma Inc        vx-745                EIP Pharma Inc   \n",
       "127  Debiopharm International SA          zt-1   Debiopharm International SA   \n",
       "\n",
       "          nct_id  start_date completion_date    phase           overall_status  \n",
       "0    NCT04251182  2020-01-24      2021-08-13  Phase 2       Not yet recruiting  \n",
       "1    NCT03828747  2019-01-29      2021-05-07  Phase 2               Recruiting  \n",
       "2    NCT01193608  2010-08-19      2013-10-31  Phase 1                Completed  \n",
       "3    NCT03712787  2018-10-18      2026-08-11  Phase 2  Enrolling by invitation  \n",
       "4    NCT00555204  2007-11-07      2009-06-30  Phase 2               Terminated  \n",
       "..           ...         ...             ...      ...                      ...  \n",
       "123  NCT03446001  2018-02-08      2021-12-31  Phase 3               Recruiting  \n",
       "124  NCT01953601  2013-09-25      2018-04-17  Phase 3               Terminated  \n",
       "125  NCT01428362  2011-08-31      2013-08-31  Phase 2                Completed  \n",
       "126  NCT02423200  2015-04-03      2016-09-30  Phase 2                Completed  \n",
       "127  NCT00423228  2007-01-17      2009-04-30      NaN                Completed  \n",
       "\n",
       "[128 rows x 8 columns]"
      ]
     },
     "execution_count": 106,
     "metadata": {},
     "output_type": "execute_result"
    }
   ],
   "source": [
    "co_phase_drug"
   ]
  },
  {
   "cell_type": "code",
   "execution_count": 107,
   "metadata": {},
   "outputs": [],
   "source": [
    "co_phase_drug.to_csv('Alzheimer Commercial Trials.csv', index=False)"
   ]
  },
  {
   "cell_type": "code",
   "execution_count": null,
   "metadata": {},
   "outputs": [],
   "source": []
  }
 ],
 "metadata": {
  "kernelspec": {
   "display_name": "Python 3",
   "language": "python",
   "name": "python3"
  },
  "language_info": {
   "codemirror_mode": {
    "name": "ipython",
    "version": 3
   },
   "file_extension": ".py",
   "mimetype": "text/x-python",
   "name": "python",
   "nbconvert_exporter": "python",
   "pygments_lexer": "ipython3",
   "version": "3.6.9"
  }
 },
 "nbformat": 4,
 "nbformat_minor": 2
}
